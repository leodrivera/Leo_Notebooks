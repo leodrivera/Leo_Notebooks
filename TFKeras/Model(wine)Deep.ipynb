{
  "nbformat": 4,
  "nbformat_minor": 0,
  "metadata": {
    "colab": {
      "name": "Model(wine)Deep.ipynb",
      "provenance": [],
      "collapsed_sections": [],
      "authorship_tag": "ABX9TyMAyzxJSv9S5M1/MzV8AGEp",
      "include_colab_link": true
    },
    "kernelspec": {
      "name": "python3",
      "display_name": "Python 3"
    },
    "language_info": {
      "name": "python"
    }
  },
  "cells": [
    {
      "cell_type": "markdown",
      "metadata": {
        "id": "view-in-github",
        "colab_type": "text"
      },
      "source": [
        "<a href=\"https://colab.research.google.com/github/CharlesPrado23/Notebooks/blob/main/TFKeras/Model(wine)Deep.ipynb\" target=\"_parent\"><img src=\"https://colab.research.google.com/assets/colab-badge.svg\" alt=\"Open In Colab\"/></a>"
      ]
    },
    {
      "cell_type": "code",
      "metadata": {
        "id": "J9neCsw_APJ7"
      },
      "source": [
        "from keras.models import Sequential\n",
        "from keras.layers import Dense\n",
        "from tensorflow.keras import utils"
      ],
      "execution_count": null,
      "outputs": []
    },
    {
      "cell_type": "code",
      "metadata": {
        "id": "olL_O_3sIsYL",
        "colab": {
          "base_uri": "https://localhost:8080/"
        },
        "outputId": "2280dcad-47da-487b-da0a-2cd2c1097078"
      },
      "source": [
        "\n",
        "from sklearn import datasets\n",
        "wine = datasets.load_wine()\n",
        "print(wine.data.shape)\n",
        "len(wine.target_names)"
      ],
      "execution_count": null,
      "outputs": [
        {
          "output_type": "stream",
          "text": [
            "(178, 13)\n"
          ],
          "name": "stdout"
        },
        {
          "output_type": "execute_result",
          "data": {
            "text/plain": [
              "3"
            ]
          },
          "metadata": {
            "tags": []
          },
          "execution_count": 2
        }
      ]
    },
    {
      "cell_type": "code",
      "metadata": {
        "id": "fHiLO-MHW8BU"
      },
      "source": [
        "from sklearn.model_selection import train_test_split\n",
        "X_train, X_test, y_train, y_test = train_test_split(wine.data, wine.target, test_size=0.2,random_state=20)"
      ],
      "execution_count": null,
      "outputs": []
    },
    {
      "cell_type": "code",
      "metadata": {
        "id": "1w-LCkL4az1d"
      },
      "source": [
        "y_train = utils.to_categorical(y_train)\n",
        "y_test = utils.to_categorical(y_test)"
      ],
      "execution_count": null,
      "outputs": []
    },
    {
      "cell_type": "code",
      "metadata": {
        "id": "aMdjO4XzVm8k"
      },
      "source": [
        "model = Sequential()\n",
        "model.add(Dense(15, input_dim=wine.data.shape[1], activation='relu'))\n",
        "model.add(Dense(10, input_dim=15, activation='relu'))\n",
        "model.add(Dense(3, input_dim=10, activation='softmax'))\n"
      ],
      "execution_count": null,
      "outputs": []
    },
    {
      "cell_type": "code",
      "metadata": {
        "id": "4k5L_ISeWsxE",
        "colab": {
          "base_uri": "https://localhost:8080/"
        },
        "outputId": "9178e8cd-9181-4ac3-f6ae-45cea7762d94"
      },
      "source": [
        "from tensorflow.keras import optimizers\n",
        "#hyper-parameters for optimizer\n",
        "learning_rate = 0.001\n",
        "opt = optimizers.Adam(lr=learning_rate)\n",
        "\n",
        "model.compile(loss='categorical_crossentropy',\n",
        "              optimizer=opt,\n",
        "              metrics=['categorical_accuracy'])\n",
        "\n",
        "# Train the model over 50 epochs using 10-observation batches and using the test holdout dataset for validation\n",
        "num_epochs = 200\n",
        "history = model.fit(X_train, y_train, epochs=num_epochs, batch_size=10,validation_split=0.1)"
      ],
      "execution_count": null,
      "outputs": [
        {
          "output_type": "stream",
          "text": [
            "/usr/local/lib/python3.7/dist-packages/tensorflow/python/keras/optimizer_v2/optimizer_v2.py:375: UserWarning: The `lr` argument is deprecated, use `learning_rate` instead.\n",
            "  \"The `lr` argument is deprecated, use `learning_rate` instead.\")\n"
          ],
          "name": "stderr"
        },
        {
          "output_type": "stream",
          "text": [
            "Epoch 1/200\n",
            "13/13 [==============================] - 14s 42ms/step - loss: 223.6925 - categorical_accuracy: 0.2352 - val_loss: 148.3223 - val_categorical_accuracy: 0.3333\n",
            "Epoch 2/200\n",
            "13/13 [==============================] - 0s 3ms/step - loss: 168.9065 - categorical_accuracy: 0.3026 - val_loss: 113.9415 - val_categorical_accuracy: 0.3333\n",
            "Epoch 3/200\n",
            "13/13 [==============================] - 0s 4ms/step - loss: 142.4457 - categorical_accuracy: 0.2151 - val_loss: 80.3997 - val_categorical_accuracy: 0.3333\n",
            "Epoch 4/200\n",
            "13/13 [==============================] - 0s 3ms/step - loss: 88.6629 - categorical_accuracy: 0.2633 - val_loss: 48.9823 - val_categorical_accuracy: 0.3333\n",
            "Epoch 5/200\n",
            "13/13 [==============================] - 0s 3ms/step - loss: 53.0791 - categorical_accuracy: 0.2617 - val_loss: 16.7379 - val_categorical_accuracy: 0.3333\n",
            "Epoch 6/200\n",
            "13/13 [==============================] - 0s 3ms/step - loss: 17.8116 - categorical_accuracy: 0.1747 - val_loss: 5.3451 - val_categorical_accuracy: 0.3333\n",
            "Epoch 7/200\n",
            "13/13 [==============================] - 0s 3ms/step - loss: 5.3404 - categorical_accuracy: 0.4763 - val_loss: 4.4816 - val_categorical_accuracy: 0.5333\n",
            "Epoch 8/200\n",
            "13/13 [==============================] - 0s 3ms/step - loss: 3.0722 - categorical_accuracy: 0.5220 - val_loss: 2.3282 - val_categorical_accuracy: 0.4667\n",
            "Epoch 9/200\n",
            "13/13 [==============================] - 0s 3ms/step - loss: 2.4845 - categorical_accuracy: 0.3604 - val_loss: 2.4955 - val_categorical_accuracy: 0.5333\n",
            "Epoch 10/200\n",
            "13/13 [==============================] - 0s 4ms/step - loss: 2.3501 - categorical_accuracy: 0.4825 - val_loss: 2.2558 - val_categorical_accuracy: 0.6667\n",
            "Epoch 11/200\n",
            "13/13 [==============================] - 0s 3ms/step - loss: 1.8057 - categorical_accuracy: 0.5503 - val_loss: 1.8402 - val_categorical_accuracy: 0.5333\n",
            "Epoch 12/200\n",
            "13/13 [==============================] - 0s 3ms/step - loss: 1.9944 - categorical_accuracy: 0.4651 - val_loss: 2.0582 - val_categorical_accuracy: 0.6667\n",
            "Epoch 13/200\n",
            "13/13 [==============================] - 0s 3ms/step - loss: 1.8190 - categorical_accuracy: 0.5440 - val_loss: 1.7094 - val_categorical_accuracy: 0.6667\n",
            "Epoch 14/200\n",
            "13/13 [==============================] - 0s 3ms/step - loss: 1.6729 - categorical_accuracy: 0.5079 - val_loss: 1.8595 - val_categorical_accuracy: 0.6667\n",
            "Epoch 15/200\n",
            "13/13 [==============================] - 0s 3ms/step - loss: 1.6811 - categorical_accuracy: 0.5591 - val_loss: 1.5603 - val_categorical_accuracy: 0.6667\n",
            "Epoch 16/200\n",
            "13/13 [==============================] - 0s 3ms/step - loss: 1.7045 - categorical_accuracy: 0.5625 - val_loss: 1.6117 - val_categorical_accuracy: 0.4667\n",
            "Epoch 17/200\n",
            "13/13 [==============================] - 0s 4ms/step - loss: 1.5590 - categorical_accuracy: 0.4749 - val_loss: 1.4423 - val_categorical_accuracy: 0.6667\n",
            "Epoch 18/200\n",
            "13/13 [==============================] - 0s 3ms/step - loss: 1.4977 - categorical_accuracy: 0.5187 - val_loss: 1.8103 - val_categorical_accuracy: 0.6667\n",
            "Epoch 19/200\n",
            "13/13 [==============================] - 0s 4ms/step - loss: 1.5350 - categorical_accuracy: 0.6276 - val_loss: 1.3639 - val_categorical_accuracy: 0.4667\n",
            "Epoch 20/200\n",
            "13/13 [==============================] - 0s 4ms/step - loss: 1.0925 - categorical_accuracy: 0.5041 - val_loss: 1.2341 - val_categorical_accuracy: 0.6667\n",
            "Epoch 21/200\n",
            "13/13 [==============================] - 0s 3ms/step - loss: 1.0312 - categorical_accuracy: 0.6193 - val_loss: 1.1931 - val_categorical_accuracy: 0.6667\n",
            "Epoch 22/200\n",
            "13/13 [==============================] - 0s 3ms/step - loss: 1.0060 - categorical_accuracy: 0.6917 - val_loss: 1.4045 - val_categorical_accuracy: 0.4667\n",
            "Epoch 23/200\n",
            "13/13 [==============================] - 0s 3ms/step - loss: 1.2791 - categorical_accuracy: 0.4986 - val_loss: 1.1411 - val_categorical_accuracy: 0.4667\n",
            "Epoch 24/200\n",
            "13/13 [==============================] - 0s 3ms/step - loss: 1.0113 - categorical_accuracy: 0.5659 - val_loss: 1.0919 - val_categorical_accuracy: 0.6667\n",
            "Epoch 25/200\n",
            "13/13 [==============================] - 0s 5ms/step - loss: 1.0148 - categorical_accuracy: 0.5992 - val_loss: 0.7687 - val_categorical_accuracy: 0.7333\n",
            "Epoch 26/200\n",
            "13/13 [==============================] - 0s 3ms/step - loss: 0.8983 - categorical_accuracy: 0.6216 - val_loss: 1.0528 - val_categorical_accuracy: 0.6667\n",
            "Epoch 27/200\n",
            "13/13 [==============================] - 0s 4ms/step - loss: 0.6953 - categorical_accuracy: 0.7070 - val_loss: 0.6163 - val_categorical_accuracy: 0.8000\n",
            "Epoch 28/200\n",
            "13/13 [==============================] - 0s 3ms/step - loss: 0.7663 - categorical_accuracy: 0.6845 - val_loss: 0.9460 - val_categorical_accuracy: 0.6667\n",
            "Epoch 29/200\n",
            "13/13 [==============================] - 0s 3ms/step - loss: 0.6645 - categorical_accuracy: 0.7202 - val_loss: 0.6351 - val_categorical_accuracy: 0.6000\n",
            "Epoch 30/200\n",
            "13/13 [==============================] - 0s 3ms/step - loss: 0.7485 - categorical_accuracy: 0.7472 - val_loss: 0.6152 - val_categorical_accuracy: 0.6000\n",
            "Epoch 31/200\n",
            "13/13 [==============================] - 0s 3ms/step - loss: 0.7878 - categorical_accuracy: 0.6166 - val_loss: 0.5453 - val_categorical_accuracy: 0.7333\n",
            "Epoch 32/200\n",
            "13/13 [==============================] - 0s 3ms/step - loss: 0.8308 - categorical_accuracy: 0.7172 - val_loss: 0.5389 - val_categorical_accuracy: 0.8000\n",
            "Epoch 33/200\n",
            "13/13 [==============================] - 0s 4ms/step - loss: 0.5311 - categorical_accuracy: 0.8221 - val_loss: 0.4730 - val_categorical_accuracy: 0.7333\n",
            "Epoch 34/200\n",
            "13/13 [==============================] - 0s 3ms/step - loss: 0.6828 - categorical_accuracy: 0.7548 - val_loss: 0.6167 - val_categorical_accuracy: 0.7333\n",
            "Epoch 35/200\n",
            "13/13 [==============================] - 0s 3ms/step - loss: 0.5157 - categorical_accuracy: 0.7834 - val_loss: 0.4494 - val_categorical_accuracy: 0.8000\n",
            "Epoch 36/200\n",
            "13/13 [==============================] - 0s 3ms/step - loss: 0.5255 - categorical_accuracy: 0.8308 - val_loss: 0.4658 - val_categorical_accuracy: 0.7333\n",
            "Epoch 37/200\n",
            "13/13 [==============================] - 0s 4ms/step - loss: 0.5615 - categorical_accuracy: 0.7868 - val_loss: 0.5083 - val_categorical_accuracy: 0.7333\n",
            "Epoch 38/200\n",
            "13/13 [==============================] - 0s 4ms/step - loss: 0.4542 - categorical_accuracy: 0.8042 - val_loss: 0.5297 - val_categorical_accuracy: 0.7333\n",
            "Epoch 39/200\n",
            "13/13 [==============================] - 0s 3ms/step - loss: 0.4997 - categorical_accuracy: 0.8296 - val_loss: 0.3857 - val_categorical_accuracy: 0.8667\n",
            "Epoch 40/200\n",
            "13/13 [==============================] - 0s 3ms/step - loss: 0.4613 - categorical_accuracy: 0.8816 - val_loss: 0.5590 - val_categorical_accuracy: 0.7333\n",
            "Epoch 41/200\n",
            "13/13 [==============================] - 0s 3ms/step - loss: 0.5507 - categorical_accuracy: 0.7568 - val_loss: 0.2811 - val_categorical_accuracy: 1.0000\n",
            "Epoch 42/200\n",
            "13/13 [==============================] - 0s 3ms/step - loss: 0.6452 - categorical_accuracy: 0.8140 - val_loss: 0.3571 - val_categorical_accuracy: 0.8667\n",
            "Epoch 43/200\n",
            "13/13 [==============================] - 0s 3ms/step - loss: 0.4202 - categorical_accuracy: 0.8511 - val_loss: 0.3086 - val_categorical_accuracy: 0.9333\n",
            "Epoch 44/200\n",
            "13/13 [==============================] - 0s 3ms/step - loss: 0.5024 - categorical_accuracy: 0.8305 - val_loss: 0.2896 - val_categorical_accuracy: 1.0000\n",
            "Epoch 45/200\n",
            "13/13 [==============================] - 0s 3ms/step - loss: 0.5420 - categorical_accuracy: 0.7427 - val_loss: 0.4030 - val_categorical_accuracy: 0.9333\n",
            "Epoch 46/200\n",
            "13/13 [==============================] - 0s 3ms/step - loss: 0.5218 - categorical_accuracy: 0.7913 - val_loss: 0.3802 - val_categorical_accuracy: 0.8000\n",
            "Epoch 47/200\n",
            "13/13 [==============================] - 0s 3ms/step - loss: 0.4978 - categorical_accuracy: 0.8286 - val_loss: 0.3341 - val_categorical_accuracy: 0.9333\n",
            "Epoch 48/200\n",
            "13/13 [==============================] - 0s 3ms/step - loss: 0.4493 - categorical_accuracy: 0.8507 - val_loss: 0.3350 - val_categorical_accuracy: 0.8667\n",
            "Epoch 49/200\n",
            "13/13 [==============================] - 0s 3ms/step - loss: 0.4958 - categorical_accuracy: 0.7878 - val_loss: 0.3883 - val_categorical_accuracy: 0.8000\n",
            "Epoch 50/200\n",
            "13/13 [==============================] - 0s 3ms/step - loss: 0.4412 - categorical_accuracy: 0.8324 - val_loss: 0.4323 - val_categorical_accuracy: 0.8000\n",
            "Epoch 51/200\n",
            "13/13 [==============================] - 0s 3ms/step - loss: 0.5124 - categorical_accuracy: 0.8049 - val_loss: 0.2464 - val_categorical_accuracy: 0.9333\n",
            "Epoch 52/200\n",
            "13/13 [==============================] - 0s 4ms/step - loss: 0.4196 - categorical_accuracy: 0.8405 - val_loss: 0.2628 - val_categorical_accuracy: 0.9333\n",
            "Epoch 53/200\n",
            "13/13 [==============================] - 0s 3ms/step - loss: 0.4388 - categorical_accuracy: 0.8552 - val_loss: 0.2866 - val_categorical_accuracy: 0.9333\n",
            "Epoch 54/200\n",
            "13/13 [==============================] - 0s 3ms/step - loss: 0.3645 - categorical_accuracy: 0.8849 - val_loss: 0.2559 - val_categorical_accuracy: 1.0000\n",
            "Epoch 55/200\n",
            "13/13 [==============================] - 0s 4ms/step - loss: 0.3209 - categorical_accuracy: 0.9032 - val_loss: 0.2174 - val_categorical_accuracy: 1.0000\n",
            "Epoch 56/200\n",
            "13/13 [==============================] - 0s 3ms/step - loss: 0.4500 - categorical_accuracy: 0.8477 - val_loss: 0.3478 - val_categorical_accuracy: 0.9333\n",
            "Epoch 57/200\n",
            "13/13 [==============================] - 0s 3ms/step - loss: 0.3768 - categorical_accuracy: 0.8613 - val_loss: 0.2417 - val_categorical_accuracy: 0.9333\n",
            "Epoch 58/200\n",
            "13/13 [==============================] - 0s 3ms/step - loss: 0.4152 - categorical_accuracy: 0.8506 - val_loss: 0.2670 - val_categorical_accuracy: 0.9333\n",
            "Epoch 59/200\n",
            "13/13 [==============================] - 0s 3ms/step - loss: 0.3936 - categorical_accuracy: 0.8679 - val_loss: 0.2489 - val_categorical_accuracy: 0.9333\n",
            "Epoch 60/200\n",
            "13/13 [==============================] - 0s 3ms/step - loss: 0.4230 - categorical_accuracy: 0.8537 - val_loss: 0.2475 - val_categorical_accuracy: 0.9333\n",
            "Epoch 61/200\n",
            "13/13 [==============================] - 0s 3ms/step - loss: 0.3446 - categorical_accuracy: 0.8947 - val_loss: 0.2674 - val_categorical_accuracy: 0.9333\n",
            "Epoch 62/200\n",
            "13/13 [==============================] - 0s 4ms/step - loss: 0.3282 - categorical_accuracy: 0.8881 - val_loss: 0.2432 - val_categorical_accuracy: 1.0000\n",
            "Epoch 63/200\n",
            "13/13 [==============================] - 0s 4ms/step - loss: 0.3595 - categorical_accuracy: 0.8617 - val_loss: 0.2091 - val_categorical_accuracy: 1.0000\n",
            "Epoch 64/200\n",
            "13/13 [==============================] - 0s 4ms/step - loss: 0.3506 - categorical_accuracy: 0.8490 - val_loss: 0.2420 - val_categorical_accuracy: 0.9333\n",
            "Epoch 65/200\n",
            "13/13 [==============================] - 0s 4ms/step - loss: 0.3728 - categorical_accuracy: 0.8803 - val_loss: 0.2255 - val_categorical_accuracy: 1.0000\n",
            "Epoch 66/200\n",
            "13/13 [==============================] - 0s 3ms/step - loss: 0.3449 - categorical_accuracy: 0.9033 - val_loss: 0.2063 - val_categorical_accuracy: 0.9333\n",
            "Epoch 67/200\n",
            "13/13 [==============================] - 0s 3ms/step - loss: 0.4157 - categorical_accuracy: 0.8659 - val_loss: 0.2982 - val_categorical_accuracy: 0.9333\n",
            "Epoch 68/200\n",
            "13/13 [==============================] - 0s 3ms/step - loss: 0.3950 - categorical_accuracy: 0.8604 - val_loss: 0.2921 - val_categorical_accuracy: 0.9333\n",
            "Epoch 69/200\n",
            "13/13 [==============================] - 0s 3ms/step - loss: 0.3601 - categorical_accuracy: 0.8405 - val_loss: 0.2150 - val_categorical_accuracy: 1.0000\n",
            "Epoch 70/200\n",
            "13/13 [==============================] - 0s 3ms/step - loss: 0.2857 - categorical_accuracy: 0.8987 - val_loss: 0.2107 - val_categorical_accuracy: 0.9333\n",
            "Epoch 71/200\n",
            "13/13 [==============================] - 0s 4ms/step - loss: 0.3088 - categorical_accuracy: 0.8848 - val_loss: 0.2292 - val_categorical_accuracy: 0.9333\n",
            "Epoch 72/200\n",
            "13/13 [==============================] - 0s 3ms/step - loss: 0.3321 - categorical_accuracy: 0.8894 - val_loss: 0.2349 - val_categorical_accuracy: 1.0000\n",
            "Epoch 73/200\n",
            "13/13 [==============================] - 0s 3ms/step - loss: 0.3675 - categorical_accuracy: 0.8690 - val_loss: 0.2215 - val_categorical_accuracy: 0.9333\n",
            "Epoch 74/200\n",
            "13/13 [==============================] - 0s 3ms/step - loss: 0.3306 - categorical_accuracy: 0.9051 - val_loss: 0.2781 - val_categorical_accuracy: 0.8667\n",
            "Epoch 75/200\n",
            "13/13 [==============================] - 0s 3ms/step - loss: 0.3449 - categorical_accuracy: 0.8624 - val_loss: 0.1982 - val_categorical_accuracy: 0.9333\n",
            "Epoch 76/200\n",
            "13/13 [==============================] - 0s 4ms/step - loss: 0.3809 - categorical_accuracy: 0.8737 - val_loss: 0.2008 - val_categorical_accuracy: 0.9333\n",
            "Epoch 77/200\n",
            "13/13 [==============================] - 0s 4ms/step - loss: 0.4030 - categorical_accuracy: 0.8369 - val_loss: 0.1894 - val_categorical_accuracy: 0.9333\n",
            "Epoch 78/200\n",
            "13/13 [==============================] - 0s 3ms/step - loss: 0.4183 - categorical_accuracy: 0.8660 - val_loss: 0.1837 - val_categorical_accuracy: 1.0000\n",
            "Epoch 79/200\n",
            "13/13 [==============================] - 0s 3ms/step - loss: 0.3579 - categorical_accuracy: 0.8739 - val_loss: 0.2203 - val_categorical_accuracy: 1.0000\n",
            "Epoch 80/200\n",
            "13/13 [==============================] - 0s 3ms/step - loss: 0.3742 - categorical_accuracy: 0.8406 - val_loss: 0.2353 - val_categorical_accuracy: 0.9333\n",
            "Epoch 81/200\n",
            "13/13 [==============================] - 0s 3ms/step - loss: 0.4080 - categorical_accuracy: 0.8398 - val_loss: 0.2997 - val_categorical_accuracy: 0.8667\n",
            "Epoch 82/200\n",
            "13/13 [==============================] - 0s 4ms/step - loss: 0.3852 - categorical_accuracy: 0.8500 - val_loss: 0.1919 - val_categorical_accuracy: 1.0000\n",
            "Epoch 83/200\n",
            "13/13 [==============================] - 0s 4ms/step - loss: 0.3411 - categorical_accuracy: 0.8562 - val_loss: 0.1813 - val_categorical_accuracy: 0.9333\n",
            "Epoch 84/200\n",
            "13/13 [==============================] - 0s 4ms/step - loss: 0.2896 - categorical_accuracy: 0.9189 - val_loss: 0.1809 - val_categorical_accuracy: 1.0000\n",
            "Epoch 85/200\n",
            "13/13 [==============================] - 0s 4ms/step - loss: 0.3183 - categorical_accuracy: 0.9161 - val_loss: 0.1806 - val_categorical_accuracy: 0.9333\n",
            "Epoch 86/200\n",
            "13/13 [==============================] - 0s 3ms/step - loss: 0.3007 - categorical_accuracy: 0.9128 - val_loss: 0.2380 - val_categorical_accuracy: 0.9333\n",
            "Epoch 87/200\n",
            "13/13 [==============================] - 0s 3ms/step - loss: 0.3618 - categorical_accuracy: 0.8274 - val_loss: 0.1989 - val_categorical_accuracy: 1.0000\n",
            "Epoch 88/200\n",
            "13/13 [==============================] - 0s 3ms/step - loss: 0.3203 - categorical_accuracy: 0.8682 - val_loss: 0.2200 - val_categorical_accuracy: 0.9333\n",
            "Epoch 89/200\n",
            "13/13 [==============================] - 0s 3ms/step - loss: 0.2987 - categorical_accuracy: 0.9048 - val_loss: 0.1701 - val_categorical_accuracy: 0.9333\n",
            "Epoch 90/200\n",
            "13/13 [==============================] - 0s 4ms/step - loss: 0.3491 - categorical_accuracy: 0.8799 - val_loss: 0.1886 - val_categorical_accuracy: 0.9333\n",
            "Epoch 91/200\n",
            "13/13 [==============================] - 0s 4ms/step - loss: 0.2744 - categorical_accuracy: 0.9088 - val_loss: 0.3740 - val_categorical_accuracy: 0.7333\n",
            "Epoch 92/200\n",
            "13/13 [==============================] - 0s 4ms/step - loss: 0.3834 - categorical_accuracy: 0.8388 - val_loss: 0.2048 - val_categorical_accuracy: 0.9333\n",
            "Epoch 93/200\n",
            "13/13 [==============================] - 0s 5ms/step - loss: 0.3562 - categorical_accuracy: 0.8668 - val_loss: 0.1371 - val_categorical_accuracy: 1.0000\n",
            "Epoch 94/200\n",
            "13/13 [==============================] - 0s 3ms/step - loss: 0.3167 - categorical_accuracy: 0.8581 - val_loss: 0.1776 - val_categorical_accuracy: 0.9333\n",
            "Epoch 95/200\n",
            "13/13 [==============================] - 0s 3ms/step - loss: 0.3016 - categorical_accuracy: 0.8807 - val_loss: 0.1820 - val_categorical_accuracy: 0.9333\n",
            "Epoch 96/200\n",
            "13/13 [==============================] - 0s 3ms/step - loss: 0.3330 - categorical_accuracy: 0.8948 - val_loss: 0.2547 - val_categorical_accuracy: 0.9333\n",
            "Epoch 97/200\n",
            "13/13 [==============================] - 0s 4ms/step - loss: 0.2576 - categorical_accuracy: 0.8772 - val_loss: 0.1951 - val_categorical_accuracy: 0.9333\n",
            "Epoch 98/200\n",
            "13/13 [==============================] - 0s 4ms/step - loss: 0.3263 - categorical_accuracy: 0.8553 - val_loss: 0.2182 - val_categorical_accuracy: 0.9333\n",
            "Epoch 99/200\n",
            "13/13 [==============================] - 0s 4ms/step - loss: 0.3393 - categorical_accuracy: 0.8879 - val_loss: 0.2539 - val_categorical_accuracy: 0.9333\n",
            "Epoch 100/200\n",
            "13/13 [==============================] - 0s 3ms/step - loss: 0.3170 - categorical_accuracy: 0.8632 - val_loss: 0.2540 - val_categorical_accuracy: 0.8000\n",
            "Epoch 101/200\n",
            "13/13 [==============================] - 0s 3ms/step - loss: 0.3604 - categorical_accuracy: 0.8443 - val_loss: 0.1403 - val_categorical_accuracy: 1.0000\n",
            "Epoch 102/200\n",
            "13/13 [==============================] - 0s 4ms/step - loss: 0.3352 - categorical_accuracy: 0.8554 - val_loss: 0.1810 - val_categorical_accuracy: 0.9333\n",
            "Epoch 103/200\n",
            "13/13 [==============================] - 0s 3ms/step - loss: 0.3929 - categorical_accuracy: 0.8440 - val_loss: 0.1594 - val_categorical_accuracy: 0.9333\n",
            "Epoch 104/200\n",
            "13/13 [==============================] - 0s 4ms/step - loss: 0.2369 - categorical_accuracy: 0.9445 - val_loss: 0.1619 - val_categorical_accuracy: 0.9333\n",
            "Epoch 105/200\n",
            "13/13 [==============================] - 0s 3ms/step - loss: 0.3693 - categorical_accuracy: 0.8534 - val_loss: 0.1307 - val_categorical_accuracy: 1.0000\n",
            "Epoch 106/200\n",
            "13/13 [==============================] - 0s 3ms/step - loss: 0.2268 - categorical_accuracy: 0.9052 - val_loss: 0.3311 - val_categorical_accuracy: 0.9333\n",
            "Epoch 107/200\n",
            "13/13 [==============================] - 0s 4ms/step - loss: 0.3604 - categorical_accuracy: 0.8755 - val_loss: 0.2844 - val_categorical_accuracy: 0.9333\n",
            "Epoch 108/200\n",
            "13/13 [==============================] - 0s 4ms/step - loss: 0.3029 - categorical_accuracy: 0.8785 - val_loss: 0.1487 - val_categorical_accuracy: 0.9333\n",
            "Epoch 109/200\n",
            "13/13 [==============================] - 0s 3ms/step - loss: 0.2619 - categorical_accuracy: 0.8986 - val_loss: 0.1296 - val_categorical_accuracy: 1.0000\n",
            "Epoch 110/200\n",
            "13/13 [==============================] - 0s 4ms/step - loss: 0.2733 - categorical_accuracy: 0.9056 - val_loss: 0.1886 - val_categorical_accuracy: 0.9333\n",
            "Epoch 111/200\n",
            "13/13 [==============================] - 0s 4ms/step - loss: 0.3470 - categorical_accuracy: 0.8627 - val_loss: 0.1316 - val_categorical_accuracy: 1.0000\n",
            "Epoch 112/200\n",
            "13/13 [==============================] - 0s 5ms/step - loss: 0.2880 - categorical_accuracy: 0.8758 - val_loss: 0.1345 - val_categorical_accuracy: 1.0000\n",
            "Epoch 113/200\n",
            "13/13 [==============================] - 0s 4ms/step - loss: 0.3244 - categorical_accuracy: 0.8362 - val_loss: 0.1523 - val_categorical_accuracy: 0.9333\n",
            "Epoch 114/200\n",
            "13/13 [==============================] - 0s 3ms/step - loss: 0.4185 - categorical_accuracy: 0.8600 - val_loss: 0.1898 - val_categorical_accuracy: 0.9333\n",
            "Epoch 115/200\n",
            "13/13 [==============================] - 0s 3ms/step - loss: 0.3021 - categorical_accuracy: 0.8953 - val_loss: 0.1461 - val_categorical_accuracy: 0.9333\n",
            "Epoch 116/200\n",
            "13/13 [==============================] - 0s 4ms/step - loss: 0.2766 - categorical_accuracy: 0.9265 - val_loss: 0.1616 - val_categorical_accuracy: 0.9333\n",
            "Epoch 117/200\n",
            "13/13 [==============================] - 0s 4ms/step - loss: 0.2320 - categorical_accuracy: 0.9286 - val_loss: 0.2137 - val_categorical_accuracy: 0.9333\n",
            "Epoch 118/200\n",
            "13/13 [==============================] - 0s 3ms/step - loss: 0.2401 - categorical_accuracy: 0.9293 - val_loss: 0.2112 - val_categorical_accuracy: 0.9333\n",
            "Epoch 119/200\n",
            "13/13 [==============================] - 0s 3ms/step - loss: 0.3118 - categorical_accuracy: 0.8799 - val_loss: 0.3358 - val_categorical_accuracy: 0.8667\n",
            "Epoch 120/200\n",
            "13/13 [==============================] - 0s 3ms/step - loss: 0.4117 - categorical_accuracy: 0.8235 - val_loss: 0.2383 - val_categorical_accuracy: 0.9333\n",
            "Epoch 121/200\n",
            "13/13 [==============================] - 0s 4ms/step - loss: 0.2539 - categorical_accuracy: 0.8905 - val_loss: 0.1492 - val_categorical_accuracy: 0.9333\n",
            "Epoch 122/200\n",
            "13/13 [==============================] - 0s 4ms/step - loss: 0.2752 - categorical_accuracy: 0.8693 - val_loss: 0.1780 - val_categorical_accuracy: 0.9333\n",
            "Epoch 123/200\n",
            "13/13 [==============================] - 0s 3ms/step - loss: 0.3709 - categorical_accuracy: 0.8892 - val_loss: 0.1660 - val_categorical_accuracy: 0.9333\n",
            "Epoch 124/200\n",
            "13/13 [==============================] - 0s 3ms/step - loss: 0.3004 - categorical_accuracy: 0.9056 - val_loss: 0.3374 - val_categorical_accuracy: 0.8667\n",
            "Epoch 125/200\n",
            "13/13 [==============================] - 0s 3ms/step - loss: 0.5429 - categorical_accuracy: 0.8197 - val_loss: 0.1806 - val_categorical_accuracy: 0.9333\n",
            "Epoch 126/200\n",
            "13/13 [==============================] - 0s 4ms/step - loss: 0.2949 - categorical_accuracy: 0.9104 - val_loss: 0.1619 - val_categorical_accuracy: 0.9333\n",
            "Epoch 127/200\n",
            "13/13 [==============================] - 0s 3ms/step - loss: 0.2562 - categorical_accuracy: 0.9127 - val_loss: 0.1605 - val_categorical_accuracy: 0.9333\n",
            "Epoch 128/200\n",
            "13/13 [==============================] - 0s 4ms/step - loss: 0.2522 - categorical_accuracy: 0.9050 - val_loss: 0.1809 - val_categorical_accuracy: 0.9333\n",
            "Epoch 129/200\n",
            "13/13 [==============================] - 0s 3ms/step - loss: 0.3091 - categorical_accuracy: 0.9260 - val_loss: 0.1212 - val_categorical_accuracy: 1.0000\n",
            "Epoch 130/200\n",
            "13/13 [==============================] - 0s 4ms/step - loss: 0.2288 - categorical_accuracy: 0.9143 - val_loss: 0.1487 - val_categorical_accuracy: 0.9333\n",
            "Epoch 131/200\n",
            "13/13 [==============================] - 0s 3ms/step - loss: 0.3806 - categorical_accuracy: 0.8842 - val_loss: 0.3662 - val_categorical_accuracy: 0.8667\n",
            "Epoch 132/200\n",
            "13/13 [==============================] - 0s 3ms/step - loss: 0.4019 - categorical_accuracy: 0.8759 - val_loss: 0.3044 - val_categorical_accuracy: 0.8000\n",
            "Epoch 133/200\n",
            "13/13 [==============================] - 0s 4ms/step - loss: 0.2978 - categorical_accuracy: 0.8790 - val_loss: 0.1785 - val_categorical_accuracy: 0.9333\n",
            "Epoch 134/200\n",
            "13/13 [==============================] - 0s 4ms/step - loss: 0.3041 - categorical_accuracy: 0.8592 - val_loss: 0.2197 - val_categorical_accuracy: 0.9333\n",
            "Epoch 135/200\n",
            "13/13 [==============================] - 0s 5ms/step - loss: 0.3642 - categorical_accuracy: 0.8766 - val_loss: 0.1523 - val_categorical_accuracy: 0.9333\n",
            "Epoch 136/200\n",
            "13/13 [==============================] - 0s 5ms/step - loss: 0.3004 - categorical_accuracy: 0.8860 - val_loss: 0.1348 - val_categorical_accuracy: 1.0000\n",
            "Epoch 137/200\n",
            "13/13 [==============================] - 0s 3ms/step - loss: 0.2744 - categorical_accuracy: 0.9096 - val_loss: 0.1507 - val_categorical_accuracy: 0.9333\n",
            "Epoch 138/200\n",
            "13/13 [==============================] - 0s 3ms/step - loss: 0.4203 - categorical_accuracy: 0.8142 - val_loss: 0.1374 - val_categorical_accuracy: 1.0000\n",
            "Epoch 139/200\n",
            "13/13 [==============================] - 0s 4ms/step - loss: 0.3508 - categorical_accuracy: 0.8662 - val_loss: 0.1327 - val_categorical_accuracy: 0.9333\n",
            "Epoch 140/200\n",
            "13/13 [==============================] - 0s 5ms/step - loss: 0.2085 - categorical_accuracy: 0.9465 - val_loss: 0.1818 - val_categorical_accuracy: 0.9333\n",
            "Epoch 141/200\n",
            "13/13 [==============================] - 0s 4ms/step - loss: 0.2477 - categorical_accuracy: 0.9134 - val_loss: 0.1193 - val_categorical_accuracy: 1.0000\n",
            "Epoch 142/200\n",
            "13/13 [==============================] - 0s 4ms/step - loss: 0.2957 - categorical_accuracy: 0.8672 - val_loss: 0.1454 - val_categorical_accuracy: 0.9333\n",
            "Epoch 143/200\n",
            "13/13 [==============================] - 0s 3ms/step - loss: 0.2360 - categorical_accuracy: 0.8979 - val_loss: 0.1417 - val_categorical_accuracy: 0.9333\n",
            "Epoch 144/200\n",
            "13/13 [==============================] - 0s 4ms/step - loss: 0.1730 - categorical_accuracy: 0.9520 - val_loss: 0.1125 - val_categorical_accuracy: 1.0000\n",
            "Epoch 145/200\n",
            "13/13 [==============================] - 0s 4ms/step - loss: 0.2018 - categorical_accuracy: 0.9592 - val_loss: 0.1127 - val_categorical_accuracy: 1.0000\n",
            "Epoch 146/200\n",
            "13/13 [==============================] - 0s 3ms/step - loss: 0.3663 - categorical_accuracy: 0.8593 - val_loss: 0.1690 - val_categorical_accuracy: 0.9333\n",
            "Epoch 147/200\n",
            "13/13 [==============================] - 0s 3ms/step - loss: 0.2981 - categorical_accuracy: 0.8940 - val_loss: 0.1247 - val_categorical_accuracy: 1.0000\n",
            "Epoch 148/200\n",
            "13/13 [==============================] - 0s 3ms/step - loss: 0.2410 - categorical_accuracy: 0.8962 - val_loss: 0.1802 - val_categorical_accuracy: 0.9333\n",
            "Epoch 149/200\n",
            "13/13 [==============================] - 0s 4ms/step - loss: 0.2910 - categorical_accuracy: 0.8907 - val_loss: 0.1748 - val_categorical_accuracy: 0.9333\n",
            "Epoch 150/200\n",
            "13/13 [==============================] - 0s 3ms/step - loss: 0.2445 - categorical_accuracy: 0.9063 - val_loss: 0.1207 - val_categorical_accuracy: 1.0000\n",
            "Epoch 151/200\n",
            "13/13 [==============================] - 0s 4ms/step - loss: 0.3268 - categorical_accuracy: 0.8743 - val_loss: 0.1404 - val_categorical_accuracy: 1.0000\n",
            "Epoch 152/200\n",
            "13/13 [==============================] - 0s 3ms/step - loss: 0.3605 - categorical_accuracy: 0.8331 - val_loss: 0.1109 - val_categorical_accuracy: 1.0000\n",
            "Epoch 153/200\n",
            "13/13 [==============================] - 0s 4ms/step - loss: 0.2248 - categorical_accuracy: 0.8946 - val_loss: 0.1847 - val_categorical_accuracy: 0.9333\n",
            "Epoch 154/200\n",
            "13/13 [==============================] - 0s 4ms/step - loss: 0.2371 - categorical_accuracy: 0.9321 - val_loss: 0.1787 - val_categorical_accuracy: 0.8667\n",
            "Epoch 155/200\n",
            "13/13 [==============================] - 0s 4ms/step - loss: 0.2305 - categorical_accuracy: 0.9106 - val_loss: 0.1456 - val_categorical_accuracy: 0.9333\n",
            "Epoch 156/200\n",
            "13/13 [==============================] - 0s 4ms/step - loss: 0.2032 - categorical_accuracy: 0.9164 - val_loss: 0.1308 - val_categorical_accuracy: 0.9333\n",
            "Epoch 157/200\n",
            "13/13 [==============================] - 0s 3ms/step - loss: 0.2174 - categorical_accuracy: 0.8890 - val_loss: 0.1335 - val_categorical_accuracy: 1.0000\n",
            "Epoch 158/200\n",
            "13/13 [==============================] - 0s 3ms/step - loss: 0.4007 - categorical_accuracy: 0.8784 - val_loss: 0.3262 - val_categorical_accuracy: 0.9333\n",
            "Epoch 159/200\n",
            "13/13 [==============================] - 0s 4ms/step - loss: 0.2456 - categorical_accuracy: 0.9081 - val_loss: 0.2785 - val_categorical_accuracy: 0.8000\n",
            "Epoch 160/200\n",
            "13/13 [==============================] - 0s 4ms/step - loss: 0.2446 - categorical_accuracy: 0.9295 - val_loss: 0.1085 - val_categorical_accuracy: 1.0000\n",
            "Epoch 161/200\n",
            "13/13 [==============================] - 0s 4ms/step - loss: 0.3041 - categorical_accuracy: 0.8775 - val_loss: 0.1186 - val_categorical_accuracy: 1.0000\n",
            "Epoch 162/200\n",
            "13/13 [==============================] - 0s 3ms/step - loss: 0.2368 - categorical_accuracy: 0.9293 - val_loss: 0.1294 - val_categorical_accuracy: 1.0000\n",
            "Epoch 163/200\n",
            "13/13 [==============================] - 0s 4ms/step - loss: 0.2950 - categorical_accuracy: 0.8730 - val_loss: 0.1410 - val_categorical_accuracy: 0.9333\n",
            "Epoch 164/200\n",
            "13/13 [==============================] - 0s 4ms/step - loss: 0.2788 - categorical_accuracy: 0.8703 - val_loss: 0.1106 - val_categorical_accuracy: 1.0000\n",
            "Epoch 165/200\n",
            "13/13 [==============================] - 0s 3ms/step - loss: 0.2420 - categorical_accuracy: 0.9087 - val_loss: 0.0991 - val_categorical_accuracy: 1.0000\n",
            "Epoch 166/200\n",
            "13/13 [==============================] - 0s 3ms/step - loss: 0.2010 - categorical_accuracy: 0.9284 - val_loss: 0.1107 - val_categorical_accuracy: 1.0000\n",
            "Epoch 167/200\n",
            "13/13 [==============================] - 0s 4ms/step - loss: 0.2156 - categorical_accuracy: 0.9356 - val_loss: 0.0997 - val_categorical_accuracy: 1.0000\n",
            "Epoch 168/200\n",
            "13/13 [==============================] - 0s 3ms/step - loss: 0.2472 - categorical_accuracy: 0.8977 - val_loss: 0.1158 - val_categorical_accuracy: 1.0000\n",
            "Epoch 169/200\n",
            "13/13 [==============================] - 0s 3ms/step - loss: 0.3965 - categorical_accuracy: 0.8286 - val_loss: 0.1976 - val_categorical_accuracy: 0.8667\n",
            "Epoch 170/200\n",
            "13/13 [==============================] - 0s 5ms/step - loss: 0.2616 - categorical_accuracy: 0.8709 - val_loss: 0.1080 - val_categorical_accuracy: 1.0000\n",
            "Epoch 171/200\n",
            "13/13 [==============================] - 0s 3ms/step - loss: 0.1512 - categorical_accuracy: 0.9505 - val_loss: 0.1025 - val_categorical_accuracy: 1.0000\n",
            "Epoch 172/200\n",
            "13/13 [==============================] - 0s 4ms/step - loss: 0.2565 - categorical_accuracy: 0.9138 - val_loss: 0.0980 - val_categorical_accuracy: 1.0000\n",
            "Epoch 173/200\n",
            "13/13 [==============================] - 0s 4ms/step - loss: 0.1776 - categorical_accuracy: 0.9612 - val_loss: 0.1247 - val_categorical_accuracy: 0.9333\n",
            "Epoch 174/200\n",
            "13/13 [==============================] - 0s 3ms/step - loss: 0.2597 - categorical_accuracy: 0.8977 - val_loss: 0.1783 - val_categorical_accuracy: 0.9333\n",
            "Epoch 175/200\n",
            "13/13 [==============================] - 0s 4ms/step - loss: 0.3132 - categorical_accuracy: 0.8566 - val_loss: 0.1793 - val_categorical_accuracy: 0.9333\n",
            "Epoch 176/200\n",
            "13/13 [==============================] - 0s 4ms/step - loss: 0.2044 - categorical_accuracy: 0.9245 - val_loss: 0.1184 - val_categorical_accuracy: 1.0000\n",
            "Epoch 177/200\n",
            "13/13 [==============================] - 0s 4ms/step - loss: 0.2100 - categorical_accuracy: 0.9084 - val_loss: 0.1002 - val_categorical_accuracy: 1.0000\n",
            "Epoch 178/200\n",
            "13/13 [==============================] - 0s 3ms/step - loss: 0.2631 - categorical_accuracy: 0.8701 - val_loss: 0.1028 - val_categorical_accuracy: 1.0000\n",
            "Epoch 179/200\n",
            "13/13 [==============================] - 0s 4ms/step - loss: 0.2158 - categorical_accuracy: 0.9143 - val_loss: 0.1211 - val_categorical_accuracy: 1.0000\n",
            "Epoch 180/200\n",
            "13/13 [==============================] - 0s 4ms/step - loss: 0.1891 - categorical_accuracy: 0.9387 - val_loss: 0.1535 - val_categorical_accuracy: 0.9333\n",
            "Epoch 181/200\n",
            "13/13 [==============================] - 0s 4ms/step - loss: 0.2512 - categorical_accuracy: 0.8627 - val_loss: 0.1398 - val_categorical_accuracy: 0.9333\n",
            "Epoch 182/200\n",
            "13/13 [==============================] - 0s 4ms/step - loss: 0.2131 - categorical_accuracy: 0.9147 - val_loss: 0.1215 - val_categorical_accuracy: 1.0000\n",
            "Epoch 183/200\n",
            "13/13 [==============================] - 0s 4ms/step - loss: 0.1935 - categorical_accuracy: 0.9122 - val_loss: 0.1115 - val_categorical_accuracy: 1.0000\n",
            "Epoch 184/200\n",
            "13/13 [==============================] - 0s 4ms/step - loss: 0.2362 - categorical_accuracy: 0.9143 - val_loss: 0.1100 - val_categorical_accuracy: 1.0000\n",
            "Epoch 185/200\n",
            "13/13 [==============================] - 0s 3ms/step - loss: 0.2952 - categorical_accuracy: 0.9074 - val_loss: 0.1297 - val_categorical_accuracy: 0.9333\n",
            "Epoch 186/200\n",
            "13/13 [==============================] - 0s 3ms/step - loss: 0.2471 - categorical_accuracy: 0.9134 - val_loss: 0.1215 - val_categorical_accuracy: 0.9333\n",
            "Epoch 187/200\n",
            "13/13 [==============================] - 0s 4ms/step - loss: 0.2935 - categorical_accuracy: 0.8745 - val_loss: 0.2834 - val_categorical_accuracy: 0.8667\n",
            "Epoch 188/200\n",
            "13/13 [==============================] - 0s 3ms/step - loss: 0.2400 - categorical_accuracy: 0.9213 - val_loss: 0.1011 - val_categorical_accuracy: 1.0000\n",
            "Epoch 189/200\n",
            "13/13 [==============================] - 0s 5ms/step - loss: 0.2106 - categorical_accuracy: 0.9349 - val_loss: 0.1374 - val_categorical_accuracy: 0.9333\n",
            "Epoch 190/200\n",
            "13/13 [==============================] - 0s 4ms/step - loss: 0.2230 - categorical_accuracy: 0.8897 - val_loss: 0.1013 - val_categorical_accuracy: 1.0000\n",
            "Epoch 191/200\n",
            "13/13 [==============================] - 0s 3ms/step - loss: 0.3545 - categorical_accuracy: 0.8174 - val_loss: 0.1209 - val_categorical_accuracy: 0.9333\n",
            "Epoch 192/200\n",
            "13/13 [==============================] - 0s 4ms/step - loss: 0.2653 - categorical_accuracy: 0.8923 - val_loss: 0.2877 - val_categorical_accuracy: 0.9333\n",
            "Epoch 193/200\n",
            "13/13 [==============================] - 0s 3ms/step - loss: 0.2113 - categorical_accuracy: 0.9411 - val_loss: 0.0981 - val_categorical_accuracy: 1.0000\n",
            "Epoch 194/200\n",
            "13/13 [==============================] - 0s 4ms/step - loss: 0.2359 - categorical_accuracy: 0.9133 - val_loss: 0.0937 - val_categorical_accuracy: 1.0000\n",
            "Epoch 195/200\n",
            "13/13 [==============================] - 0s 3ms/step - loss: 0.2714 - categorical_accuracy: 0.8761 - val_loss: 0.1019 - val_categorical_accuracy: 1.0000\n",
            "Epoch 196/200\n",
            "13/13 [==============================] - 0s 4ms/step - loss: 0.2585 - categorical_accuracy: 0.9070 - val_loss: 0.1108 - val_categorical_accuracy: 1.0000\n",
            "Epoch 197/200\n",
            "13/13 [==============================] - 0s 3ms/step - loss: 0.1982 - categorical_accuracy: 0.9285 - val_loss: 0.1052 - val_categorical_accuracy: 1.0000\n",
            "Epoch 198/200\n",
            "13/13 [==============================] - 0s 3ms/step - loss: 0.2136 - categorical_accuracy: 0.9108 - val_loss: 0.0974 - val_categorical_accuracy: 1.0000\n",
            "Epoch 199/200\n",
            "13/13 [==============================] - 0s 4ms/step - loss: 0.2127 - categorical_accuracy: 0.9433 - val_loss: 0.1565 - val_categorical_accuracy: 0.9333\n",
            "Epoch 200/200\n",
            "13/13 [==============================] - 0s 4ms/step - loss: 0.2130 - categorical_accuracy: 0.9089 - val_loss: 0.1757 - val_categorical_accuracy: 0.9333\n"
          ],
          "name": "stdout"
        }
      ]
    },
    {
      "cell_type": "code",
      "metadata": {
        "colab": {
          "base_uri": "https://localhost:8080/"
        },
        "id": "vIAFZ19RgAld",
        "outputId": "e56f8fc4-6414-40f4-b2e6-28e138b25b73"
      },
      "source": [
        "eval = model.evaluate(X_test,y_test)"
      ],
      "execution_count": null,
      "outputs": [
        {
          "output_type": "stream",
          "text": [
            "2/2 [==============================] - 0s 6ms/step - loss: 0.0504 - categorical_accuracy: 0.9722\n"
          ],
          "name": "stdout"
        }
      ]
    },
    {
      "cell_type": "code",
      "metadata": {
        "colab": {
          "base_uri": "https://localhost:8080/"
        },
        "id": "XVrPwOfxdVvh",
        "outputId": "32b78bbd-528a-49cb-f4e7-8cc0ac6067bd"
      },
      "source": [
        "import numpy as np\n",
        "\n",
        "class_prob = model.predict(X_test)\n",
        "#predictions = np.argmax(class_prob, axis=1)\n",
        "class_prob = np.round(class_prob)\n",
        "class_prob"
      ],
      "execution_count": null,
      "outputs": [
        {
          "output_type": "execute_result",
          "data": {
            "text/plain": [
              "array([[0., 1., 0.],\n",
              "       [0., 0., 1.],\n",
              "       [1., 0., 0.],\n",
              "       [0., 1., 0.],\n",
              "       [0., 1., 0.],\n",
              "       [0., 1., 0.],\n",
              "       [0., 1., 0.],\n",
              "       [0., 1., 0.],\n",
              "       [0., 1., 0.],\n",
              "       [0., 0., 1.],\n",
              "       [1., 0., 0.],\n",
              "       [0., 0., 1.],\n",
              "       [0., 1., 0.],\n",
              "       [0., 1., 0.],\n",
              "       [1., 0., 0.],\n",
              "       [0., 1., 0.],\n",
              "       [0., 1., 0.],\n",
              "       [1., 0., 0.],\n",
              "       [1., 0., 0.],\n",
              "       [0., 0., 1.],\n",
              "       [0., 0., 1.],\n",
              "       [1., 0., 0.],\n",
              "       [0., 1., 0.],\n",
              "       [1., 0., 0.],\n",
              "       [0., 1., 0.],\n",
              "       [0., 1., 0.],\n",
              "       [1., 0., 0.],\n",
              "       [1., 0., 0.],\n",
              "       [0., 1., 0.],\n",
              "       [0., 1., 0.],\n",
              "       [0., 1., 0.],\n",
              "       [0., 1., 0.],\n",
              "       [0., 1., 0.],\n",
              "       [0., 1., 0.],\n",
              "       [1., 0., 0.],\n",
              "       [1., 0., 0.]], dtype=float32)"
            ]
          },
          "metadata": {
            "tags": []
          },
          "execution_count": 14
        }
      ]
    },
    {
      "cell_type": "code",
      "metadata": {
        "id": "iCcWe8L3gf6L"
      },
      "source": [
        "class_prob"
      ],
      "execution_count": null,
      "outputs": []
    },
    {
      "cell_type": "code",
      "metadata": {
        "colab": {
          "base_uri": "https://localhost:8080/",
          "height": 422
        },
        "id": "wsEd3qu5np5X",
        "outputId": "72468bbb-fe9a-4919-b185-45cc6e20a11b"
      },
      "source": [
        "utils.plot_model(model, \"sequential_model.png\", show_shapes=True)"
      ],
      "execution_count": null,
      "outputs": [
        {
          "output_type": "execute_result",
          "data": {
            "image/png": "[encoded data removed]",
            "text/plain": [
              "<IPython.core.display.Image object>"
            ]
          },
          "metadata": {
            "tags": []
          },
          "execution_count": 18
        }
      ]
    },
    {
      "cell_type": "code",
      "metadata": {
        "colab": {
          "base_uri": "https://localhost:8080/",
          "height": 264
        },
        "id": "z08x8zEud0q7",
        "outputId": "198edda6-57cc-4d02-ac1a-1eefabee9225"
      },
      "source": [
        "import matplotlib.pyplot as plt\n",
        "plt.plot(history.history['loss'])\n",
        "plt.plot(history.history['val_loss'])\n",
        "plt.show()"
      ],
      "execution_count": null,
      "outputs": [
        {
          "output_type": "display_data",
          "data": {
            "image/png": "[encoded data removed]",
            "text/plain": [
              "<Figure size 432x288 with 1 Axes>"
            ]
          },
          "metadata": {
            "tags": [],
            "needs_background": "light"
          }
        }
      ]
    },
    {
      "cell_type": "code",
      "metadata": {
        "id": "Zddzrd6RJ1nl"
      },
      "source": [
        "from sklearn.metrics import multilabel_confusion_matrix"
      ],
      "execution_count": null,
      "outputs": []
    },
    {
      "cell_type": "code",
      "metadata": {
        "colab": {
          "base_uri": "https://localhost:8080/"
        },
        "id": "AgBLz9BPKMGm",
        "outputId": "68fe8d49-43e0-4b97-fc29-7b7d16856df2"
      },
      "source": [
        " multilabel_confusion_matrix(y_test, class_prob)"
      ],
      "execution_count": null,
      "outputs": [
        {
          "output_type": "execute_result",
          "data": {
            "text/plain": [
              "array([[[25,  1],\n",
              "        [ 0, 10]],\n",
              "\n",
              "       [[16,  3],\n",
              "        [ 0, 17]],\n",
              "\n",
              "       [[27,  0],\n",
              "        [ 4,  5]]])"
            ]
          },
          "metadata": {
            "tags": []
          },
          "execution_count": 15
        }
      ]
    }
  ]
}