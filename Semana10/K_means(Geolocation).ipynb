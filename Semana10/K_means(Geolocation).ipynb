{
  "nbformat": 4,
  "nbformat_minor": 0,
  "metadata": {
    "colab": {
      "name": "K-means(Geolocation).ipynb",
      "provenance": [],
      "mount_file_id": "1vDnZA49t436MNVGhKbw9yNtznvY9l3Vv",
      "authorship_tag": "ABX9TyOMqj9cx1Pmh2a0zANKXQB8",
      "include_colab_link": true
    },
    "kernelspec": {
      "name": "python3",
      "display_name": "Python 3"
    },
    "language_info": {
      "name": "python"
    }
  },
  "cells": [
    {
      "cell_type": "markdown",
      "metadata": {
        "id": "view-in-github",
        "colab_type": "text"
      },
      "source": [
        "<a href=\"https://colab.research.google.com/github/CharlesPrado23/Notebooks/blob/main/Semana10/K_means(Geolocation).ipynb\" target=\"_parent\"><img src=\"https://colab.research.google.com/assets/colab-badge.svg\" alt=\"Open In Colab\"/></a>"
      ]
    },
    {
      "cell_type": "code",
      "metadata": {
        "colab": {
          "base_uri": "https://localhost:8080/"
        },
        "id": "cd4xfw-VYPIt",
        "outputId": "75085066-1934-4037-a1c1-bf0437750d7c"
      },
      "source": [
        "!unzip -o -j /content/drive/MyDrive/GPS/properties_2016.csv.zip"
      ],
      "execution_count": 1,
      "outputs": [
        {
          "output_type": "stream",
          "text": [
            "Archive:  /content/drive/MyDrive/GPS/properties_2016.csv.zip\n",
            "  inflating: properties_2016.csv     \n"
          ],
          "name": "stdout"
        }
      ]
    },
    {
      "cell_type": "code",
      "metadata": {
        "colab": {
          "base_uri": "https://localhost:8080/"
        },
        "id": "Db7nlM06YrgI",
        "outputId": "f5683d07-4950-4c8c-c00f-8b22edfd98e7"
      },
      "source": [
        "import pandas as pd\n",
        "import matplotlib.pyplot as plt\n",
        "from sklearn.cluster import KMeans\n",
        "df = pd.read_csv('properties_2016.csv')\n"
      ],
      "execution_count": 36,
      "outputs": [
        {
          "output_type": "stream",
          "text": [
            "/usr/local/lib/python3.7/dist-packages/IPython/core/interactiveshell.py:2718: DtypeWarning: Columns (22,32,34,49,55) have mixed types.Specify dtype option on import or set low_memory=False.\n",
            "  interactivity=interactivity, compiler=compiler, result=result)\n"
          ],
          "name": "stderr"
        }
      ]
    },
    {
      "cell_type": "code",
      "metadata": {
        "colab": {
          "base_uri": "https://localhost:8080/",
          "height": 224
        },
        "id": "Es-fefuxcrmX",
        "outputId": "039357ff-49d8-4056-c822-da1bd39c2aee"
      },
      "source": [
        "df.head()\n"
      ],
      "execution_count": 37,
      "outputs": [
        {
          "output_type": "execute_result",
          "data": {
            "text/html": [
              "<div>\n",
              "<style scoped>\n",
              "    .dataframe tbody tr th:only-of-type {\n",
              "        vertical-align: middle;\n",
              "    }\n",
              "\n",
              "    .dataframe tbody tr th {\n",
              "        vertical-align: top;\n",
              "    }\n",
              "\n",
              "    .dataframe thead th {\n",
              "        text-align: right;\n",
              "    }\n",
              "</style>\n",
              "<table border=\"1\" class=\"dataframe\">\n",
              "  <thead>\n",
              "    <tr style=\"text-align: right;\">\n",
              "      <th></th>\n",
              "      <th>parcelid</th>\n",
              "      <th>airconditioningtypeid</th>\n",
              "      <th>architecturalstyletypeid</th>\n",
              "      <th>basementsqft</th>\n",
              "      <th>bathroomcnt</th>\n",
              "      <th>bedroomcnt</th>\n",
              "      <th>buildingclasstypeid</th>\n",
              "      <th>buildingqualitytypeid</th>\n",
              "      <th>calculatedbathnbr</th>\n",
              "      <th>decktypeid</th>\n",
              "      <th>finishedfloor1squarefeet</th>\n",
              "      <th>calculatedfinishedsquarefeet</th>\n",
              "      <th>finishedsquarefeet12</th>\n",
              "      <th>finishedsquarefeet13</th>\n",
              "      <th>finishedsquarefeet15</th>\n",
              "      <th>finishedsquarefeet50</th>\n",
              "      <th>finishedsquarefeet6</th>\n",
              "      <th>fips</th>\n",
              "      <th>fireplacecnt</th>\n",
              "      <th>fullbathcnt</th>\n",
              "      <th>garagecarcnt</th>\n",
              "      <th>garagetotalsqft</th>\n",
              "      <th>hashottuborspa</th>\n",
              "      <th>heatingorsystemtypeid</th>\n",
              "      <th>latitude</th>\n",
              "      <th>longitude</th>\n",
              "      <th>lotsizesquarefeet</th>\n",
              "      <th>poolcnt</th>\n",
              "      <th>poolsizesum</th>\n",
              "      <th>pooltypeid10</th>\n",
              "      <th>pooltypeid2</th>\n",
              "      <th>pooltypeid7</th>\n",
              "      <th>propertycountylandusecode</th>\n",
              "      <th>propertylandusetypeid</th>\n",
              "      <th>propertyzoningdesc</th>\n",
              "      <th>rawcensustractandblock</th>\n",
              "      <th>regionidcity</th>\n",
              "      <th>regionidcounty</th>\n",
              "      <th>regionidneighborhood</th>\n",
              "      <th>regionidzip</th>\n",
              "      <th>roomcnt</th>\n",
              "      <th>storytypeid</th>\n",
              "      <th>threequarterbathnbr</th>\n",
              "      <th>typeconstructiontypeid</th>\n",
              "      <th>unitcnt</th>\n",
              "      <th>yardbuildingsqft17</th>\n",
              "      <th>yardbuildingsqft26</th>\n",
              "      <th>yearbuilt</th>\n",
              "      <th>numberofstories</th>\n",
              "      <th>fireplaceflag</th>\n",
              "      <th>structuretaxvaluedollarcnt</th>\n",
              "      <th>taxvaluedollarcnt</th>\n",
              "      <th>assessmentyear</th>\n",
              "      <th>landtaxvaluedollarcnt</th>\n",
              "      <th>taxamount</th>\n",
              "      <th>taxdelinquencyflag</th>\n",
              "      <th>taxdelinquencyyear</th>\n",
              "      <th>censustractandblock</th>\n",
              "    </tr>\n",
              "  </thead>\n",
              "  <tbody>\n",
              "    <tr>\n",
              "      <th>0</th>\n",
              "      <td>10754147</td>\n",
              "      <td>NaN</td>\n",
              "      <td>NaN</td>\n",
              "      <td>NaN</td>\n",
              "      <td>0.0</td>\n",
              "      <td>0.0</td>\n",
              "      <td>NaN</td>\n",
              "      <td>NaN</td>\n",
              "      <td>NaN</td>\n",
              "      <td>NaN</td>\n",
              "      <td>NaN</td>\n",
              "      <td>NaN</td>\n",
              "      <td>NaN</td>\n",
              "      <td>NaN</td>\n",
              "      <td>NaN</td>\n",
              "      <td>NaN</td>\n",
              "      <td>NaN</td>\n",
              "      <td>6037.0</td>\n",
              "      <td>NaN</td>\n",
              "      <td>NaN</td>\n",
              "      <td>NaN</td>\n",
              "      <td>NaN</td>\n",
              "      <td>NaN</td>\n",
              "      <td>NaN</td>\n",
              "      <td>34144442.0</td>\n",
              "      <td>-118654084.0</td>\n",
              "      <td>85768.0</td>\n",
              "      <td>NaN</td>\n",
              "      <td>NaN</td>\n",
              "      <td>NaN</td>\n",
              "      <td>NaN</td>\n",
              "      <td>NaN</td>\n",
              "      <td>010D</td>\n",
              "      <td>269.0</td>\n",
              "      <td>NaN</td>\n",
              "      <td>6.037800e+07</td>\n",
              "      <td>37688.0</td>\n",
              "      <td>3101.0</td>\n",
              "      <td>NaN</td>\n",
              "      <td>96337.0</td>\n",
              "      <td>0.0</td>\n",
              "      <td>NaN</td>\n",
              "      <td>NaN</td>\n",
              "      <td>NaN</td>\n",
              "      <td>NaN</td>\n",
              "      <td>NaN</td>\n",
              "      <td>NaN</td>\n",
              "      <td>NaN</td>\n",
              "      <td>NaN</td>\n",
              "      <td>NaN</td>\n",
              "      <td>NaN</td>\n",
              "      <td>9.0</td>\n",
              "      <td>2015.0</td>\n",
              "      <td>9.0</td>\n",
              "      <td>NaN</td>\n",
              "      <td>NaN</td>\n",
              "      <td>NaN</td>\n",
              "      <td>NaN</td>\n",
              "    </tr>\n",
              "    <tr>\n",
              "      <th>1</th>\n",
              "      <td>10759547</td>\n",
              "      <td>NaN</td>\n",
              "      <td>NaN</td>\n",
              "      <td>NaN</td>\n",
              "      <td>0.0</td>\n",
              "      <td>0.0</td>\n",
              "      <td>NaN</td>\n",
              "      <td>NaN</td>\n",
              "      <td>NaN</td>\n",
              "      <td>NaN</td>\n",
              "      <td>NaN</td>\n",
              "      <td>NaN</td>\n",
              "      <td>NaN</td>\n",
              "      <td>NaN</td>\n",
              "      <td>NaN</td>\n",
              "      <td>NaN</td>\n",
              "      <td>NaN</td>\n",
              "      <td>6037.0</td>\n",
              "      <td>NaN</td>\n",
              "      <td>NaN</td>\n",
              "      <td>NaN</td>\n",
              "      <td>NaN</td>\n",
              "      <td>NaN</td>\n",
              "      <td>NaN</td>\n",
              "      <td>34140430.0</td>\n",
              "      <td>-118625364.0</td>\n",
              "      <td>4083.0</td>\n",
              "      <td>NaN</td>\n",
              "      <td>NaN</td>\n",
              "      <td>NaN</td>\n",
              "      <td>NaN</td>\n",
              "      <td>NaN</td>\n",
              "      <td>0109</td>\n",
              "      <td>261.0</td>\n",
              "      <td>LCA11*</td>\n",
              "      <td>6.037800e+07</td>\n",
              "      <td>37688.0</td>\n",
              "      <td>3101.0</td>\n",
              "      <td>NaN</td>\n",
              "      <td>96337.0</td>\n",
              "      <td>0.0</td>\n",
              "      <td>NaN</td>\n",
              "      <td>NaN</td>\n",
              "      <td>NaN</td>\n",
              "      <td>NaN</td>\n",
              "      <td>NaN</td>\n",
              "      <td>NaN</td>\n",
              "      <td>NaN</td>\n",
              "      <td>NaN</td>\n",
              "      <td>NaN</td>\n",
              "      <td>NaN</td>\n",
              "      <td>27516.0</td>\n",
              "      <td>2015.0</td>\n",
              "      <td>27516.0</td>\n",
              "      <td>NaN</td>\n",
              "      <td>NaN</td>\n",
              "      <td>NaN</td>\n",
              "      <td>NaN</td>\n",
              "    </tr>\n",
              "    <tr>\n",
              "      <th>2</th>\n",
              "      <td>10843547</td>\n",
              "      <td>NaN</td>\n",
              "      <td>NaN</td>\n",
              "      <td>NaN</td>\n",
              "      <td>0.0</td>\n",
              "      <td>0.0</td>\n",
              "      <td>NaN</td>\n",
              "      <td>NaN</td>\n",
              "      <td>NaN</td>\n",
              "      <td>NaN</td>\n",
              "      <td>NaN</td>\n",
              "      <td>73026.0</td>\n",
              "      <td>NaN</td>\n",
              "      <td>NaN</td>\n",
              "      <td>73026.0</td>\n",
              "      <td>NaN</td>\n",
              "      <td>NaN</td>\n",
              "      <td>6037.0</td>\n",
              "      <td>NaN</td>\n",
              "      <td>NaN</td>\n",
              "      <td>NaN</td>\n",
              "      <td>NaN</td>\n",
              "      <td>NaN</td>\n",
              "      <td>NaN</td>\n",
              "      <td>33989359.0</td>\n",
              "      <td>-118394633.0</td>\n",
              "      <td>63085.0</td>\n",
              "      <td>NaN</td>\n",
              "      <td>NaN</td>\n",
              "      <td>NaN</td>\n",
              "      <td>NaN</td>\n",
              "      <td>NaN</td>\n",
              "      <td>1200</td>\n",
              "      <td>47.0</td>\n",
              "      <td>LAC2</td>\n",
              "      <td>6.037703e+07</td>\n",
              "      <td>51617.0</td>\n",
              "      <td>3101.0</td>\n",
              "      <td>NaN</td>\n",
              "      <td>96095.0</td>\n",
              "      <td>0.0</td>\n",
              "      <td>NaN</td>\n",
              "      <td>NaN</td>\n",
              "      <td>NaN</td>\n",
              "      <td>2.0</td>\n",
              "      <td>NaN</td>\n",
              "      <td>NaN</td>\n",
              "      <td>NaN</td>\n",
              "      <td>NaN</td>\n",
              "      <td>NaN</td>\n",
              "      <td>650756.0</td>\n",
              "      <td>1413387.0</td>\n",
              "      <td>2015.0</td>\n",
              "      <td>762631.0</td>\n",
              "      <td>20800.37</td>\n",
              "      <td>NaN</td>\n",
              "      <td>NaN</td>\n",
              "      <td>NaN</td>\n",
              "    </tr>\n",
              "    <tr>\n",
              "      <th>3</th>\n",
              "      <td>10859147</td>\n",
              "      <td>NaN</td>\n",
              "      <td>NaN</td>\n",
              "      <td>NaN</td>\n",
              "      <td>0.0</td>\n",
              "      <td>0.0</td>\n",
              "      <td>3.0</td>\n",
              "      <td>7.0</td>\n",
              "      <td>NaN</td>\n",
              "      <td>NaN</td>\n",
              "      <td>NaN</td>\n",
              "      <td>5068.0</td>\n",
              "      <td>NaN</td>\n",
              "      <td>NaN</td>\n",
              "      <td>5068.0</td>\n",
              "      <td>NaN</td>\n",
              "      <td>NaN</td>\n",
              "      <td>6037.0</td>\n",
              "      <td>NaN</td>\n",
              "      <td>NaN</td>\n",
              "      <td>NaN</td>\n",
              "      <td>NaN</td>\n",
              "      <td>NaN</td>\n",
              "      <td>NaN</td>\n",
              "      <td>34148863.0</td>\n",
              "      <td>-118437206.0</td>\n",
              "      <td>7521.0</td>\n",
              "      <td>NaN</td>\n",
              "      <td>NaN</td>\n",
              "      <td>NaN</td>\n",
              "      <td>NaN</td>\n",
              "      <td>NaN</td>\n",
              "      <td>1200</td>\n",
              "      <td>47.0</td>\n",
              "      <td>LAC2</td>\n",
              "      <td>6.037141e+07</td>\n",
              "      <td>12447.0</td>\n",
              "      <td>3101.0</td>\n",
              "      <td>27080.0</td>\n",
              "      <td>96424.0</td>\n",
              "      <td>0.0</td>\n",
              "      <td>NaN</td>\n",
              "      <td>NaN</td>\n",
              "      <td>NaN</td>\n",
              "      <td>NaN</td>\n",
              "      <td>NaN</td>\n",
              "      <td>NaN</td>\n",
              "      <td>1948.0</td>\n",
              "      <td>1.0</td>\n",
              "      <td>NaN</td>\n",
              "      <td>571346.0</td>\n",
              "      <td>1156834.0</td>\n",
              "      <td>2015.0</td>\n",
              "      <td>585488.0</td>\n",
              "      <td>14557.57</td>\n",
              "      <td>NaN</td>\n",
              "      <td>NaN</td>\n",
              "      <td>NaN</td>\n",
              "    </tr>\n",
              "    <tr>\n",
              "      <th>4</th>\n",
              "      <td>10879947</td>\n",
              "      <td>NaN</td>\n",
              "      <td>NaN</td>\n",
              "      <td>NaN</td>\n",
              "      <td>0.0</td>\n",
              "      <td>0.0</td>\n",
              "      <td>4.0</td>\n",
              "      <td>NaN</td>\n",
              "      <td>NaN</td>\n",
              "      <td>NaN</td>\n",
              "      <td>NaN</td>\n",
              "      <td>1776.0</td>\n",
              "      <td>NaN</td>\n",
              "      <td>NaN</td>\n",
              "      <td>1776.0</td>\n",
              "      <td>NaN</td>\n",
              "      <td>NaN</td>\n",
              "      <td>6037.0</td>\n",
              "      <td>NaN</td>\n",
              "      <td>NaN</td>\n",
              "      <td>NaN</td>\n",
              "      <td>NaN</td>\n",
              "      <td>NaN</td>\n",
              "      <td>NaN</td>\n",
              "      <td>34194168.0</td>\n",
              "      <td>-118385816.0</td>\n",
              "      <td>8512.0</td>\n",
              "      <td>NaN</td>\n",
              "      <td>NaN</td>\n",
              "      <td>NaN</td>\n",
              "      <td>NaN</td>\n",
              "      <td>NaN</td>\n",
              "      <td>1210</td>\n",
              "      <td>31.0</td>\n",
              "      <td>LAM1</td>\n",
              "      <td>6.037123e+07</td>\n",
              "      <td>12447.0</td>\n",
              "      <td>3101.0</td>\n",
              "      <td>46795.0</td>\n",
              "      <td>96450.0</td>\n",
              "      <td>0.0</td>\n",
              "      <td>NaN</td>\n",
              "      <td>NaN</td>\n",
              "      <td>NaN</td>\n",
              "      <td>1.0</td>\n",
              "      <td>NaN</td>\n",
              "      <td>NaN</td>\n",
              "      <td>1947.0</td>\n",
              "      <td>NaN</td>\n",
              "      <td>NaN</td>\n",
              "      <td>193796.0</td>\n",
              "      <td>433491.0</td>\n",
              "      <td>2015.0</td>\n",
              "      <td>239695.0</td>\n",
              "      <td>5725.17</td>\n",
              "      <td>NaN</td>\n",
              "      <td>NaN</td>\n",
              "      <td>NaN</td>\n",
              "    </tr>\n",
              "  </tbody>\n",
              "</table>\n",
              "</div>"
            ],
            "text/plain": [
              "   parcelid  airconditioningtypeid  ...  taxdelinquencyyear  censustractandblock\n",
              "0  10754147                    NaN  ...                 NaN                  NaN\n",
              "1  10759547                    NaN  ...                 NaN                  NaN\n",
              "2  10843547                    NaN  ...                 NaN                  NaN\n",
              "3  10859147                    NaN  ...                 NaN                  NaN\n",
              "4  10879947                    NaN  ...                 NaN                  NaN\n",
              "\n",
              "[5 rows x 58 columns]"
            ]
          },
          "metadata": {
            "tags": []
          },
          "execution_count": 37
        }
      ]
    },
    {
      "cell_type": "code",
      "metadata": {
        "id": "osckue6GdLn-"
      },
      "source": [
        "df.dropna(axis=0,how='any',subset=['latitude','longitude'],inplace=True)"
      ],
      "execution_count": 38,
      "outputs": []
    },
    {
      "cell_type": "code",
      "metadata": {
        "colab": {
          "base_uri": "https://localhost:8080/",
          "height": 419
        },
        "id": "5T7CaSm3emJh",
        "outputId": "2670ab35-a3d3-4cdd-9ed0-2a617ee81aea"
      },
      "source": [
        "df_filt = df.loc[:,['unitcnt','latitude','longitude']]\n",
        "df_filt"
      ],
      "execution_count": 39,
      "outputs": [
        {
          "output_type": "execute_result",
          "data": {
            "text/html": [
              "<div>\n",
              "<style scoped>\n",
              "    .dataframe tbody tr th:only-of-type {\n",
              "        vertical-align: middle;\n",
              "    }\n",
              "\n",
              "    .dataframe tbody tr th {\n",
              "        vertical-align: top;\n",
              "    }\n",
              "\n",
              "    .dataframe thead th {\n",
              "        text-align: right;\n",
              "    }\n",
              "</style>\n",
              "<table border=\"1\" class=\"dataframe\">\n",
              "  <thead>\n",
              "    <tr style=\"text-align: right;\">\n",
              "      <th></th>\n",
              "      <th>unitcnt</th>\n",
              "      <th>latitude</th>\n",
              "      <th>longitude</th>\n",
              "    </tr>\n",
              "  </thead>\n",
              "  <tbody>\n",
              "    <tr>\n",
              "      <th>0</th>\n",
              "      <td>NaN</td>\n",
              "      <td>34144442.0</td>\n",
              "      <td>-118654084.0</td>\n",
              "    </tr>\n",
              "    <tr>\n",
              "      <th>1</th>\n",
              "      <td>NaN</td>\n",
              "      <td>34140430.0</td>\n",
              "      <td>-118625364.0</td>\n",
              "    </tr>\n",
              "    <tr>\n",
              "      <th>2</th>\n",
              "      <td>2.0</td>\n",
              "      <td>33989359.0</td>\n",
              "      <td>-118394633.0</td>\n",
              "    </tr>\n",
              "    <tr>\n",
              "      <th>3</th>\n",
              "      <td>NaN</td>\n",
              "      <td>34148863.0</td>\n",
              "      <td>-118437206.0</td>\n",
              "    </tr>\n",
              "    <tr>\n",
              "      <th>4</th>\n",
              "      <td>1.0</td>\n",
              "      <td>34194168.0</td>\n",
              "      <td>-118385816.0</td>\n",
              "    </tr>\n",
              "    <tr>\n",
              "      <th>...</th>\n",
              "      <td>...</td>\n",
              "      <td>...</td>\n",
              "      <td>...</td>\n",
              "    </tr>\n",
              "    <tr>\n",
              "      <th>2973775</th>\n",
              "      <td>1.0</td>\n",
              "      <td>34769356.0</td>\n",
              "      <td>-118553521.0</td>\n",
              "    </tr>\n",
              "    <tr>\n",
              "      <th>2973776</th>\n",
              "      <td>1.0</td>\n",
              "      <td>34087735.0</td>\n",
              "      <td>-118063008.0</td>\n",
              "    </tr>\n",
              "    <tr>\n",
              "      <th>2973777</th>\n",
              "      <td>1.0</td>\n",
              "      <td>33951985.0</td>\n",
              "      <td>-118124097.0</td>\n",
              "    </tr>\n",
              "    <tr>\n",
              "      <th>2973778</th>\n",
              "      <td>1.0</td>\n",
              "      <td>34041100.0</td>\n",
              "      <td>-118234000.0</td>\n",
              "    </tr>\n",
              "    <tr>\n",
              "      <th>2973779</th>\n",
              "      <td>NaN</td>\n",
              "      <td>34080847.0</td>\n",
              "      <td>-118160178.0</td>\n",
              "    </tr>\n",
              "  </tbody>\n",
              "</table>\n",
              "<p>2973780 rows × 3 columns</p>\n",
              "</div>"
            ],
            "text/plain": [
              "         unitcnt    latitude    longitude\n",
              "0            NaN  34144442.0 -118654084.0\n",
              "1            NaN  34140430.0 -118625364.0\n",
              "2            2.0  33989359.0 -118394633.0\n",
              "3            NaN  34148863.0 -118437206.0\n",
              "4            1.0  34194168.0 -118385816.0\n",
              "...          ...         ...          ...\n",
              "2973775      1.0  34769356.0 -118553521.0\n",
              "2973776      1.0  34087735.0 -118063008.0\n",
              "2973777      1.0  33951985.0 -118124097.0\n",
              "2973778      1.0  34041100.0 -118234000.0\n",
              "2973779      NaN  34080847.0 -118160178.0\n",
              "\n",
              "[2973780 rows x 3 columns]"
            ]
          },
          "metadata": {
            "tags": []
          },
          "execution_count": 39
        }
      ]
    },
    {
      "cell_type": "code",
      "metadata": {
        "id": "2l4NgtIufjyk"
      },
      "source": [
        "\n",
        "k=3\n",
        "property_clustering = df_filt.drop(['unitcnt'],1)\n",
        "kmeans = KMeans(n_clusters = k,random_state=0).fit(property_clustering)\n",
        "kmeans.labels_\n",
        "df_filt.insert(0, 'Cluster Labels', kmeans.labels_)"
      ],
      "execution_count": 40,
      "outputs": []
    },
    {
      "cell_type": "markdown",
      "metadata": {
        "id": "zZQY-OpOlWqY"
      },
      "source": [
        "# Avaliando Clusterização usando Elbow \n",
        "\n",
        "# In cluster analysis, the elbow method is a heuristic used in determining the number of clusters in a data set. The method consists of plotting the explained variation as a function of the number of clusters, and picking the elbow of the curve as the number of clusters to use\n",
        "\n",
        "# $ minimize\\Bigg(\\sum^k_{k=1}W(C_k)\\Bigg) $\n",
        "\n",
        "# where $C_k$ is the  $ k^{th} $ cluster and $W(C_k)$ is the within-cluster variation"
      ]
    },
    {
      "cell_type": "code",
      "metadata": {
        "colab": {
          "base_uri": "https://localhost:8080/",
          "height": 295
        },
        "id": "HNCsg6TCiMIg",
        "outputId": "89b5141a-6c4a-4d99-fbea-a86b2a353b7a"
      },
      "source": [
        "K_clusters = range(1,10)\n",
        "kmeans = [KMeans(n_clusters=i) for i in K_clusters]\n",
        "Y_axis = df_filt[['latitude']]\n",
        "X_axis = df_filt[['longitude']]\n",
        "score = [kmeans[i].fit(property_clustering).score(property_clustering) for i in range(len(kmeans))]\n",
        "# Visualize\n",
        "plt.plot(K_clusters, score)\n",
        "plt.xlabel('Number of Clusters')\n",
        "plt.ylabel('Score')\n",
        "plt.title('Elbow Curve')\n",
        "plt.show()"
      ],
      "execution_count": 34,
      "outputs": [
        {
          "output_type": "display_data",
          "data": {
            "image/png": "[encoded data removed]",
            "text/plain": [
              "<Figure size 432x288 with 1 Axes>"
            ]
          },
          "metadata": {
            "tags": [],
            "needs_background": "light"
          }
        }
      ]
    },
    {
      "cell_type": "code",
      "metadata": {
        "colab": {
          "base_uri": "https://localhost:8080/"
        },
        "id": "KP1wYqk2qanl",
        "outputId": "4e6c1d93-594d-4f96-c369-075f5e07bc24"
      },
      "source": [
        "from sklearn.metrics import silhouette_score\n",
        "silh_df = property_clustering.iloc[1:20000,:]\n",
        "for i in range(2,5):\n",
        "  kmeans_ = KMeans(n_clusters=i).fit(silh_df)\n",
        "  labels_ = kmeans_.labels_\n",
        "  coef = silhouette_score(silh_df,labels_)\n",
        "  \n",
        "  print(\"N_cluster: {}, score: {}\".format(i,coef))"
      ],
      "execution_count": 42,
      "outputs": [
        {
          "output_type": "stream",
          "text": [
            "N_cluster: 2, score: 0.42298374368238195\n",
            "N_cluster: 3, score: 0.4377830520289022\n",
            "N_cluster: 4, score: 0.4101052983670851\n"
          ],
          "name": "stdout"
        }
      ]
    },
    {
      "cell_type": "code",
      "metadata": {
        "colab": {
          "base_uri": "https://localhost:8080/",
          "height": 419
        },
        "id": "2zqw4NOrgiJ2",
        "outputId": "083cc919-9cda-4383-d6a8-b4ffd0f3a884"
      },
      "source": [
        "df_filt"
      ],
      "execution_count": 43,
      "outputs": [
        {
          "output_type": "execute_result",
          "data": {
            "text/html": [
              "<div>\n",
              "<style scoped>\n",
              "    .dataframe tbody tr th:only-of-type {\n",
              "        vertical-align: middle;\n",
              "    }\n",
              "\n",
              "    .dataframe tbody tr th {\n",
              "        vertical-align: top;\n",
              "    }\n",
              "\n",
              "    .dataframe thead th {\n",
              "        text-align: right;\n",
              "    }\n",
              "</style>\n",
              "<table border=\"1\" class=\"dataframe\">\n",
              "  <thead>\n",
              "    <tr style=\"text-align: right;\">\n",
              "      <th></th>\n",
              "      <th>Cluster Labels</th>\n",
              "      <th>unitcnt</th>\n",
              "      <th>latitude</th>\n",
              "      <th>longitude</th>\n",
              "    </tr>\n",
              "  </thead>\n",
              "  <tbody>\n",
              "    <tr>\n",
              "      <th>0</th>\n",
              "      <td>2</td>\n",
              "      <td>NaN</td>\n",
              "      <td>34144442.0</td>\n",
              "      <td>-118654084.0</td>\n",
              "    </tr>\n",
              "    <tr>\n",
              "      <th>1</th>\n",
              "      <td>2</td>\n",
              "      <td>NaN</td>\n",
              "      <td>34140430.0</td>\n",
              "      <td>-118625364.0</td>\n",
              "    </tr>\n",
              "    <tr>\n",
              "      <th>2</th>\n",
              "      <td>0</td>\n",
              "      <td>2.0</td>\n",
              "      <td>33989359.0</td>\n",
              "      <td>-118394633.0</td>\n",
              "    </tr>\n",
              "    <tr>\n",
              "      <th>3</th>\n",
              "      <td>0</td>\n",
              "      <td>NaN</td>\n",
              "      <td>34148863.0</td>\n",
              "      <td>-118437206.0</td>\n",
              "    </tr>\n",
              "    <tr>\n",
              "      <th>4</th>\n",
              "      <td>0</td>\n",
              "      <td>1.0</td>\n",
              "      <td>34194168.0</td>\n",
              "      <td>-118385816.0</td>\n",
              "    </tr>\n",
              "    <tr>\n",
              "      <th>...</th>\n",
              "      <td>...</td>\n",
              "      <td>...</td>\n",
              "      <td>...</td>\n",
              "      <td>...</td>\n",
              "    </tr>\n",
              "    <tr>\n",
              "      <th>2973775</th>\n",
              "      <td>2</td>\n",
              "      <td>1.0</td>\n",
              "      <td>34769356.0</td>\n",
              "      <td>-118553521.0</td>\n",
              "    </tr>\n",
              "    <tr>\n",
              "      <th>2973776</th>\n",
              "      <td>0</td>\n",
              "      <td>1.0</td>\n",
              "      <td>34087735.0</td>\n",
              "      <td>-118063008.0</td>\n",
              "    </tr>\n",
              "    <tr>\n",
              "      <th>2973777</th>\n",
              "      <td>0</td>\n",
              "      <td>1.0</td>\n",
              "      <td>33951985.0</td>\n",
              "      <td>-118124097.0</td>\n",
              "    </tr>\n",
              "    <tr>\n",
              "      <th>2973778</th>\n",
              "      <td>0</td>\n",
              "      <td>1.0</td>\n",
              "      <td>34041100.0</td>\n",
              "      <td>-118234000.0</td>\n",
              "    </tr>\n",
              "    <tr>\n",
              "      <th>2973779</th>\n",
              "      <td>0</td>\n",
              "      <td>NaN</td>\n",
              "      <td>34080847.0</td>\n",
              "      <td>-118160178.0</td>\n",
              "    </tr>\n",
              "  </tbody>\n",
              "</table>\n",
              "<p>2973780 rows × 4 columns</p>\n",
              "</div>"
            ],
            "text/plain": [
              "         Cluster Labels  unitcnt    latitude    longitude\n",
              "0                     2      NaN  34144442.0 -118654084.0\n",
              "1                     2      NaN  34140430.0 -118625364.0\n",
              "2                     0      2.0  33989359.0 -118394633.0\n",
              "3                     0      NaN  34148863.0 -118437206.0\n",
              "4                     0      1.0  34194168.0 -118385816.0\n",
              "...                 ...      ...         ...          ...\n",
              "2973775               2      1.0  34769356.0 -118553521.0\n",
              "2973776               0      1.0  34087735.0 -118063008.0\n",
              "2973777               0      1.0  33951985.0 -118124097.0\n",
              "2973778               0      1.0  34041100.0 -118234000.0\n",
              "2973779               0      NaN  34080847.0 -118160178.0\n",
              "\n",
              "[2973780 rows x 4 columns]"
            ]
          },
          "metadata": {
            "tags": []
          },
          "execution_count": 43
        }
      ]
    },
    {
      "cell_type": "code",
      "metadata": {
        "colab": {
          "base_uri": "https://localhost:8080/",
          "height": 289
        },
        "id": "RaJZ5xgxgyfJ",
        "outputId": "0f39a2e1-6935-438a-fc58-a7ecdfad4062"
      },
      "source": [
        "\n",
        "centers = kmeans.cluster_centers_\n",
        "labels  = kmeans.labels_\n",
        "df_filt.plot.scatter(x = 'latitude', y = 'longitude', c=labels, s=50, cmap='viridis')\n",
        "plt.scatter(centers[:, 0], centers[:, 1], c='black', s=200, alpha=0.5)"
      ],
      "execution_count": 44,
      "outputs": [
        {
          "output_type": "execute_result",
          "data": {
            "text/plain": [
              "<matplotlib.collections.PathCollection at 0x7f626dcc5a90>"
            ]
          },
          "metadata": {
            "tags": []
          },
          "execution_count": 44
        },
        {
          "output_type": "display_data",
          "data": {
            "image/png": "[encoded data removed]",
            "text/plain": [
              "<Figure size 432x288 with 2 Axes>"
            ]
          },
          "metadata": {
            "tags": [],
            "needs_background": "light"
          }
        }
      ]
    },
    {
      "cell_type": "code",
      "metadata": {
        "id": "89cW2fAwi4dj"
      },
      "source": [
        "\n",
        "df6 = df_filt.groupby('Cluster Labels')['unitcnt'].mean()"
      ],
      "execution_count": 45,
      "outputs": []
    },
    {
      "cell_type": "code",
      "metadata": {
        "colab": {
          "base_uri": "https://localhost:8080/"
        },
        "id": "Z33e98Tii_rs",
        "outputId": "c5f63cb2-d00a-4159-f3b5-1418887ffad9"
      },
      "source": [
        "df6.head()"
      ],
      "execution_count": 46,
      "outputs": [
        {
          "output_type": "execute_result",
          "data": {
            "text/plain": [
              "Cluster Labels\n",
              "0    1.200309\n",
              "1    1.183078\n",
              "2    1.046109\n",
              "Name: unitcnt, dtype: float64"
            ]
          },
          "metadata": {
            "tags": []
          },
          "execution_count": 46
        }
      ]
    }
  ]
}