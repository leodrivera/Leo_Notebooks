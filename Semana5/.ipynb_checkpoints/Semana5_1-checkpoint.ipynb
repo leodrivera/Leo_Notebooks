{
 "cells": [
  {
   "cell_type": "code",
   "execution_count": 1,
   "metadata": {},
   "outputs": [],
   "source": [
    "import pandas as pd\n",
    "import sqlite3 as sql"
   ]
  },
  {
   "cell_type": "code",
   "execution_count": 2,
   "metadata": {},
   "outputs": [],
   "source": [
    "engine = sql.connect('temp1000.db')\n",
    "cursor= engine.cursor() "
   ]
  },
  {
   "cell_type": "code",
   "execution_count": 3,
   "metadata": {},
   "outputs": [],
   "source": [
    "url = \"https://raw.github.com/pandas-dev/pandas/master/pandas/tests/io/data/csv/tips.csv\"\n",
    "tips = pd.read_csv(url)"
   ]
  },
  {
   "cell_type": "code",
   "execution_count": 4,
   "metadata": {},
   "outputs": [],
   "source": [
    "tips.to_sql('tipsDB', con=engine)"
   ]
  },
  {
   "cell_type": "code",
   "execution_count": 5,
   "metadata": {},
   "outputs": [
    {
     "data": {
      "text/plain": [
       "[(0, 16.99, 1.01, 'Female', 'No', 'Sun', 'Dinner', 2),\n",
       " (1, 10.34, 1.66, 'Male', 'No', 'Sun', 'Dinner', 3),\n",
       " (2, 21.01, 3.5, 'Male', 'No', 'Sun', 'Dinner', 3),\n",
       " (3, 23.68, 3.31, 'Male', 'No', 'Sun', 'Dinner', 2),\n",
       " (4, 24.59, 3.61, 'Female', 'No', 'Sun', 'Dinner', 4)]"
      ]
     },
     "execution_count": 5,
     "metadata": {},
     "output_type": "execute_result"
    }
   ],
   "source": [
    "cursor.execute('select * from tipsDB LIMIT 5').fetchall()"
   ]
  },
  {
   "cell_type": "code",
   "execution_count": 6,
   "metadata": {},
   "outputs": [
    {
     "data": {
      "text/html": [
       "<div>\n",
       "<style scoped>\n",
       "    .dataframe tbody tr th:only-of-type {\n",
       "        vertical-align: middle;\n",
       "    }\n",
       "\n",
       "    .dataframe tbody tr th {\n",
       "        vertical-align: top;\n",
       "    }\n",
       "\n",
       "    .dataframe thead th {\n",
       "        text-align: right;\n",
       "    }\n",
       "</style>\n",
       "<table border=\"1\" class=\"dataframe\">\n",
       "  <thead>\n",
       "    <tr style=\"text-align: right;\">\n",
       "      <th></th>\n",
       "      <th>total_bill</th>\n",
       "      <th>tip</th>\n",
       "      <th>sex</th>\n",
       "      <th>smoker</th>\n",
       "      <th>day</th>\n",
       "      <th>time</th>\n",
       "      <th>size</th>\n",
       "    </tr>\n",
       "  </thead>\n",
       "  <tbody>\n",
       "    <tr>\n",
       "      <th>0</th>\n",
       "      <td>16.99</td>\n",
       "      <td>1.01</td>\n",
       "      <td>Female</td>\n",
       "      <td>No</td>\n",
       "      <td>Sun</td>\n",
       "      <td>Dinner</td>\n",
       "      <td>2</td>\n",
       "    </tr>\n",
       "    <tr>\n",
       "      <th>1</th>\n",
       "      <td>10.34</td>\n",
       "      <td>1.66</td>\n",
       "      <td>Male</td>\n",
       "      <td>No</td>\n",
       "      <td>Sun</td>\n",
       "      <td>Dinner</td>\n",
       "      <td>3</td>\n",
       "    </tr>\n",
       "    <tr>\n",
       "      <th>2</th>\n",
       "      <td>21.01</td>\n",
       "      <td>3.50</td>\n",
       "      <td>Male</td>\n",
       "      <td>No</td>\n",
       "      <td>Sun</td>\n",
       "      <td>Dinner</td>\n",
       "      <td>3</td>\n",
       "    </tr>\n",
       "    <tr>\n",
       "      <th>3</th>\n",
       "      <td>23.68</td>\n",
       "      <td>3.31</td>\n",
       "      <td>Male</td>\n",
       "      <td>No</td>\n",
       "      <td>Sun</td>\n",
       "      <td>Dinner</td>\n",
       "      <td>2</td>\n",
       "    </tr>\n",
       "    <tr>\n",
       "      <th>4</th>\n",
       "      <td>24.59</td>\n",
       "      <td>3.61</td>\n",
       "      <td>Female</td>\n",
       "      <td>No</td>\n",
       "      <td>Sun</td>\n",
       "      <td>Dinner</td>\n",
       "      <td>4</td>\n",
       "    </tr>\n",
       "  </tbody>\n",
       "</table>\n",
       "</div>"
      ],
      "text/plain": [
       "   total_bill   tip     sex smoker  day    time  size\n",
       "0       16.99  1.01  Female     No  Sun  Dinner     2\n",
       "1       10.34  1.66    Male     No  Sun  Dinner     3\n",
       "2       21.01  3.50    Male     No  Sun  Dinner     3\n",
       "3       23.68  3.31    Male     No  Sun  Dinner     2\n",
       "4       24.59  3.61  Female     No  Sun  Dinner     4"
      ]
     },
     "execution_count": 6,
     "metadata": {},
     "output_type": "execute_result"
    }
   ],
   "source": [
    "tips.head()"
   ]
  },
  {
   "cell_type": "code",
   "execution_count": 7,
   "metadata": {},
   "outputs": [
    {
     "data": {
      "text/plain": [
       "Index(['total_bill', 'tip', 'sex', 'smoker', 'day', 'time', 'size'], dtype='object')"
      ]
     },
     "execution_count": 7,
     "metadata": {},
     "output_type": "execute_result"
    }
   ],
   "source": [
    "tips.columns"
   ]
  },
  {
   "cell_type": "code",
   "execution_count": 8,
   "metadata": {},
   "outputs": [
    {
     "data": {
      "text/plain": [
       "[(0, 'index', 'INTEGER', 0, None, 0),\n",
       " (1, 'total_bill', 'REAL', 0, None, 0),\n",
       " (2, 'tip', 'REAL', 0, None, 0),\n",
       " (3, 'sex', 'TEXT', 0, None, 0),\n",
       " (4, 'smoker', 'TEXT', 0, None, 0),\n",
       " (5, 'day', 'TEXT', 0, None, 0),\n",
       " (6, 'time', 'TEXT', 0, None, 0),\n",
       " (7, 'size', 'INTEGER', 0, None, 0)]"
      ]
     },
     "execution_count": 8,
     "metadata": {},
     "output_type": "execute_result"
    }
   ],
   "source": [
    "cursor.execute('PRAGMA table_info(tipsDB)').fetchall()"
   ]
  },
  {
   "cell_type": "code",
   "execution_count": 9,
   "metadata": {},
   "outputs": [
    {
     "name": "stdout",
     "output_type": "stream",
     "text": [
      "<class 'pandas.core.frame.DataFrame'>\n",
      "RangeIndex: 244 entries, 0 to 243\n",
      "Data columns (total 7 columns):\n",
      " #   Column      Non-Null Count  Dtype  \n",
      "---  ------      --------------  -----  \n",
      " 0   total_bill  244 non-null    float64\n",
      " 1   tip         244 non-null    float64\n",
      " 2   sex         244 non-null    object \n",
      " 3   smoker      244 non-null    object \n",
      " 4   day         244 non-null    object \n",
      " 5   time        244 non-null    object \n",
      " 6   size        244 non-null    int64  \n",
      "dtypes: float64(2), int64(1), object(4)\n",
      "memory usage: 13.5+ KB\n"
     ]
    }
   ],
   "source": [
    "tips.info()"
   ]
  },
  {
   "cell_type": "code",
   "execution_count": 10,
   "metadata": {},
   "outputs": [
    {
     "data": {
      "text/plain": [
       "0      <class 'str'>\n",
       "1      <class 'str'>\n",
       "2      <class 'str'>\n",
       "3      <class 'str'>\n",
       "4      <class 'str'>\n",
       "           ...      \n",
       "239    <class 'str'>\n",
       "240    <class 'str'>\n",
       "241    <class 'str'>\n",
       "242    <class 'str'>\n",
       "243    <class 'str'>\n",
       "Name: smoker, Length: 244, dtype: object"
      ]
     },
     "execution_count": 10,
     "metadata": {},
     "output_type": "execute_result"
    }
   ],
   "source": [
    "tips.smoker.map(type)"
   ]
  },
  {
   "cell_type": "code",
   "execution_count": 11,
   "metadata": {},
   "outputs": [
    {
     "data": {
      "text/plain": [
       "[(16.99, 1.01, 'No', 'Dinner'),\n",
       " (10.34, 1.66, 'No', 'Dinner'),\n",
       " (21.01, 3.5, 'No', 'Dinner'),\n",
       " (23.68, 3.31, 'No', 'Dinner'),\n",
       " (24.59, 3.61, 'No', 'Dinner')]"
      ]
     },
     "execution_count": 11,
     "metadata": {},
     "output_type": "execute_result"
    }
   ],
   "source": [
    "sql_select = 'SELECT total_bill, tip, smoker, time\\\n",
    "              FROM tipsDB\\\n",
    "              LIMIT 5'\n",
    "cursor.execute(sql_select).fetchall()"
   ]
  },
  {
   "cell_type": "code",
   "execution_count": 12,
   "metadata": {},
   "outputs": [
    {
     "data": {
      "text/html": [
       "<div>\n",
       "<style scoped>\n",
       "    .dataframe tbody tr th:only-of-type {\n",
       "        vertical-align: middle;\n",
       "    }\n",
       "\n",
       "    .dataframe tbody tr th {\n",
       "        vertical-align: top;\n",
       "    }\n",
       "\n",
       "    .dataframe thead th {\n",
       "        text-align: right;\n",
       "    }\n",
       "</style>\n",
       "<table border=\"1\" class=\"dataframe\">\n",
       "  <thead>\n",
       "    <tr style=\"text-align: right;\">\n",
       "      <th></th>\n",
       "      <th>total_bill</th>\n",
       "      <th>tip</th>\n",
       "      <th>smoker</th>\n",
       "      <th>time</th>\n",
       "    </tr>\n",
       "  </thead>\n",
       "  <tbody>\n",
       "    <tr>\n",
       "      <th>0</th>\n",
       "      <td>16.99</td>\n",
       "      <td>1.01</td>\n",
       "      <td>No</td>\n",
       "      <td>Dinner</td>\n",
       "    </tr>\n",
       "    <tr>\n",
       "      <th>1</th>\n",
       "      <td>10.34</td>\n",
       "      <td>1.66</td>\n",
       "      <td>No</td>\n",
       "      <td>Dinner</td>\n",
       "    </tr>\n",
       "    <tr>\n",
       "      <th>2</th>\n",
       "      <td>21.01</td>\n",
       "      <td>3.50</td>\n",
       "      <td>No</td>\n",
       "      <td>Dinner</td>\n",
       "    </tr>\n",
       "    <tr>\n",
       "      <th>3</th>\n",
       "      <td>23.68</td>\n",
       "      <td>3.31</td>\n",
       "      <td>No</td>\n",
       "      <td>Dinner</td>\n",
       "    </tr>\n",
       "    <tr>\n",
       "      <th>4</th>\n",
       "      <td>24.59</td>\n",
       "      <td>3.61</td>\n",
       "      <td>No</td>\n",
       "      <td>Dinner</td>\n",
       "    </tr>\n",
       "  </tbody>\n",
       "</table>\n",
       "</div>"
      ],
      "text/plain": [
       "   total_bill   tip smoker    time\n",
       "0       16.99  1.01     No  Dinner\n",
       "1       10.34  1.66     No  Dinner\n",
       "2       21.01  3.50     No  Dinner\n",
       "3       23.68  3.31     No  Dinner\n",
       "4       24.59  3.61     No  Dinner"
      ]
     },
     "execution_count": 12,
     "metadata": {},
     "output_type": "execute_result"
    }
   ],
   "source": [
    "tips[['total_bill','tip','smoker','time']].head()"
   ]
  },
  {
   "cell_type": "code",
   "execution_count": 13,
   "metadata": {},
   "outputs": [
    {
     "name": "stdout",
     "output_type": "stream",
     "text": [
      "['index', 'total_bill', 'tip', 'sex', 'smoker', 'day', 'time', 'size', 'tip_rate']\n",
      "(0, 16.99, 1.01, 'Female', 'No', 'Sun', 'Dinner', 2, 0.05944673337257211)\n",
      "(1, 10.34, 1.66, 'Male', 'No', 'Sun', 'Dinner', 3, 0.16054158607350097)\n",
      "(2, 21.01, 3.5, 'Male', 'No', 'Sun', 'Dinner', 3, 0.16658733936220846)\n",
      "(3, 23.68, 3.31, 'Male', 'No', 'Sun', 'Dinner', 2, 0.1397804054054054)\n",
      "(4, 24.59, 3.61, 'Female', 'No', 'Sun', 'Dinner', 4, 0.14680764538430255)\n"
     ]
    }
   ],
   "source": [
    "sql_select = 'SELECT *, tip/total_bill as tip_rate\\\n",
    "                FROM tipsDB\\\n",
    "                LIMIT 5'\n",
    "cursor.execute(sql_select)\n",
    "cl_names = []\n",
    "for x in cursor.description: \n",
    "    cl_names.append(x[0])\n",
    "\n",
    "\n",
    "print(cl_names)\n",
    "for row in cursor.fetchall():\n",
    "    print(row)\n"
   ]
  },
  {
   "cell_type": "code",
   "execution_count": 14,
   "metadata": {},
   "outputs": [
    {
     "data": {
      "text/html": [
       "<div>\n",
       "<style scoped>\n",
       "    .dataframe tbody tr th:only-of-type {\n",
       "        vertical-align: middle;\n",
       "    }\n",
       "\n",
       "    .dataframe tbody tr th {\n",
       "        vertical-align: top;\n",
       "    }\n",
       "\n",
       "    .dataframe thead th {\n",
       "        text-align: right;\n",
       "    }\n",
       "</style>\n",
       "<table border=\"1\" class=\"dataframe\">\n",
       "  <thead>\n",
       "    <tr style=\"text-align: right;\">\n",
       "      <th></th>\n",
       "      <th>total_bill</th>\n",
       "      <th>tip</th>\n",
       "      <th>sex</th>\n",
       "      <th>smoker</th>\n",
       "      <th>day</th>\n",
       "      <th>time</th>\n",
       "      <th>size</th>\n",
       "      <th>tip_rate</th>\n",
       "    </tr>\n",
       "  </thead>\n",
       "  <tbody>\n",
       "    <tr>\n",
       "      <th>0</th>\n",
       "      <td>16.99</td>\n",
       "      <td>1.01</td>\n",
       "      <td>Female</td>\n",
       "      <td>No</td>\n",
       "      <td>Sun</td>\n",
       "      <td>Dinner</td>\n",
       "      <td>2</td>\n",
       "      <td>0.059447</td>\n",
       "    </tr>\n",
       "    <tr>\n",
       "      <th>1</th>\n",
       "      <td>10.34</td>\n",
       "      <td>1.66</td>\n",
       "      <td>Male</td>\n",
       "      <td>No</td>\n",
       "      <td>Sun</td>\n",
       "      <td>Dinner</td>\n",
       "      <td>3</td>\n",
       "      <td>0.160542</td>\n",
       "    </tr>\n",
       "    <tr>\n",
       "      <th>2</th>\n",
       "      <td>21.01</td>\n",
       "      <td>3.50</td>\n",
       "      <td>Male</td>\n",
       "      <td>No</td>\n",
       "      <td>Sun</td>\n",
       "      <td>Dinner</td>\n",
       "      <td>3</td>\n",
       "      <td>0.166587</td>\n",
       "    </tr>\n",
       "    <tr>\n",
       "      <th>3</th>\n",
       "      <td>23.68</td>\n",
       "      <td>3.31</td>\n",
       "      <td>Male</td>\n",
       "      <td>No</td>\n",
       "      <td>Sun</td>\n",
       "      <td>Dinner</td>\n",
       "      <td>2</td>\n",
       "      <td>0.139780</td>\n",
       "    </tr>\n",
       "    <tr>\n",
       "      <th>4</th>\n",
       "      <td>24.59</td>\n",
       "      <td>3.61</td>\n",
       "      <td>Female</td>\n",
       "      <td>No</td>\n",
       "      <td>Sun</td>\n",
       "      <td>Dinner</td>\n",
       "      <td>4</td>\n",
       "      <td>0.146808</td>\n",
       "    </tr>\n",
       "  </tbody>\n",
       "</table>\n",
       "</div>"
      ],
      "text/plain": [
       "   total_bill   tip     sex smoker  day    time  size  tip_rate\n",
       "0       16.99  1.01  Female     No  Sun  Dinner     2  0.059447\n",
       "1       10.34  1.66    Male     No  Sun  Dinner     3  0.160542\n",
       "2       21.01  3.50    Male     No  Sun  Dinner     3  0.166587\n",
       "3       23.68  3.31    Male     No  Sun  Dinner     2  0.139780\n",
       "4       24.59  3.61  Female     No  Sun  Dinner     4  0.146808"
      ]
     },
     "execution_count": 14,
     "metadata": {},
     "output_type": "execute_result"
    }
   ],
   "source": [
    "tips.assign(tip_rate=tips[\"tip\"] / tips[\"total_bill\"]).head(5)"
   ]
  },
  {
   "cell_type": "code",
   "execution_count": 15,
   "metadata": {},
   "outputs": [
    {
     "data": {
      "text/plain": [
       "[(0, 16.99, 1.01, 'Female', 'No', 'Sun', 'Dinner', 2),\n",
       " (1, 10.34, 1.66, 'Male', 'No', 'Sun', 'Dinner', 3),\n",
       " (2, 21.01, 3.5, 'Male', 'No', 'Sun', 'Dinner', 3),\n",
       " (3, 23.68, 3.31, 'Male', 'No', 'Sun', 'Dinner', 2),\n",
       " (4, 24.59, 3.61, 'Female', 'No', 'Sun', 'Dinner', 4)]"
      ]
     },
     "execution_count": 15,
     "metadata": {},
     "output_type": "execute_result"
    }
   ],
   "source": [
    "### WHERE ####3\n",
    "sql_filter = 'SELECT * FROM tipsDB WHERE time = \"Dinner\" LIMIT 5'\n",
    "cursor.execute(sql_filter).fetchall()"
   ]
  },
  {
   "cell_type": "code",
   "execution_count": 16,
   "metadata": {},
   "outputs": [
    {
     "data": {
      "text/html": [
       "<div>\n",
       "<style scoped>\n",
       "    .dataframe tbody tr th:only-of-type {\n",
       "        vertical-align: middle;\n",
       "    }\n",
       "\n",
       "    .dataframe tbody tr th {\n",
       "        vertical-align: top;\n",
       "    }\n",
       "\n",
       "    .dataframe thead th {\n",
       "        text-align: right;\n",
       "    }\n",
       "</style>\n",
       "<table border=\"1\" class=\"dataframe\">\n",
       "  <thead>\n",
       "    <tr style=\"text-align: right;\">\n",
       "      <th></th>\n",
       "      <th>total_bill</th>\n",
       "      <th>tip</th>\n",
       "      <th>sex</th>\n",
       "      <th>smoker</th>\n",
       "      <th>day</th>\n",
       "      <th>time</th>\n",
       "      <th>size</th>\n",
       "    </tr>\n",
       "  </thead>\n",
       "  <tbody>\n",
       "    <tr>\n",
       "      <th>0</th>\n",
       "      <td>16.99</td>\n",
       "      <td>1.01</td>\n",
       "      <td>Female</td>\n",
       "      <td>No</td>\n",
       "      <td>Sun</td>\n",
       "      <td>Dinner</td>\n",
       "      <td>2</td>\n",
       "    </tr>\n",
       "    <tr>\n",
       "      <th>1</th>\n",
       "      <td>10.34</td>\n",
       "      <td>1.66</td>\n",
       "      <td>Male</td>\n",
       "      <td>No</td>\n",
       "      <td>Sun</td>\n",
       "      <td>Dinner</td>\n",
       "      <td>3</td>\n",
       "    </tr>\n",
       "    <tr>\n",
       "      <th>2</th>\n",
       "      <td>21.01</td>\n",
       "      <td>3.50</td>\n",
       "      <td>Male</td>\n",
       "      <td>No</td>\n",
       "      <td>Sun</td>\n",
       "      <td>Dinner</td>\n",
       "      <td>3</td>\n",
       "    </tr>\n",
       "    <tr>\n",
       "      <th>3</th>\n",
       "      <td>23.68</td>\n",
       "      <td>3.31</td>\n",
       "      <td>Male</td>\n",
       "      <td>No</td>\n",
       "      <td>Sun</td>\n",
       "      <td>Dinner</td>\n",
       "      <td>2</td>\n",
       "    </tr>\n",
       "    <tr>\n",
       "      <th>4</th>\n",
       "      <td>24.59</td>\n",
       "      <td>3.61</td>\n",
       "      <td>Female</td>\n",
       "      <td>No</td>\n",
       "      <td>Sun</td>\n",
       "      <td>Dinner</td>\n",
       "      <td>4</td>\n",
       "    </tr>\n",
       "  </tbody>\n",
       "</table>\n",
       "</div>"
      ],
      "text/plain": [
       "   total_bill   tip     sex smoker  day    time  size\n",
       "0       16.99  1.01  Female     No  Sun  Dinner     2\n",
       "1       10.34  1.66    Male     No  Sun  Dinner     3\n",
       "2       21.01  3.50    Male     No  Sun  Dinner     3\n",
       "3       23.68  3.31    Male     No  Sun  Dinner     2\n",
       "4       24.59  3.61  Female     No  Sun  Dinner     4"
      ]
     },
     "execution_count": 16,
     "metadata": {},
     "output_type": "execute_result"
    }
   ],
   "source": [
    "tips[tips['time']=='Dinner'].head()"
   ]
  },
  {
   "cell_type": "code",
   "execution_count": 17,
   "metadata": {},
   "outputs": [
    {
     "data": {
      "text/plain": [
       "[(23, 39.42, 7.58, 'Male', 'No', 'Sat', 'Dinner', 4),\n",
       " (44, 30.4, 5.6, 'Male', 'No', 'Sun', 'Dinner', 4),\n",
       " (47, 32.4, 6.0, 'Male', 'No', 'Sun', 'Dinner', 4),\n",
       " (52, 34.81, 5.2, 'Female', 'No', 'Sun', 'Dinner', 4),\n",
       " (59, 48.27, 6.73, 'Male', 'No', 'Sat', 'Dinner', 4),\n",
       " (116, 29.93, 5.07, 'Male', 'No', 'Sun', 'Dinner', 4),\n",
       " (155, 29.85, 5.14, 'Female', 'No', 'Sun', 'Dinner', 5),\n",
       " (170, 50.81, 10.0, 'Male', 'Yes', 'Sat', 'Dinner', 3),\n",
       " (172, 7.25, 5.15, 'Male', 'Yes', 'Sun', 'Dinner', 2),\n",
       " (181, 23.33, 5.65, 'Male', 'Yes', 'Sun', 'Dinner', 2),\n",
       " (183, 23.17, 6.5, 'Male', 'Yes', 'Sun', 'Dinner', 4),\n",
       " (211, 25.89, 5.16, 'Male', 'Yes', 'Sat', 'Dinner', 4),\n",
       " (212, 48.33, 9.0, 'Male', 'No', 'Sat', 'Dinner', 4),\n",
       " (214, 28.17, 6.5, 'Female', 'Yes', 'Sat', 'Dinner', 3),\n",
       " (239, 29.03, 5.92, 'Male', 'No', 'Sat', 'Dinner', 3)]"
      ]
     },
     "execution_count": 17,
     "metadata": {},
     "output_type": "execute_result"
    }
   ],
   "source": [
    "sql_select_3 = 'SELECT * FROM tipsDB WHERE time = \"Dinner\" AND tip > 5.00'\n",
    "cursor.execute(sql_select_3).fetchall()"
   ]
  },
  {
   "cell_type": "code",
   "execution_count": 18,
   "metadata": {},
   "outputs": [
    {
     "data": {
      "text/html": [
       "<div>\n",
       "<style scoped>\n",
       "    .dataframe tbody tr th:only-of-type {\n",
       "        vertical-align: middle;\n",
       "    }\n",
       "\n",
       "    .dataframe tbody tr th {\n",
       "        vertical-align: top;\n",
       "    }\n",
       "\n",
       "    .dataframe thead th {\n",
       "        text-align: right;\n",
       "    }\n",
       "</style>\n",
       "<table border=\"1\" class=\"dataframe\">\n",
       "  <thead>\n",
       "    <tr style=\"text-align: right;\">\n",
       "      <th></th>\n",
       "      <th>total_bill</th>\n",
       "      <th>tip</th>\n",
       "      <th>sex</th>\n",
       "      <th>smoker</th>\n",
       "      <th>day</th>\n",
       "      <th>time</th>\n",
       "      <th>size</th>\n",
       "    </tr>\n",
       "  </thead>\n",
       "  <tbody>\n",
       "    <tr>\n",
       "      <th>23</th>\n",
       "      <td>39.42</td>\n",
       "      <td>7.58</td>\n",
       "      <td>Male</td>\n",
       "      <td>No</td>\n",
       "      <td>Sat</td>\n",
       "      <td>Dinner</td>\n",
       "      <td>4</td>\n",
       "    </tr>\n",
       "    <tr>\n",
       "      <th>44</th>\n",
       "      <td>30.40</td>\n",
       "      <td>5.60</td>\n",
       "      <td>Male</td>\n",
       "      <td>No</td>\n",
       "      <td>Sun</td>\n",
       "      <td>Dinner</td>\n",
       "      <td>4</td>\n",
       "    </tr>\n",
       "    <tr>\n",
       "      <th>47</th>\n",
       "      <td>32.40</td>\n",
       "      <td>6.00</td>\n",
       "      <td>Male</td>\n",
       "      <td>No</td>\n",
       "      <td>Sun</td>\n",
       "      <td>Dinner</td>\n",
       "      <td>4</td>\n",
       "    </tr>\n",
       "    <tr>\n",
       "      <th>52</th>\n",
       "      <td>34.81</td>\n",
       "      <td>5.20</td>\n",
       "      <td>Female</td>\n",
       "      <td>No</td>\n",
       "      <td>Sun</td>\n",
       "      <td>Dinner</td>\n",
       "      <td>4</td>\n",
       "    </tr>\n",
       "    <tr>\n",
       "      <th>59</th>\n",
       "      <td>48.27</td>\n",
       "      <td>6.73</td>\n",
       "      <td>Male</td>\n",
       "      <td>No</td>\n",
       "      <td>Sat</td>\n",
       "      <td>Dinner</td>\n",
       "      <td>4</td>\n",
       "    </tr>\n",
       "  </tbody>\n",
       "</table>\n",
       "</div>"
      ],
      "text/plain": [
       "    total_bill   tip     sex smoker  day    time  size\n",
       "23       39.42  7.58    Male     No  Sat  Dinner     4\n",
       "44       30.40  5.60    Male     No  Sun  Dinner     4\n",
       "47       32.40  6.00    Male     No  Sun  Dinner     4\n",
       "52       34.81  5.20  Female     No  Sun  Dinner     4\n",
       "59       48.27  6.73    Male     No  Sat  Dinner     4"
      ]
     },
     "execution_count": 18,
     "metadata": {},
     "output_type": "execute_result"
    }
   ],
   "source": [
    "tips[(tips['time'] == 'Dinner') & (tips['tip'] > 5.00)].head()"
   ]
  },
  {
   "cell_type": "code",
   "execution_count": 19,
   "metadata": {},
   "outputs": [],
   "source": [
    "sql_update = 'update tipsDB set tip=NULL where tip=7.58'\n",
    "cursor.execute(sql_update)\n",
    "engine.commit()"
   ]
  },
  {
   "cell_type": "code",
   "execution_count": 20,
   "metadata": {},
   "outputs": [
    {
     "data": {
      "text/plain": [
       "[(23, 39.42, None, 'Male', 'No', 'Sat', 'Dinner', 4)]"
      ]
     },
     "execution_count": 20,
     "metadata": {},
     "output_type": "execute_result"
    }
   ],
   "source": [
    "cursor.execute('select * from tipsDB where total_bill=39.42').fetchall()"
   ]
  },
  {
   "cell_type": "code",
   "execution_count": 21,
   "metadata": {},
   "outputs": [
    {
     "data": {
      "text/plain": [
       "[(23, 39.42, None, 'Male', 'No', 'Sat', 'Dinner', 4)]"
      ]
     },
     "execution_count": 21,
     "metadata": {},
     "output_type": "execute_result"
    }
   ],
   "source": [
    "sql_isnull = 'SELECT * FROM tipsDB WHERE tip IS NULL'\n",
    "cursor.execute(sql_isnull).fetchall()"
   ]
  },
  {
   "cell_type": "code",
   "execution_count": 22,
   "metadata": {},
   "outputs": [],
   "source": [
    "#import numpy as np\n",
    "tips[tips['tip'].isna()]\n",
    "\n",
    "tips.loc[tips['tip']<3.0,'tip']=None\n"
   ]
  },
  {
   "cell_type": "code",
   "execution_count": 23,
   "metadata": {},
   "outputs": [
    {
     "data": {
      "text/html": [
       "<div>\n",
       "<style scoped>\n",
       "    .dataframe tbody tr th:only-of-type {\n",
       "        vertical-align: middle;\n",
       "    }\n",
       "\n",
       "    .dataframe tbody tr th {\n",
       "        vertical-align: top;\n",
       "    }\n",
       "\n",
       "    .dataframe thead th {\n",
       "        text-align: right;\n",
       "    }\n",
       "</style>\n",
       "<table border=\"1\" class=\"dataframe\">\n",
       "  <thead>\n",
       "    <tr style=\"text-align: right;\">\n",
       "      <th></th>\n",
       "      <th>total_bill</th>\n",
       "      <th>tip</th>\n",
       "      <th>sex</th>\n",
       "      <th>smoker</th>\n",
       "      <th>day</th>\n",
       "      <th>time</th>\n",
       "      <th>size</th>\n",
       "    </tr>\n",
       "  </thead>\n",
       "  <tbody>\n",
       "    <tr>\n",
       "      <th>0</th>\n",
       "      <td>16.99</td>\n",
       "      <td>NaN</td>\n",
       "      <td>Female</td>\n",
       "      <td>No</td>\n",
       "      <td>Sun</td>\n",
       "      <td>Dinner</td>\n",
       "      <td>2</td>\n",
       "    </tr>\n",
       "    <tr>\n",
       "      <th>1</th>\n",
       "      <td>10.34</td>\n",
       "      <td>NaN</td>\n",
       "      <td>Male</td>\n",
       "      <td>No</td>\n",
       "      <td>Sun</td>\n",
       "      <td>Dinner</td>\n",
       "      <td>3</td>\n",
       "    </tr>\n",
       "    <tr>\n",
       "      <th>6</th>\n",
       "      <td>8.77</td>\n",
       "      <td>NaN</td>\n",
       "      <td>Male</td>\n",
       "      <td>No</td>\n",
       "      <td>Sun</td>\n",
       "      <td>Dinner</td>\n",
       "      <td>2</td>\n",
       "    </tr>\n",
       "    <tr>\n",
       "      <th>8</th>\n",
       "      <td>15.04</td>\n",
       "      <td>NaN</td>\n",
       "      <td>Male</td>\n",
       "      <td>No</td>\n",
       "      <td>Sun</td>\n",
       "      <td>Dinner</td>\n",
       "      <td>2</td>\n",
       "    </tr>\n",
       "    <tr>\n",
       "      <th>10</th>\n",
       "      <td>10.27</td>\n",
       "      <td>NaN</td>\n",
       "      <td>Male</td>\n",
       "      <td>No</td>\n",
       "      <td>Sun</td>\n",
       "      <td>Dinner</td>\n",
       "      <td>2</td>\n",
       "    </tr>\n",
       "    <tr>\n",
       "      <th>...</th>\n",
       "      <td>...</td>\n",
       "      <td>...</td>\n",
       "      <td>...</td>\n",
       "      <td>...</td>\n",
       "      <td>...</td>\n",
       "      <td>...</td>\n",
       "      <td>...</td>\n",
       "    </tr>\n",
       "    <tr>\n",
       "      <th>236</th>\n",
       "      <td>12.60</td>\n",
       "      <td>NaN</td>\n",
       "      <td>Male</td>\n",
       "      <td>Yes</td>\n",
       "      <td>Sat</td>\n",
       "      <td>Dinner</td>\n",
       "      <td>2</td>\n",
       "    </tr>\n",
       "    <tr>\n",
       "      <th>237</th>\n",
       "      <td>32.83</td>\n",
       "      <td>NaN</td>\n",
       "      <td>Male</td>\n",
       "      <td>Yes</td>\n",
       "      <td>Sat</td>\n",
       "      <td>Dinner</td>\n",
       "      <td>2</td>\n",
       "    </tr>\n",
       "    <tr>\n",
       "      <th>240</th>\n",
       "      <td>27.18</td>\n",
       "      <td>NaN</td>\n",
       "      <td>Female</td>\n",
       "      <td>Yes</td>\n",
       "      <td>Sat</td>\n",
       "      <td>Dinner</td>\n",
       "      <td>2</td>\n",
       "    </tr>\n",
       "    <tr>\n",
       "      <th>241</th>\n",
       "      <td>22.67</td>\n",
       "      <td>NaN</td>\n",
       "      <td>Male</td>\n",
       "      <td>Yes</td>\n",
       "      <td>Sat</td>\n",
       "      <td>Dinner</td>\n",
       "      <td>2</td>\n",
       "    </tr>\n",
       "    <tr>\n",
       "      <th>242</th>\n",
       "      <td>17.82</td>\n",
       "      <td>NaN</td>\n",
       "      <td>Male</td>\n",
       "      <td>No</td>\n",
       "      <td>Sat</td>\n",
       "      <td>Dinner</td>\n",
       "      <td>2</td>\n",
       "    </tr>\n",
       "  </tbody>\n",
       "</table>\n",
       "<p>123 rows × 7 columns</p>\n",
       "</div>"
      ],
      "text/plain": [
       "     total_bill  tip     sex smoker  day    time  size\n",
       "0         16.99  NaN  Female     No  Sun  Dinner     2\n",
       "1         10.34  NaN    Male     No  Sun  Dinner     3\n",
       "6          8.77  NaN    Male     No  Sun  Dinner     2\n",
       "8         15.04  NaN    Male     No  Sun  Dinner     2\n",
       "10        10.27  NaN    Male     No  Sun  Dinner     2\n",
       "..          ...  ...     ...    ...  ...     ...   ...\n",
       "236       12.60  NaN    Male    Yes  Sat  Dinner     2\n",
       "237       32.83  NaN    Male    Yes  Sat  Dinner     2\n",
       "240       27.18  NaN  Female    Yes  Sat  Dinner     2\n",
       "241       22.67  NaN    Male    Yes  Sat  Dinner     2\n",
       "242       17.82  NaN    Male     No  Sat  Dinner     2\n",
       "\n",
       "[123 rows x 7 columns]"
      ]
     },
     "execution_count": 23,
     "metadata": {},
     "output_type": "execute_result"
    }
   ],
   "source": [
    "tips[tips['tip'].isna()]"
   ]
  },
  {
   "cell_type": "code",
   "execution_count": 24,
   "metadata": {},
   "outputs": [
    {
     "data": {
      "text/plain": [
       "[(0, 16.99, 1.01, 'Female', 'No', 'Sun', 'Dinner', 2),\n",
       " (1, 10.34, 1.66, 'Male', 'No', 'Sun', 'Dinner', 3),\n",
       " (2, 21.01, 3.5, 'Male', 'No', 'Sun', 'Dinner', 3),\n",
       " (3, 23.68, 3.31, 'Male', 'No', 'Sun', 'Dinner', 2),\n",
       " (4, 24.59, 3.61, 'Female', 'No', 'Sun', 'Dinner', 4),\n",
       " (5, 25.29, 4.71, 'Male', 'No', 'Sun', 'Dinner', 4),\n",
       " (6, 8.77, 2.0, 'Male', 'No', 'Sun', 'Dinner', 2),\n",
       " (7, 26.88, 3.12, 'Male', 'No', 'Sun', 'Dinner', 4),\n",
       " (8, 15.04, 1.96, 'Male', 'No', 'Sun', 'Dinner', 2),\n",
       " (9, 14.78, 3.23, 'Male', 'No', 'Sun', 'Dinner', 2),\n",
       " (10, 10.27, 1.71, 'Male', 'No', 'Sun', 'Dinner', 2),\n",
       " (11, 35.26, 5.0, 'Female', 'No', 'Sun', 'Dinner', 4),\n",
       " (12, 15.42, 1.57, 'Male', 'No', 'Sun', 'Dinner', 2),\n",
       " (13, 18.43, 3.0, 'Male', 'No', 'Sun', 'Dinner', 4),\n",
       " (14, 14.83, 3.02, 'Female', 'No', 'Sun', 'Dinner', 2),\n",
       " (15, 21.58, 3.92, 'Male', 'No', 'Sun', 'Dinner', 2),\n",
       " (16, 10.33, 1.67, 'Female', 'No', 'Sun', 'Dinner', 3),\n",
       " (17, 16.29, 3.71, 'Male', 'No', 'Sun', 'Dinner', 3),\n",
       " (18, 16.97, 3.5, 'Female', 'No', 'Sun', 'Dinner', 3),\n",
       " (19, 20.65, 3.35, 'Male', 'No', 'Sat', 'Dinner', 3),\n",
       " (20, 17.92, 4.08, 'Male', 'No', 'Sat', 'Dinner', 2),\n",
       " (21, 20.29, 2.75, 'Female', 'No', 'Sat', 'Dinner', 2),\n",
       " (22, 15.77, 2.23, 'Female', 'No', 'Sat', 'Dinner', 2),\n",
       " (23, 39.42, None, 'Male', 'No', 'Sat', 'Dinner', 4),\n",
       " (24, 19.82, 3.18, 'Male', 'No', 'Sat', 'Dinner', 2),\n",
       " (25, 17.81, 2.34, 'Male', 'No', 'Sat', 'Dinner', 4),\n",
       " (26, 13.37, 2.0, 'Male', 'No', 'Sat', 'Dinner', 2),\n",
       " (27, 12.69, 2.0, 'Male', 'No', 'Sat', 'Dinner', 2),\n",
       " (28, 21.7, 4.3, 'Male', 'No', 'Sat', 'Dinner', 2),\n",
       " (29, 19.65, 3.0, 'Female', 'No', 'Sat', 'Dinner', 2),\n",
       " (30, 9.55, 1.45, 'Male', 'No', 'Sat', 'Dinner', 2),\n",
       " (31, 18.35, 2.5, 'Male', 'No', 'Sat', 'Dinner', 4),\n",
       " (32, 15.06, 3.0, 'Female', 'No', 'Sat', 'Dinner', 2),\n",
       " (33, 20.69, 2.45, 'Female', 'No', 'Sat', 'Dinner', 4),\n",
       " (34, 17.78, 3.27, 'Male', 'No', 'Sat', 'Dinner', 2),\n",
       " (35, 24.06, 3.6, 'Male', 'No', 'Sat', 'Dinner', 3),\n",
       " (36, 16.31, 2.0, 'Male', 'No', 'Sat', 'Dinner', 3),\n",
       " (37, 16.93, 3.07, 'Female', 'No', 'Sat', 'Dinner', 3),\n",
       " (38, 18.69, 2.31, 'Male', 'No', 'Sat', 'Dinner', 3),\n",
       " (39, 31.27, 5.0, 'Male', 'No', 'Sat', 'Dinner', 3),\n",
       " (40, 16.04, 2.24, 'Male', 'No', 'Sat', 'Dinner', 3),\n",
       " (41, 17.46, 2.54, 'Male', 'No', 'Sun', 'Dinner', 2),\n",
       " (42, 13.94, 3.06, 'Male', 'No', 'Sun', 'Dinner', 2),\n",
       " (43, 9.68, 1.32, 'Male', 'No', 'Sun', 'Dinner', 2),\n",
       " (44, 30.4, 5.6, 'Male', 'No', 'Sun', 'Dinner', 4),\n",
       " (45, 18.29, 3.0, 'Male', 'No', 'Sun', 'Dinner', 2),\n",
       " (46, 22.23, 5.0, 'Male', 'No', 'Sun', 'Dinner', 2),\n",
       " (47, 32.4, 6.0, 'Male', 'No', 'Sun', 'Dinner', 4),\n",
       " (48, 28.55, 2.05, 'Male', 'No', 'Sun', 'Dinner', 3),\n",
       " (49, 18.04, 3.0, 'Male', 'No', 'Sun', 'Dinner', 2),\n",
       " (50, 12.54, 2.5, 'Male', 'No', 'Sun', 'Dinner', 2),\n",
       " (51, 10.29, 2.6, 'Female', 'No', 'Sun', 'Dinner', 2),\n",
       " (52, 34.81, 5.2, 'Female', 'No', 'Sun', 'Dinner', 4),\n",
       " (53, 9.94, 1.56, 'Male', 'No', 'Sun', 'Dinner', 2),\n",
       " (54, 25.56, 4.34, 'Male', 'No', 'Sun', 'Dinner', 4),\n",
       " (55, 19.49, 3.51, 'Male', 'No', 'Sun', 'Dinner', 2),\n",
       " (56, 38.01, 3.0, 'Male', 'Yes', 'Sat', 'Dinner', 4),\n",
       " (57, 26.41, 1.5, 'Female', 'No', 'Sat', 'Dinner', 2),\n",
       " (58, 11.24, 1.76, 'Male', 'Yes', 'Sat', 'Dinner', 2),\n",
       " (59, 48.27, 6.73, 'Male', 'No', 'Sat', 'Dinner', 4),\n",
       " (60, 20.29, 3.21, 'Male', 'Yes', 'Sat', 'Dinner', 2),\n",
       " (61, 13.81, 2.0, 'Male', 'Yes', 'Sat', 'Dinner', 2),\n",
       " (62, 11.02, 1.98, 'Male', 'Yes', 'Sat', 'Dinner', 2),\n",
       " (63, 18.29, 3.76, 'Male', 'Yes', 'Sat', 'Dinner', 4),\n",
       " (64, 17.59, 2.64, 'Male', 'No', 'Sat', 'Dinner', 3),\n",
       " (65, 20.08, 3.15, 'Male', 'No', 'Sat', 'Dinner', 3),\n",
       " (66, 16.45, 2.47, 'Female', 'No', 'Sat', 'Dinner', 2),\n",
       " (67, 3.07, 1.0, 'Female', 'Yes', 'Sat', 'Dinner', 1),\n",
       " (68, 20.23, 2.01, 'Male', 'No', 'Sat', 'Dinner', 2),\n",
       " (69, 15.01, 2.09, 'Male', 'Yes', 'Sat', 'Dinner', 2),\n",
       " (70, 12.02, 1.97, 'Male', 'No', 'Sat', 'Dinner', 2),\n",
       " (71, 17.07, 3.0, 'Female', 'No', 'Sat', 'Dinner', 3),\n",
       " (72, 26.86, 3.14, 'Female', 'Yes', 'Sat', 'Dinner', 2),\n",
       " (73, 25.28, 5.0, 'Female', 'Yes', 'Sat', 'Dinner', 2),\n",
       " (74, 14.73, 2.2, 'Female', 'No', 'Sat', 'Dinner', 2),\n",
       " (75, 10.51, 1.25, 'Male', 'No', 'Sat', 'Dinner', 2),\n",
       " (76, 17.92, 3.08, 'Male', 'Yes', 'Sat', 'Dinner', 2),\n",
       " (77, 27.2, 4.0, 'Male', 'No', 'Thur', 'Lunch', 4),\n",
       " (78, 22.76, 3.0, 'Male', 'No', 'Thur', 'Lunch', 2),\n",
       " (79, 17.29, 2.71, 'Male', 'No', 'Thur', 'Lunch', 2),\n",
       " (80, 19.44, 3.0, 'Male', 'Yes', 'Thur', 'Lunch', 2),\n",
       " (81, 16.66, 3.4, 'Male', 'No', 'Thur', 'Lunch', 2),\n",
       " (82, 10.07, 1.83, 'Female', 'No', 'Thur', 'Lunch', 1),\n",
       " (83, 32.68, 5.0, 'Male', 'Yes', 'Thur', 'Lunch', 2),\n",
       " (84, 15.98, 2.03, 'Male', 'No', 'Thur', 'Lunch', 2),\n",
       " (85, 34.83, 5.17, 'Female', 'No', 'Thur', 'Lunch', 4),\n",
       " (86, 13.03, 2.0, 'Male', 'No', 'Thur', 'Lunch', 2),\n",
       " (87, 18.28, 4.0, 'Male', 'No', 'Thur', 'Lunch', 2),\n",
       " (88, 24.71, 5.85, 'Male', 'No', 'Thur', 'Lunch', 2),\n",
       " (89, 21.16, 3.0, 'Male', 'No', 'Thur', 'Lunch', 2),\n",
       " (90, 28.97, 3.0, 'Male', 'Yes', 'Fri', 'Dinner', 2),\n",
       " (91, 22.49, 3.5, 'Male', 'No', 'Fri', 'Dinner', 2),\n",
       " (92, 5.75, 1.0, 'Female', 'Yes', 'Fri', 'Dinner', 2),\n",
       " (93, 16.32, 4.3, 'Female', 'Yes', 'Fri', 'Dinner', 2),\n",
       " (94, 22.75, 3.25, 'Female', 'No', 'Fri', 'Dinner', 2),\n",
       " (95, 40.17, 4.73, 'Male', 'Yes', 'Fri', 'Dinner', 4),\n",
       " (96, 27.28, 4.0, 'Male', 'Yes', 'Fri', 'Dinner', 2),\n",
       " (97, 12.03, 1.5, 'Male', 'Yes', 'Fri', 'Dinner', 2),\n",
       " (98, 21.01, 3.0, 'Male', 'Yes', 'Fri', 'Dinner', 2),\n",
       " (99, 12.46, 1.5, 'Male', 'No', 'Fri', 'Dinner', 2),\n",
       " (100, 11.35, 2.5, 'Female', 'Yes', 'Fri', 'Dinner', 2),\n",
       " (101, 15.38, 3.0, 'Female', 'Yes', 'Fri', 'Dinner', 2),\n",
       " (102, 44.3, 2.5, 'Female', 'Yes', 'Sat', 'Dinner', 3),\n",
       " (103, 22.42, 3.48, 'Female', 'Yes', 'Sat', 'Dinner', 2),\n",
       " (104, 20.92, 4.08, 'Female', 'No', 'Sat', 'Dinner', 2),\n",
       " (105, 15.36, 1.64, 'Male', 'Yes', 'Sat', 'Dinner', 2),\n",
       " (106, 20.49, 4.06, 'Male', 'Yes', 'Sat', 'Dinner', 2),\n",
       " (107, 25.21, 4.29, 'Male', 'Yes', 'Sat', 'Dinner', 2),\n",
       " (108, 18.24, 3.76, 'Male', 'No', 'Sat', 'Dinner', 2),\n",
       " (109, 14.31, 4.0, 'Female', 'Yes', 'Sat', 'Dinner', 2),\n",
       " (110, 14.0, 3.0, 'Male', 'No', 'Sat', 'Dinner', 2),\n",
       " (111, 7.25, 1.0, 'Female', 'No', 'Sat', 'Dinner', 1),\n",
       " (112, 38.07, 4.0, 'Male', 'No', 'Sun', 'Dinner', 3),\n",
       " (113, 23.95, 2.55, 'Male', 'No', 'Sun', 'Dinner', 2),\n",
       " (114, 25.71, 4.0, 'Female', 'No', 'Sun', 'Dinner', 3),\n",
       " (115, 17.31, 3.5, 'Female', 'No', 'Sun', 'Dinner', 2),\n",
       " (116, 29.93, 5.07, 'Male', 'No', 'Sun', 'Dinner', 4),\n",
       " (117, 10.65, 1.5, 'Female', 'No', 'Thur', 'Lunch', 2),\n",
       " (118, 12.43, 1.8, 'Female', 'No', 'Thur', 'Lunch', 2),\n",
       " (119, 24.08, 2.92, 'Female', 'No', 'Thur', 'Lunch', 4),\n",
       " (120, 11.69, 2.31, 'Male', 'No', 'Thur', 'Lunch', 2),\n",
       " (121, 13.42, 1.68, 'Female', 'No', 'Thur', 'Lunch', 2),\n",
       " (122, 14.26, 2.5, 'Male', 'No', 'Thur', 'Lunch', 2),\n",
       " (123, 15.95, 2.0, 'Male', 'No', 'Thur', 'Lunch', 2),\n",
       " (124, 12.48, 2.52, 'Female', 'No', 'Thur', 'Lunch', 2),\n",
       " (125, 29.8, 4.2, 'Female', 'No', 'Thur', 'Lunch', 6),\n",
       " (126, 8.52, 1.48, 'Male', 'No', 'Thur', 'Lunch', 2),\n",
       " (127, 14.52, 2.0, 'Female', 'No', 'Thur', 'Lunch', 2),\n",
       " (128, 11.38, 2.0, 'Female', 'No', 'Thur', 'Lunch', 2),\n",
       " (129, 22.82, 2.18, 'Male', 'No', 'Thur', 'Lunch', 3),\n",
       " (130, 19.08, 1.5, 'Male', 'No', 'Thur', 'Lunch', 2),\n",
       " (131, 20.27, 2.83, 'Female', 'No', 'Thur', 'Lunch', 2),\n",
       " (132, 11.17, 1.5, 'Female', 'No', 'Thur', 'Lunch', 2),\n",
       " (133, 12.26, 2.0, 'Female', 'No', 'Thur', 'Lunch', 2),\n",
       " (134, 18.26, 3.25, 'Female', 'No', 'Thur', 'Lunch', 2),\n",
       " (135, 8.51, 1.25, 'Female', 'No', 'Thur', 'Lunch', 2),\n",
       " (136, 10.33, 2.0, 'Female', 'No', 'Thur', 'Lunch', 2),\n",
       " (137, 14.15, 2.0, 'Female', 'No', 'Thur', 'Lunch', 2),\n",
       " (138, 16.0, 2.0, 'Male', 'Yes', 'Thur', 'Lunch', 2),\n",
       " (139, 13.16, 2.75, 'Female', 'No', 'Thur', 'Lunch', 2),\n",
       " (140, 17.47, 3.5, 'Female', 'No', 'Thur', 'Lunch', 2),\n",
       " (141, 34.3, 6.7, 'Male', 'No', 'Thur', 'Lunch', 6),\n",
       " (142, 41.19, 5.0, 'Male', 'No', 'Thur', 'Lunch', 5),\n",
       " (143, 27.05, 5.0, 'Female', 'No', 'Thur', 'Lunch', 6),\n",
       " (144, 16.43, 2.3, 'Female', 'No', 'Thur', 'Lunch', 2),\n",
       " (145, 8.35, 1.5, 'Female', 'No', 'Thur', 'Lunch', 2),\n",
       " (146, 18.64, 1.36, 'Female', 'No', 'Thur', 'Lunch', 3),\n",
       " (147, 11.87, 1.63, 'Female', 'No', 'Thur', 'Lunch', 2),\n",
       " (148, 9.78, 1.73, 'Male', 'No', 'Thur', 'Lunch', 2),\n",
       " (149, 7.51, 2.0, 'Male', 'No', 'Thur', 'Lunch', 2),\n",
       " (150, 14.07, 2.5, 'Male', 'No', 'Sun', 'Dinner', 2),\n",
       " (151, 13.13, 2.0, 'Male', 'No', 'Sun', 'Dinner', 2),\n",
       " (152, 17.26, 2.74, 'Male', 'No', 'Sun', 'Dinner', 3),\n",
       " (153, 24.55, 2.0, 'Male', 'No', 'Sun', 'Dinner', 4),\n",
       " (154, 19.77, 2.0, 'Male', 'No', 'Sun', 'Dinner', 4),\n",
       " (155, 29.85, 5.14, 'Female', 'No', 'Sun', 'Dinner', 5),\n",
       " (156, 48.17, 5.0, 'Male', 'No', 'Sun', 'Dinner', 6),\n",
       " (157, 25.0, 3.75, 'Female', 'No', 'Sun', 'Dinner', 4),\n",
       " (158, 13.39, 2.61, 'Female', 'No', 'Sun', 'Dinner', 2),\n",
       " (159, 16.49, 2.0, 'Male', 'No', 'Sun', 'Dinner', 4),\n",
       " (160, 21.5, 3.5, 'Male', 'No', 'Sun', 'Dinner', 4),\n",
       " (161, 12.66, 2.5, 'Male', 'No', 'Sun', 'Dinner', 2),\n",
       " (162, 16.21, 2.0, 'Female', 'No', 'Sun', 'Dinner', 3),\n",
       " (163, 13.81, 2.0, 'Male', 'No', 'Sun', 'Dinner', 2),\n",
       " (164, 17.51, 3.0, 'Female', 'Yes', 'Sun', 'Dinner', 2),\n",
       " (165, 24.52, 3.48, 'Male', 'No', 'Sun', 'Dinner', 3),\n",
       " (166, 20.76, 2.24, 'Male', 'No', 'Sun', 'Dinner', 2),\n",
       " (167, 31.71, 4.5, 'Male', 'No', 'Sun', 'Dinner', 4),\n",
       " (168, 10.59, 1.61, 'Female', 'Yes', 'Sat', 'Dinner', 2),\n",
       " (169, 10.63, 2.0, 'Female', 'Yes', 'Sat', 'Dinner', 2),\n",
       " (170, 50.81, 10.0, 'Male', 'Yes', 'Sat', 'Dinner', 3),\n",
       " (171, 15.81, 3.16, 'Male', 'Yes', 'Sat', 'Dinner', 2),\n",
       " (172, 7.25, 5.15, 'Male', 'Yes', 'Sun', 'Dinner', 2),\n",
       " (173, 31.85, 3.18, 'Male', 'Yes', 'Sun', 'Dinner', 2),\n",
       " (174, 16.82, 4.0, 'Male', 'Yes', 'Sun', 'Dinner', 2),\n",
       " (175, 32.9, 3.11, 'Male', 'Yes', 'Sun', 'Dinner', 2),\n",
       " (176, 17.89, 2.0, 'Male', 'Yes', 'Sun', 'Dinner', 2),\n",
       " (177, 14.48, 2.0, 'Male', 'Yes', 'Sun', 'Dinner', 2),\n",
       " (178, 9.6, 4.0, 'Female', 'Yes', 'Sun', 'Dinner', 2),\n",
       " (179, 34.63, 3.55, 'Male', 'Yes', 'Sun', 'Dinner', 2),\n",
       " (180, 34.65, 3.68, 'Male', 'Yes', 'Sun', 'Dinner', 4),\n",
       " (181, 23.33, 5.65, 'Male', 'Yes', 'Sun', 'Dinner', 2),\n",
       " (182, 45.35, 3.5, 'Male', 'Yes', 'Sun', 'Dinner', 3),\n",
       " (183, 23.17, 6.5, 'Male', 'Yes', 'Sun', 'Dinner', 4),\n",
       " (184, 40.55, 3.0, 'Male', 'Yes', 'Sun', 'Dinner', 2),\n",
       " (185, 20.69, 5.0, 'Male', 'No', 'Sun', 'Dinner', 5),\n",
       " (186, 20.9, 3.5, 'Female', 'Yes', 'Sun', 'Dinner', 3),\n",
       " (187, 30.46, 2.0, 'Male', 'Yes', 'Sun', 'Dinner', 5),\n",
       " (188, 18.15, 3.5, 'Female', 'Yes', 'Sun', 'Dinner', 3),\n",
       " (189, 23.1, 4.0, 'Male', 'Yes', 'Sun', 'Dinner', 3),\n",
       " (190, 15.69, 1.5, 'Male', 'Yes', 'Sun', 'Dinner', 2),\n",
       " (191, 19.81, 4.19, 'Female', 'Yes', 'Thur', 'Lunch', 2),\n",
       " (192, 28.44, 2.56, 'Male', 'Yes', 'Thur', 'Lunch', 2),\n",
       " (193, 15.48, 2.02, 'Male', 'Yes', 'Thur', 'Lunch', 2),\n",
       " (194, 16.58, 4.0, 'Male', 'Yes', 'Thur', 'Lunch', 2),\n",
       " (195, 7.56, 1.44, 'Male', 'No', 'Thur', 'Lunch', 2),\n",
       " (196, 10.34, 2.0, 'Male', 'Yes', 'Thur', 'Lunch', 2),\n",
       " (197, 43.11, 5.0, 'Female', 'Yes', 'Thur', 'Lunch', 4),\n",
       " (198, 13.0, 2.0, 'Female', 'Yes', 'Thur', 'Lunch', 2),\n",
       " (199, 13.51, 2.0, 'Male', 'Yes', 'Thur', 'Lunch', 2),\n",
       " (200, 18.71, 4.0, 'Male', 'Yes', 'Thur', 'Lunch', 3),\n",
       " (201, 12.74, 2.01, 'Female', 'Yes', 'Thur', 'Lunch', 2),\n",
       " (202, 13.0, 2.0, 'Female', 'Yes', 'Thur', 'Lunch', 2),\n",
       " (203, 16.4, 2.5, 'Female', 'Yes', 'Thur', 'Lunch', 2),\n",
       " (204, 20.53, 4.0, 'Male', 'Yes', 'Thur', 'Lunch', 4),\n",
       " (205, 16.47, 3.23, 'Female', 'Yes', 'Thur', 'Lunch', 3),\n",
       " (206, 26.59, 3.41, 'Male', 'Yes', 'Sat', 'Dinner', 3),\n",
       " (207, 38.73, 3.0, 'Male', 'Yes', 'Sat', 'Dinner', 4),\n",
       " (208, 24.27, 2.03, 'Male', 'Yes', 'Sat', 'Dinner', 2),\n",
       " (209, 12.76, 2.23, 'Female', 'Yes', 'Sat', 'Dinner', 2),\n",
       " (210, 30.06, 2.0, 'Male', 'Yes', 'Sat', 'Dinner', 3),\n",
       " (211, 25.89, 5.16, 'Male', 'Yes', 'Sat', 'Dinner', 4),\n",
       " (212, 48.33, 9.0, 'Male', 'No', 'Sat', 'Dinner', 4),\n",
       " (213, 13.27, 2.5, 'Female', 'Yes', 'Sat', 'Dinner', 2),\n",
       " (214, 28.17, 6.5, 'Female', 'Yes', 'Sat', 'Dinner', 3),\n",
       " (215, 12.9, 1.1, 'Female', 'Yes', 'Sat', 'Dinner', 2),\n",
       " (216, 28.15, 3.0, 'Male', 'Yes', 'Sat', 'Dinner', 5),\n",
       " (217, 11.59, 1.5, 'Male', 'Yes', 'Sat', 'Dinner', 2),\n",
       " (218, 7.74, 1.44, 'Male', 'Yes', 'Sat', 'Dinner', 2),\n",
       " (219, 30.14, 3.09, 'Female', 'Yes', 'Sat', 'Dinner', 4),\n",
       " (220, 12.16, 2.2, 'Male', 'Yes', 'Fri', 'Lunch', 2),\n",
       " (221, 13.42, 3.48, 'Female', 'Yes', 'Fri', 'Lunch', 2),\n",
       " (222, 8.58, 1.92, 'Male', 'Yes', 'Fri', 'Lunch', 1),\n",
       " (223, 15.98, 3.0, 'Female', 'No', 'Fri', 'Lunch', 3),\n",
       " (224, 13.42, 1.58, 'Male', 'Yes', 'Fri', 'Lunch', 2),\n",
       " (225, 16.27, 2.5, 'Female', 'Yes', 'Fri', 'Lunch', 2),\n",
       " (226, 10.09, 2.0, 'Female', 'Yes', 'Fri', 'Lunch', 2),\n",
       " (227, 20.45, 3.0, 'Male', 'No', 'Sat', 'Dinner', 4),\n",
       " (228, 13.28, 2.72, 'Male', 'No', 'Sat', 'Dinner', 2),\n",
       " (229, 22.12, 2.88, 'Female', 'Yes', 'Sat', 'Dinner', 2),\n",
       " (230, 24.01, 2.0, 'Male', 'Yes', 'Sat', 'Dinner', 4),\n",
       " (231, 15.69, 3.0, 'Male', 'Yes', 'Sat', 'Dinner', 3),\n",
       " (232, 11.61, 3.39, 'Male', 'No', 'Sat', 'Dinner', 2),\n",
       " (233, 10.77, 1.47, 'Male', 'No', 'Sat', 'Dinner', 2),\n",
       " (234, 15.53, 3.0, 'Male', 'Yes', 'Sat', 'Dinner', 2),\n",
       " (235, 10.07, 1.25, 'Male', 'No', 'Sat', 'Dinner', 2),\n",
       " (236, 12.6, 1.0, 'Male', 'Yes', 'Sat', 'Dinner', 2),\n",
       " (237, 32.83, 1.17, 'Male', 'Yes', 'Sat', 'Dinner', 2),\n",
       " (238, 35.83, 4.67, 'Female', 'No', 'Sat', 'Dinner', 3),\n",
       " (239, 29.03, 5.92, 'Male', 'No', 'Sat', 'Dinner', 3),\n",
       " (240, 27.18, 2.0, 'Female', 'Yes', 'Sat', 'Dinner', 2),\n",
       " (241, 22.67, 2.0, 'Male', 'Yes', 'Sat', 'Dinner', 2),\n",
       " (242, 17.82, 1.75, 'Male', 'No', 'Sat', 'Dinner', 2),\n",
       " (243, 18.78, 3.0, 'Female', 'No', 'Thur', 'Dinner', 2)]"
      ]
     },
     "execution_count": 24,
     "metadata": {},
     "output_type": "execute_result"
    }
   ],
   "source": [
    "sql_isnotnull = 'SELECT * FROM tipsDB WHERE total_bill IS NOT NULL'\n",
    "cursor.execute(sql_isnotnull).fetchall()"
   ]
  },
  {
   "cell_type": "code",
   "execution_count": 25,
   "metadata": {},
   "outputs": [
    {
     "data": {
      "text/html": [
       "<div>\n",
       "<style scoped>\n",
       "    .dataframe tbody tr th:only-of-type {\n",
       "        vertical-align: middle;\n",
       "    }\n",
       "\n",
       "    .dataframe tbody tr th {\n",
       "        vertical-align: top;\n",
       "    }\n",
       "\n",
       "    .dataframe thead th {\n",
       "        text-align: right;\n",
       "    }\n",
       "</style>\n",
       "<table border=\"1\" class=\"dataframe\">\n",
       "  <thead>\n",
       "    <tr style=\"text-align: right;\">\n",
       "      <th></th>\n",
       "      <th>total_bill</th>\n",
       "      <th>tip</th>\n",
       "      <th>sex</th>\n",
       "      <th>smoker</th>\n",
       "      <th>day</th>\n",
       "      <th>time</th>\n",
       "      <th>size</th>\n",
       "    </tr>\n",
       "  </thead>\n",
       "  <tbody>\n",
       "    <tr>\n",
       "      <th>0</th>\n",
       "      <td>16.99</td>\n",
       "      <td>NaN</td>\n",
       "      <td>Female</td>\n",
       "      <td>No</td>\n",
       "      <td>Sun</td>\n",
       "      <td>Dinner</td>\n",
       "      <td>2</td>\n",
       "    </tr>\n",
       "    <tr>\n",
       "      <th>1</th>\n",
       "      <td>10.34</td>\n",
       "      <td>NaN</td>\n",
       "      <td>Male</td>\n",
       "      <td>No</td>\n",
       "      <td>Sun</td>\n",
       "      <td>Dinner</td>\n",
       "      <td>3</td>\n",
       "    </tr>\n",
       "    <tr>\n",
       "      <th>2</th>\n",
       "      <td>21.01</td>\n",
       "      <td>3.50</td>\n",
       "      <td>Male</td>\n",
       "      <td>No</td>\n",
       "      <td>Sun</td>\n",
       "      <td>Dinner</td>\n",
       "      <td>3</td>\n",
       "    </tr>\n",
       "    <tr>\n",
       "      <th>3</th>\n",
       "      <td>23.68</td>\n",
       "      <td>3.31</td>\n",
       "      <td>Male</td>\n",
       "      <td>No</td>\n",
       "      <td>Sun</td>\n",
       "      <td>Dinner</td>\n",
       "      <td>2</td>\n",
       "    </tr>\n",
       "    <tr>\n",
       "      <th>4</th>\n",
       "      <td>24.59</td>\n",
       "      <td>3.61</td>\n",
       "      <td>Female</td>\n",
       "      <td>No</td>\n",
       "      <td>Sun</td>\n",
       "      <td>Dinner</td>\n",
       "      <td>4</td>\n",
       "    </tr>\n",
       "    <tr>\n",
       "      <th>...</th>\n",
       "      <td>...</td>\n",
       "      <td>...</td>\n",
       "      <td>...</td>\n",
       "      <td>...</td>\n",
       "      <td>...</td>\n",
       "      <td>...</td>\n",
       "      <td>...</td>\n",
       "    </tr>\n",
       "    <tr>\n",
       "      <th>239</th>\n",
       "      <td>29.03</td>\n",
       "      <td>5.92</td>\n",
       "      <td>Male</td>\n",
       "      <td>No</td>\n",
       "      <td>Sat</td>\n",
       "      <td>Dinner</td>\n",
       "      <td>3</td>\n",
       "    </tr>\n",
       "    <tr>\n",
       "      <th>240</th>\n",
       "      <td>27.18</td>\n",
       "      <td>NaN</td>\n",
       "      <td>Female</td>\n",
       "      <td>Yes</td>\n",
       "      <td>Sat</td>\n",
       "      <td>Dinner</td>\n",
       "      <td>2</td>\n",
       "    </tr>\n",
       "    <tr>\n",
       "      <th>241</th>\n",
       "      <td>22.67</td>\n",
       "      <td>NaN</td>\n",
       "      <td>Male</td>\n",
       "      <td>Yes</td>\n",
       "      <td>Sat</td>\n",
       "      <td>Dinner</td>\n",
       "      <td>2</td>\n",
       "    </tr>\n",
       "    <tr>\n",
       "      <th>242</th>\n",
       "      <td>17.82</td>\n",
       "      <td>NaN</td>\n",
       "      <td>Male</td>\n",
       "      <td>No</td>\n",
       "      <td>Sat</td>\n",
       "      <td>Dinner</td>\n",
       "      <td>2</td>\n",
       "    </tr>\n",
       "    <tr>\n",
       "      <th>243</th>\n",
       "      <td>18.78</td>\n",
       "      <td>3.00</td>\n",
       "      <td>Female</td>\n",
       "      <td>No</td>\n",
       "      <td>Thur</td>\n",
       "      <td>Dinner</td>\n",
       "      <td>2</td>\n",
       "    </tr>\n",
       "  </tbody>\n",
       "</table>\n",
       "<p>244 rows × 7 columns</p>\n",
       "</div>"
      ],
      "text/plain": [
       "     total_bill   tip     sex smoker   day    time  size\n",
       "0         16.99   NaN  Female     No   Sun  Dinner     2\n",
       "1         10.34   NaN    Male     No   Sun  Dinner     3\n",
       "2         21.01  3.50    Male     No   Sun  Dinner     3\n",
       "3         23.68  3.31    Male     No   Sun  Dinner     2\n",
       "4         24.59  3.61  Female     No   Sun  Dinner     4\n",
       "..          ...   ...     ...    ...   ...     ...   ...\n",
       "239       29.03  5.92    Male     No   Sat  Dinner     3\n",
       "240       27.18   NaN  Female    Yes   Sat  Dinner     2\n",
       "241       22.67   NaN    Male    Yes   Sat  Dinner     2\n",
       "242       17.82   NaN    Male     No   Sat  Dinner     2\n",
       "243       18.78  3.00  Female     No  Thur  Dinner     2\n",
       "\n",
       "[244 rows x 7 columns]"
      ]
     },
     "execution_count": 25,
     "metadata": {},
     "output_type": "execute_result"
    }
   ],
   "source": [
    "tips[tips[\"total_bill\"].notna()]"
   ]
  },
  {
   "cell_type": "code",
   "execution_count": 26,
   "metadata": {},
   "outputs": [
    {
     "data": {
      "text/plain": [
       "[('Female', 87), ('Male', 157)]"
      ]
     },
     "execution_count": 26,
     "metadata": {},
     "output_type": "execute_result"
    }
   ],
   "source": [
    "### GROUP BY ###\n",
    "sql_groupby = 'SELECT sex, count(*) FROM tipsDB GROUP BY sex'\n",
    "cursor.execute(sql_groupby).fetchall()\n"
   ]
  },
  {
   "cell_type": "code",
   "execution_count": 27,
   "metadata": {},
   "outputs": [
    {
     "data": {
      "text/plain": [
       "sex\n",
       "Female     87\n",
       "Male      157\n",
       "dtype: int64"
      ]
     },
     "execution_count": 27,
     "metadata": {},
     "output_type": "execute_result"
    }
   ],
   "source": [
    "tips.groupby('sex').size()"
   ]
  },
  {
   "cell_type": "code",
   "execution_count": 28,
   "metadata": {},
   "outputs": [
    {
     "data": {
      "text/plain": [
       "[('No', 'Fri', 4, 2.8125),\n",
       " ('No', 'Sat', 45, 3.001136363636364),\n",
       " ('No', 'Sun', 57, 3.1678947368421055),\n",
       " ('No', 'Thur', 45, 2.673777777777778),\n",
       " ('Yes', 'Fri', 15, 2.714),\n",
       " ('Yes', 'Sat', 42, 2.8754761904761903),\n",
       " ('Yes', 'Sun', 19, 3.5168421052631573),\n",
       " ('Yes', 'Thur', 17, 3.0299999999999994)]"
      ]
     },
     "execution_count": 28,
     "metadata": {},
     "output_type": "execute_result"
    }
   ],
   "source": [
    "sql = 'SELECT smoker, day, COUNT(*), AVG(tip) FROM tipsDB GROUP BY smoker, day'\n",
    "cursor.execute(sql).fetchall()"
   ]
  },
  {
   "cell_type": "code",
   "execution_count": 29,
   "metadata": {},
   "outputs": [
    {
     "data": {
      "text/html": [
       "<div>\n",
       "<style scoped>\n",
       "    .dataframe tbody tr th:only-of-type {\n",
       "        vertical-align: middle;\n",
       "    }\n",
       "\n",
       "    .dataframe tbody tr th {\n",
       "        vertical-align: top;\n",
       "    }\n",
       "\n",
       "    .dataframe thead tr th {\n",
       "        text-align: left;\n",
       "    }\n",
       "\n",
       "    .dataframe thead tr:last-of-type th {\n",
       "        text-align: right;\n",
       "    }\n",
       "</style>\n",
       "<table border=\"1\" class=\"dataframe\">\n",
       "  <thead>\n",
       "    <tr>\n",
       "      <th></th>\n",
       "      <th></th>\n",
       "      <th colspan=\"2\" halign=\"left\">tip</th>\n",
       "    </tr>\n",
       "    <tr>\n",
       "      <th></th>\n",
       "      <th></th>\n",
       "      <th>count</th>\n",
       "      <th>mean</th>\n",
       "    </tr>\n",
       "    <tr>\n",
       "      <th>smoker</th>\n",
       "      <th>day</th>\n",
       "      <th></th>\n",
       "      <th></th>\n",
       "    </tr>\n",
       "  </thead>\n",
       "  <tbody>\n",
       "    <tr>\n",
       "      <th rowspan=\"4\" valign=\"top\">No</th>\n",
       "      <th>Fri</th>\n",
       "      <td>3</td>\n",
       "      <td>3.250000</td>\n",
       "    </tr>\n",
       "    <tr>\n",
       "      <th>Sat</th>\n",
       "      <td>22</td>\n",
       "      <td>4.233182</td>\n",
       "    </tr>\n",
       "    <tr>\n",
       "      <th>Sun</th>\n",
       "      <td>32</td>\n",
       "      <td>4.040000</td>\n",
       "    </tr>\n",
       "    <tr>\n",
       "      <th>Thur</th>\n",
       "      <td>14</td>\n",
       "      <td>4.219286</td>\n",
       "    </tr>\n",
       "    <tr>\n",
       "      <th rowspan=\"4\" valign=\"top\">Yes</th>\n",
       "      <th>Fri</th>\n",
       "      <td>7</td>\n",
       "      <td>3.644286</td>\n",
       "    </tr>\n",
       "    <tr>\n",
       "      <th>Sat</th>\n",
       "      <td>20</td>\n",
       "      <td>4.017000</td>\n",
       "    </tr>\n",
       "    <tr>\n",
       "      <th>Sun</th>\n",
       "      <td>15</td>\n",
       "      <td>3.954667</td>\n",
       "    </tr>\n",
       "    <tr>\n",
       "      <th>Thur</th>\n",
       "      <td>8</td>\n",
       "      <td>4.052500</td>\n",
       "    </tr>\n",
       "  </tbody>\n",
       "</table>\n",
       "</div>"
      ],
      "text/plain": [
       "              tip          \n",
       "            count      mean\n",
       "smoker day                 \n",
       "No     Fri      3  3.250000\n",
       "       Sat     22  4.233182\n",
       "       Sun     32  4.040000\n",
       "       Thur    14  4.219286\n",
       "Yes    Fri      7  3.644286\n",
       "       Sat     20  4.017000\n",
       "       Sun     15  3.954667\n",
       "       Thur     8  4.052500"
      ]
     },
     "execution_count": 29,
     "metadata": {},
     "output_type": "execute_result"
    }
   ],
   "source": [
    "tips.groupby([\"smoker\", \"day\"]).agg({\"tip\": ['count', 'mean']})"
   ]
  },
  {
   "cell_type": "code",
   "execution_count": null,
   "metadata": {},
   "outputs": [],
   "source": [
    "db_Airbnb = pd.read_csv('listings-2.csv')\n",
    "\n",
    "df1 = db_Airbnb[['bedrooms','accommodates','price']]\n",
    "\n",
    "\n",
    "df2 = df1.assign(price=df1['price'].str.replace('$', ''))\n",
    "df3 = df2.assign(price=df2['price'].str.replace(',', '').astype(float))\n",
    "\n",
    "df3.groupby([\"bedrooms\"]).mean()\n",
    "df3.groupby([\"bedrooms\"]).agg({\"price\":['mean']})\n",
    "\n",
    "#db_filtered.groupby([\"bedrooms\"]).agg({\"price\":['mean']})"
   ]
  },
  {
   "cell_type": "code",
   "execution_count": null,
   "metadata": {},
   "outputs": [],
   "source": [
    "df1[\"accommodates\"].isnull().sum()\n"
   ]
  },
  {
   "cell_type": "code",
   "execution_count": null,
   "metadata": {},
   "outputs": [],
   "source": [
    "df3[[\"price\",\"accommodates\"]].corr()"
   ]
  },
  {
   "cell_type": "code",
   "execution_count": null,
   "metadata": {},
   "outputs": [],
   "source": [
    "import numpy as np\n",
    "values = np.random.randn(4)\n",
    "values = np.append(values,np.nan)\n",
    "\n",
    "df1 = pd.DataFrame({\"key\": [\"A\", \"B\", \"C\", \"D\",\"E\"], \"value\": values})\n",
    "df2 = pd.DataFrame({\"key\": [\"B\", \"D\", \"D\", \"E\"], \"value\": np.random.randn(4)})\n",
    "\n",
    "\n",
    "df1.to_sql('df1DB', con=engine)\n",
    "df2.to_sql('df2DB', con=engine)"
   ]
  },
  {
   "cell_type": "code",
   "execution_count": null,
   "metadata": {},
   "outputs": [],
   "source": [
    "sql_join = 'SELECT * FROM df1DB INNER JOIN df2DB ON df1DB.key = df2DB.key'\n",
    "cursor.execute(sql_join).fetchall()"
   ]
  },
  {
   "cell_type": "code",
   "execution_count": null,
   "metadata": {},
   "outputs": [],
   "source": [
    "pd.merge(df1, df2, on=\"key\")"
   ]
  },
  {
   "cell_type": "code",
   "execution_count": null,
   "metadata": {},
   "outputs": [],
   "source": [
    "sql_leftjoin = 'SELECT * FROM df1DB LEFT OUTER JOIN df2DB ON df1DB.key = df2DB.key'\n",
    "cursor.execute(sql_leftjoin).fetchall()"
   ]
  },
  {
   "cell_type": "code",
   "execution_count": null,
   "metadata": {},
   "outputs": [],
   "source": [
    "pd.merge(df1, df2, on=\"key\", how=\"left\")"
   ]
  },
  {
   "cell_type": "code",
   "execution_count": null,
   "metadata": {},
   "outputs": [],
   "source": [
    "df3 = pd.DataFrame( \n",
    "        {\"city\": [\"Chicago\", \"San Francisco\", \"New York City\"], \"rank\": range(1, 4)}\n",
    "        )\n",
    "\n",
    "df4 = pd.DataFrame(\n",
    "        {\"city\": [\"Chicago\", \"Boston\", \"Los Angeles\"], \"rank\": [1, 4, 5]})\n"
   ]
  },
  {
   "cell_type": "code",
   "execution_count": null,
   "metadata": {},
   "outputs": [],
   "source": [
    "df3.to_sql('df3DB', con=engine)\n",
    "df4.to_sql('df4DB', con=engine)"
   ]
  },
  {
   "cell_type": "code",
   "execution_count": null,
   "metadata": {},
   "outputs": [],
   "source": [
    "sql_union = 'SELECT *\\\n",
    "                FROM df3DB\\\n",
    "                UNION ALL\\\n",
    "             SELECT *\\\n",
    "                FROM df4DB'\n",
    "cursor.execute(sql_union).fetchall()"
   ]
  },
  {
   "cell_type": "code",
   "execution_count": null,
   "metadata": {},
   "outputs": [],
   "source": []
  },
  {
   "cell_type": "markdown",
   "metadata": {},
   "source": [
    "<h3> Análise de dados </h3>\n",
    "<h4> Regressão Linear; Regressão Linear Múltipla; Regressão Polinomial ; Regressão Ridge ; Cross-Validation </h4>"
   ]
  },
  {
   "cell_type": "code",
   "execution_count": 37,
   "metadata": {},
   "outputs": [
    {
     "data": {
      "text/html": [
       "<div>\n",
       "<style scoped>\n",
       "    .dataframe tbody tr th:only-of-type {\n",
       "        vertical-align: middle;\n",
       "    }\n",
       "\n",
       "    .dataframe tbody tr th {\n",
       "        vertical-align: top;\n",
       "    }\n",
       "\n",
       "    .dataframe thead th {\n",
       "        text-align: right;\n",
       "    }\n",
       "</style>\n",
       "<table border=\"1\" class=\"dataframe\">\n",
       "  <thead>\n",
       "    <tr style=\"text-align: right;\">\n",
       "      <th></th>\n",
       "      <th>Duration</th>\n",
       "      <th>Pulse</th>\n",
       "      <th>Maxpulse</th>\n",
       "      <th>Calories</th>\n",
       "    </tr>\n",
       "  </thead>\n",
       "  <tbody>\n",
       "    <tr>\n",
       "      <th>0</th>\n",
       "      <td>60</td>\n",
       "      <td>110</td>\n",
       "      <td>130</td>\n",
       "      <td>409.1</td>\n",
       "    </tr>\n",
       "    <tr>\n",
       "      <th>1</th>\n",
       "      <td>60</td>\n",
       "      <td>117</td>\n",
       "      <td>145</td>\n",
       "      <td>479.0</td>\n",
       "    </tr>\n",
       "    <tr>\n",
       "      <th>2</th>\n",
       "      <td>60</td>\n",
       "      <td>103</td>\n",
       "      <td>135</td>\n",
       "      <td>340.0</td>\n",
       "    </tr>\n",
       "    <tr>\n",
       "      <th>3</th>\n",
       "      <td>45</td>\n",
       "      <td>109</td>\n",
       "      <td>175</td>\n",
       "      <td>282.4</td>\n",
       "    </tr>\n",
       "    <tr>\n",
       "      <th>4</th>\n",
       "      <td>45</td>\n",
       "      <td>117</td>\n",
       "      <td>148</td>\n",
       "      <td>406.0</td>\n",
       "    </tr>\n",
       "    <tr>\n",
       "      <th>...</th>\n",
       "      <td>...</td>\n",
       "      <td>...</td>\n",
       "      <td>...</td>\n",
       "      <td>...</td>\n",
       "    </tr>\n",
       "    <tr>\n",
       "      <th>164</th>\n",
       "      <td>60</td>\n",
       "      <td>105</td>\n",
       "      <td>140</td>\n",
       "      <td>290.8</td>\n",
       "    </tr>\n",
       "    <tr>\n",
       "      <th>165</th>\n",
       "      <td>60</td>\n",
       "      <td>110</td>\n",
       "      <td>145</td>\n",
       "      <td>300.0</td>\n",
       "    </tr>\n",
       "    <tr>\n",
       "      <th>166</th>\n",
       "      <td>60</td>\n",
       "      <td>115</td>\n",
       "      <td>145</td>\n",
       "      <td>310.2</td>\n",
       "    </tr>\n",
       "    <tr>\n",
       "      <th>167</th>\n",
       "      <td>75</td>\n",
       "      <td>120</td>\n",
       "      <td>150</td>\n",
       "      <td>320.4</td>\n",
       "    </tr>\n",
       "    <tr>\n",
       "      <th>168</th>\n",
       "      <td>75</td>\n",
       "      <td>125</td>\n",
       "      <td>150</td>\n",
       "      <td>330.4</td>\n",
       "    </tr>\n",
       "  </tbody>\n",
       "</table>\n",
       "<p>169 rows × 4 columns</p>\n",
       "</div>"
      ],
      "text/plain": [
       "     Duration  Pulse  Maxpulse  Calories\n",
       "0          60    110       130     409.1\n",
       "1          60    117       145     479.0\n",
       "2          60    103       135     340.0\n",
       "3          45    109       175     282.4\n",
       "4          45    117       148     406.0\n",
       "..        ...    ...       ...       ...\n",
       "164        60    105       140     290.8\n",
       "165        60    110       145     300.0\n",
       "166        60    115       145     310.2\n",
       "167        75    120       150     320.4\n",
       "168        75    125       150     330.4\n",
       "\n",
       "[169 rows x 4 columns]"
      ]
     },
     "execution_count": 37,
     "metadata": {},
     "output_type": "execute_result"
    }
   ],
   "source": [
    "import pandas as pd\n",
    "#dfClean = pd.read_csv('dirtydata_Semana5.csv')\n",
    "dfClean = pd.read_csv('data.csv')\n",
    "dfClean"
   ]
  },
  {
   "cell_type": "code",
   "execution_count": 39,
   "metadata": {},
   "outputs": [],
   "source": [
    "#dfClean['Date'].str.match(\"'[0-9]{4}/[0-9]{2}/[0-9]{2}'\")"
   ]
  },
  {
   "cell_type": "code",
   "execution_count": 40,
   "metadata": {},
   "outputs": [
    {
     "data": {
      "text/html": [
       "<div>\n",
       "<style scoped>\n",
       "    .dataframe tbody tr th:only-of-type {\n",
       "        vertical-align: middle;\n",
       "    }\n",
       "\n",
       "    .dataframe tbody tr th {\n",
       "        vertical-align: top;\n",
       "    }\n",
       "\n",
       "    .dataframe thead th {\n",
       "        text-align: right;\n",
       "    }\n",
       "</style>\n",
       "<table border=\"1\" class=\"dataframe\">\n",
       "  <thead>\n",
       "    <tr style=\"text-align: right;\">\n",
       "      <th></th>\n",
       "      <th>Duration</th>\n",
       "      <th>Pulse</th>\n",
       "      <th>Maxpulse</th>\n",
       "      <th>Calories</th>\n",
       "    </tr>\n",
       "  </thead>\n",
       "  <tbody>\n",
       "    <tr>\n",
       "      <th>36</th>\n",
       "      <td>60</td>\n",
       "      <td>102</td>\n",
       "      <td>127</td>\n",
       "      <td>300.0</td>\n",
       "    </tr>\n",
       "    <tr>\n",
       "      <th>37</th>\n",
       "      <td>60</td>\n",
       "      <td>100</td>\n",
       "      <td>120</td>\n",
       "      <td>300.0</td>\n",
       "    </tr>\n",
       "    <tr>\n",
       "      <th>38</th>\n",
       "      <td>60</td>\n",
       "      <td>100</td>\n",
       "      <td>120</td>\n",
       "      <td>300.0</td>\n",
       "    </tr>\n",
       "    <tr>\n",
       "      <th>40</th>\n",
       "      <td>45</td>\n",
       "      <td>90</td>\n",
       "      <td>112</td>\n",
       "      <td>180.1</td>\n",
       "    </tr>\n",
       "    <tr>\n",
       "      <th>71</th>\n",
       "      <td>60</td>\n",
       "      <td>109</td>\n",
       "      <td>153</td>\n",
       "      <td>387.6</td>\n",
       "    </tr>\n",
       "    <tr>\n",
       "      <th>113</th>\n",
       "      <td>45</td>\n",
       "      <td>100</td>\n",
       "      <td>120</td>\n",
       "      <td>225.3</td>\n",
       "    </tr>\n",
       "    <tr>\n",
       "      <th>155</th>\n",
       "      <td>60</td>\n",
       "      <td>111</td>\n",
       "      <td>151</td>\n",
       "      <td>368.5</td>\n",
       "    </tr>\n",
       "  </tbody>\n",
       "</table>\n",
       "</div>"
      ],
      "text/plain": [
       "     Duration  Pulse  Maxpulse  Calories\n",
       "36         60    102       127     300.0\n",
       "37         60    100       120     300.0\n",
       "38         60    100       120     300.0\n",
       "40         45     90       112     180.1\n",
       "71         60    109       153     387.6\n",
       "113        45    100       120     225.3\n",
       "155        60    111       151     368.5"
      ]
     },
     "execution_count": 40,
     "metadata": {},
     "output_type": "execute_result"
    }
   ],
   "source": [
    "#### Verifica se tem duplicatas no Dataframe ###3\n",
    "dfClean[dfClean.duplicated()]"
   ]
  },
  {
   "cell_type": "code",
   "execution_count": 41,
   "metadata": {},
   "outputs": [
    {
     "data": {
      "text/html": [
       "<div>\n",
       "<style scoped>\n",
       "    .dataframe tbody tr th:only-of-type {\n",
       "        vertical-align: middle;\n",
       "    }\n",
       "\n",
       "    .dataframe tbody tr th {\n",
       "        vertical-align: top;\n",
       "    }\n",
       "\n",
       "    .dataframe thead th {\n",
       "        text-align: right;\n",
       "    }\n",
       "</style>\n",
       "<table border=\"1\" class=\"dataframe\">\n",
       "  <thead>\n",
       "    <tr style=\"text-align: right;\">\n",
       "      <th></th>\n",
       "      <th>Duration</th>\n",
       "      <th>Pulse</th>\n",
       "      <th>Maxpulse</th>\n",
       "      <th>Calories</th>\n",
       "    </tr>\n",
       "  </thead>\n",
       "  <tbody>\n",
       "    <tr>\n",
       "      <th>0</th>\n",
       "      <td>60</td>\n",
       "      <td>110</td>\n",
       "      <td>130</td>\n",
       "      <td>409.1</td>\n",
       "    </tr>\n",
       "    <tr>\n",
       "      <th>1</th>\n",
       "      <td>60</td>\n",
       "      <td>117</td>\n",
       "      <td>145</td>\n",
       "      <td>479.0</td>\n",
       "    </tr>\n",
       "    <tr>\n",
       "      <th>2</th>\n",
       "      <td>60</td>\n",
       "      <td>103</td>\n",
       "      <td>135</td>\n",
       "      <td>340.0</td>\n",
       "    </tr>\n",
       "    <tr>\n",
       "      <th>3</th>\n",
       "      <td>45</td>\n",
       "      <td>109</td>\n",
       "      <td>175</td>\n",
       "      <td>282.4</td>\n",
       "    </tr>\n",
       "    <tr>\n",
       "      <th>4</th>\n",
       "      <td>45</td>\n",
       "      <td>117</td>\n",
       "      <td>148</td>\n",
       "      <td>406.0</td>\n",
       "    </tr>\n",
       "  </tbody>\n",
       "</table>\n",
       "</div>"
      ],
      "text/plain": [
       "   Duration  Pulse  Maxpulse  Calories\n",
       "0        60    110       130     409.1\n",
       "1        60    117       145     479.0\n",
       "2        60    103       135     340.0\n",
       "3        45    109       175     282.4\n",
       "4        45    117       148     406.0"
      ]
     },
     "execution_count": 41,
     "metadata": {},
     "output_type": "execute_result"
    }
   ],
   "source": [
    "### Remove as duplicatas ####\n",
    "dfClean.drop_duplicates(inplace=True)\n",
    "dfClean.head()"
   ]
  },
  {
   "cell_type": "code",
   "execution_count": 42,
   "metadata": {},
   "outputs": [
    {
     "data": {
      "text/html": [
       "<div>\n",
       "<style scoped>\n",
       "    .dataframe tbody tr th:only-of-type {\n",
       "        vertical-align: middle;\n",
       "    }\n",
       "\n",
       "    .dataframe tbody tr th {\n",
       "        vertical-align: top;\n",
       "    }\n",
       "\n",
       "    .dataframe thead th {\n",
       "        text-align: right;\n",
       "    }\n",
       "</style>\n",
       "<table border=\"1\" class=\"dataframe\">\n",
       "  <thead>\n",
       "    <tr style=\"text-align: right;\">\n",
       "      <th></th>\n",
       "      <th>Duration</th>\n",
       "      <th>Pulse</th>\n",
       "      <th>Maxpulse</th>\n",
       "      <th>Calories</th>\n",
       "    </tr>\n",
       "  </thead>\n",
       "  <tbody>\n",
       "    <tr>\n",
       "      <th>0</th>\n",
       "      <td>60</td>\n",
       "      <td>110</td>\n",
       "      <td>130</td>\n",
       "      <td>409.1</td>\n",
       "    </tr>\n",
       "    <tr>\n",
       "      <th>1</th>\n",
       "      <td>60</td>\n",
       "      <td>117</td>\n",
       "      <td>145</td>\n",
       "      <td>479.0</td>\n",
       "    </tr>\n",
       "    <tr>\n",
       "      <th>2</th>\n",
       "      <td>60</td>\n",
       "      <td>103</td>\n",
       "      <td>135</td>\n",
       "      <td>340.0</td>\n",
       "    </tr>\n",
       "    <tr>\n",
       "      <th>3</th>\n",
       "      <td>45</td>\n",
       "      <td>109</td>\n",
       "      <td>175</td>\n",
       "      <td>282.4</td>\n",
       "    </tr>\n",
       "    <tr>\n",
       "      <th>4</th>\n",
       "      <td>45</td>\n",
       "      <td>117</td>\n",
       "      <td>148</td>\n",
       "      <td>406.0</td>\n",
       "    </tr>\n",
       "    <tr>\n",
       "      <th>5</th>\n",
       "      <td>60</td>\n",
       "      <td>102</td>\n",
       "      <td>127</td>\n",
       "      <td>300.0</td>\n",
       "    </tr>\n",
       "    <tr>\n",
       "      <th>6</th>\n",
       "      <td>60</td>\n",
       "      <td>110</td>\n",
       "      <td>136</td>\n",
       "      <td>374.0</td>\n",
       "    </tr>\n",
       "    <tr>\n",
       "      <th>7</th>\n",
       "      <td>45</td>\n",
       "      <td>104</td>\n",
       "      <td>134</td>\n",
       "      <td>253.3</td>\n",
       "    </tr>\n",
       "    <tr>\n",
       "      <th>8</th>\n",
       "      <td>30</td>\n",
       "      <td>109</td>\n",
       "      <td>133</td>\n",
       "      <td>195.1</td>\n",
       "    </tr>\n",
       "    <tr>\n",
       "      <th>9</th>\n",
       "      <td>60</td>\n",
       "      <td>98</td>\n",
       "      <td>124</td>\n",
       "      <td>269.0</td>\n",
       "    </tr>\n",
       "    <tr>\n",
       "      <th>10</th>\n",
       "      <td>60</td>\n",
       "      <td>103</td>\n",
       "      <td>147</td>\n",
       "      <td>329.3</td>\n",
       "    </tr>\n",
       "    <tr>\n",
       "      <th>11</th>\n",
       "      <td>60</td>\n",
       "      <td>100</td>\n",
       "      <td>120</td>\n",
       "      <td>250.7</td>\n",
       "    </tr>\n",
       "    <tr>\n",
       "      <th>12</th>\n",
       "      <td>60</td>\n",
       "      <td>106</td>\n",
       "      <td>128</td>\n",
       "      <td>345.3</td>\n",
       "    </tr>\n",
       "    <tr>\n",
       "      <th>13</th>\n",
       "      <td>60</td>\n",
       "      <td>104</td>\n",
       "      <td>132</td>\n",
       "      <td>379.3</td>\n",
       "    </tr>\n",
       "    <tr>\n",
       "      <th>14</th>\n",
       "      <td>60</td>\n",
       "      <td>98</td>\n",
       "      <td>123</td>\n",
       "      <td>275.0</td>\n",
       "    </tr>\n",
       "    <tr>\n",
       "      <th>15</th>\n",
       "      <td>60</td>\n",
       "      <td>98</td>\n",
       "      <td>120</td>\n",
       "      <td>215.2</td>\n",
       "    </tr>\n",
       "    <tr>\n",
       "      <th>16</th>\n",
       "      <td>60</td>\n",
       "      <td>100</td>\n",
       "      <td>120</td>\n",
       "      <td>300.0</td>\n",
       "    </tr>\n",
       "    <tr>\n",
       "      <th>17</th>\n",
       "      <td>45</td>\n",
       "      <td>90</td>\n",
       "      <td>112</td>\n",
       "      <td>NaN</td>\n",
       "    </tr>\n",
       "    <tr>\n",
       "      <th>18</th>\n",
       "      <td>60</td>\n",
       "      <td>103</td>\n",
       "      <td>123</td>\n",
       "      <td>323.0</td>\n",
       "    </tr>\n",
       "    <tr>\n",
       "      <th>19</th>\n",
       "      <td>45</td>\n",
       "      <td>97</td>\n",
       "      <td>125</td>\n",
       "      <td>243.0</td>\n",
       "    </tr>\n",
       "    <tr>\n",
       "      <th>20</th>\n",
       "      <td>60</td>\n",
       "      <td>108</td>\n",
       "      <td>131</td>\n",
       "      <td>364.2</td>\n",
       "    </tr>\n",
       "    <tr>\n",
       "      <th>21</th>\n",
       "      <td>45</td>\n",
       "      <td>100</td>\n",
       "      <td>119</td>\n",
       "      <td>282.0</td>\n",
       "    </tr>\n",
       "    <tr>\n",
       "      <th>22</th>\n",
       "      <td>60</td>\n",
       "      <td>130</td>\n",
       "      <td>101</td>\n",
       "      <td>300.0</td>\n",
       "    </tr>\n",
       "    <tr>\n",
       "      <th>23</th>\n",
       "      <td>45</td>\n",
       "      <td>105</td>\n",
       "      <td>132</td>\n",
       "      <td>246.0</td>\n",
       "    </tr>\n",
       "    <tr>\n",
       "      <th>24</th>\n",
       "      <td>60</td>\n",
       "      <td>102</td>\n",
       "      <td>126</td>\n",
       "      <td>334.5</td>\n",
       "    </tr>\n",
       "    <tr>\n",
       "      <th>25</th>\n",
       "      <td>60</td>\n",
       "      <td>100</td>\n",
       "      <td>120</td>\n",
       "      <td>250.0</td>\n",
       "    </tr>\n",
       "    <tr>\n",
       "      <th>26</th>\n",
       "      <td>60</td>\n",
       "      <td>92</td>\n",
       "      <td>118</td>\n",
       "      <td>241.0</td>\n",
       "    </tr>\n",
       "    <tr>\n",
       "      <th>27</th>\n",
       "      <td>60</td>\n",
       "      <td>103</td>\n",
       "      <td>132</td>\n",
       "      <td>NaN</td>\n",
       "    </tr>\n",
       "    <tr>\n",
       "      <th>28</th>\n",
       "      <td>60</td>\n",
       "      <td>100</td>\n",
       "      <td>132</td>\n",
       "      <td>280.0</td>\n",
       "    </tr>\n",
       "    <tr>\n",
       "      <th>29</th>\n",
       "      <td>60</td>\n",
       "      <td>102</td>\n",
       "      <td>129</td>\n",
       "      <td>380.3</td>\n",
       "    </tr>\n",
       "    <tr>\n",
       "      <th>30</th>\n",
       "      <td>60</td>\n",
       "      <td>92</td>\n",
       "      <td>115</td>\n",
       "      <td>243.0</td>\n",
       "    </tr>\n",
       "    <tr>\n",
       "      <th>31</th>\n",
       "      <td>45</td>\n",
       "      <td>90</td>\n",
       "      <td>112</td>\n",
       "      <td>180.1</td>\n",
       "    </tr>\n",
       "    <tr>\n",
       "      <th>32</th>\n",
       "      <td>60</td>\n",
       "      <td>101</td>\n",
       "      <td>124</td>\n",
       "      <td>299.0</td>\n",
       "    </tr>\n",
       "    <tr>\n",
       "      <th>33</th>\n",
       "      <td>60</td>\n",
       "      <td>93</td>\n",
       "      <td>113</td>\n",
       "      <td>223.0</td>\n",
       "    </tr>\n",
       "    <tr>\n",
       "      <th>34</th>\n",
       "      <td>60</td>\n",
       "      <td>107</td>\n",
       "      <td>136</td>\n",
       "      <td>361.0</td>\n",
       "    </tr>\n",
       "    <tr>\n",
       "      <th>35</th>\n",
       "      <td>60</td>\n",
       "      <td>114</td>\n",
       "      <td>140</td>\n",
       "      <td>415.0</td>\n",
       "    </tr>\n",
       "    <tr>\n",
       "      <th>36</th>\n",
       "      <td>45</td>\n",
       "      <td>104</td>\n",
       "      <td>129</td>\n",
       "      <td>266.0</td>\n",
       "    </tr>\n",
       "    <tr>\n",
       "      <th>37</th>\n",
       "      <td>60</td>\n",
       "      <td>98</td>\n",
       "      <td>126</td>\n",
       "      <td>286.0</td>\n",
       "    </tr>\n",
       "    <tr>\n",
       "      <th>38</th>\n",
       "      <td>60</td>\n",
       "      <td>100</td>\n",
       "      <td>122</td>\n",
       "      <td>329.4</td>\n",
       "    </tr>\n",
       "    <tr>\n",
       "      <th>39</th>\n",
       "      <td>60</td>\n",
       "      <td>111</td>\n",
       "      <td>138</td>\n",
       "      <td>400.0</td>\n",
       "    </tr>\n",
       "    <tr>\n",
       "      <th>40</th>\n",
       "      <td>60</td>\n",
       "      <td>111</td>\n",
       "      <td>131</td>\n",
       "      <td>397.0</td>\n",
       "    </tr>\n",
       "    <tr>\n",
       "      <th>41</th>\n",
       "      <td>60</td>\n",
       "      <td>99</td>\n",
       "      <td>119</td>\n",
       "      <td>273.0</td>\n",
       "    </tr>\n",
       "    <tr>\n",
       "      <th>42</th>\n",
       "      <td>60</td>\n",
       "      <td>109</td>\n",
       "      <td>153</td>\n",
       "      <td>387.6</td>\n",
       "    </tr>\n",
       "    <tr>\n",
       "      <th>43</th>\n",
       "      <td>45</td>\n",
       "      <td>111</td>\n",
       "      <td>136</td>\n",
       "      <td>300.0</td>\n",
       "    </tr>\n",
       "    <tr>\n",
       "      <th>44</th>\n",
       "      <td>45</td>\n",
       "      <td>108</td>\n",
       "      <td>129</td>\n",
       "      <td>298.0</td>\n",
       "    </tr>\n",
       "    <tr>\n",
       "      <th>45</th>\n",
       "      <td>60</td>\n",
       "      <td>111</td>\n",
       "      <td>139</td>\n",
       "      <td>397.6</td>\n",
       "    </tr>\n",
       "    <tr>\n",
       "      <th>46</th>\n",
       "      <td>60</td>\n",
       "      <td>107</td>\n",
       "      <td>136</td>\n",
       "      <td>380.2</td>\n",
       "    </tr>\n",
       "    <tr>\n",
       "      <th>47</th>\n",
       "      <td>80</td>\n",
       "      <td>123</td>\n",
       "      <td>146</td>\n",
       "      <td>643.1</td>\n",
       "    </tr>\n",
       "    <tr>\n",
       "      <th>48</th>\n",
       "      <td>60</td>\n",
       "      <td>106</td>\n",
       "      <td>130</td>\n",
       "      <td>263.0</td>\n",
       "    </tr>\n",
       "    <tr>\n",
       "      <th>49</th>\n",
       "      <td>60</td>\n",
       "      <td>118</td>\n",
       "      <td>151</td>\n",
       "      <td>486.0</td>\n",
       "    </tr>\n",
       "  </tbody>\n",
       "</table>\n",
       "</div>"
      ],
      "text/plain": [
       "    Duration  Pulse  Maxpulse  Calories\n",
       "0         60    110       130     409.1\n",
       "1         60    117       145     479.0\n",
       "2         60    103       135     340.0\n",
       "3         45    109       175     282.4\n",
       "4         45    117       148     406.0\n",
       "5         60    102       127     300.0\n",
       "6         60    110       136     374.0\n",
       "7         45    104       134     253.3\n",
       "8         30    109       133     195.1\n",
       "9         60     98       124     269.0\n",
       "10        60    103       147     329.3\n",
       "11        60    100       120     250.7\n",
       "12        60    106       128     345.3\n",
       "13        60    104       132     379.3\n",
       "14        60     98       123     275.0\n",
       "15        60     98       120     215.2\n",
       "16        60    100       120     300.0\n",
       "17        45     90       112       NaN\n",
       "18        60    103       123     323.0\n",
       "19        45     97       125     243.0\n",
       "20        60    108       131     364.2\n",
       "21        45    100       119     282.0\n",
       "22        60    130       101     300.0\n",
       "23        45    105       132     246.0\n",
       "24        60    102       126     334.5\n",
       "25        60    100       120     250.0\n",
       "26        60     92       118     241.0\n",
       "27        60    103       132       NaN\n",
       "28        60    100       132     280.0\n",
       "29        60    102       129     380.3\n",
       "30        60     92       115     243.0\n",
       "31        45     90       112     180.1\n",
       "32        60    101       124     299.0\n",
       "33        60     93       113     223.0\n",
       "34        60    107       136     361.0\n",
       "35        60    114       140     415.0\n",
       "36        45    104       129     266.0\n",
       "37        60     98       126     286.0\n",
       "38        60    100       122     329.4\n",
       "39        60    111       138     400.0\n",
       "40        60    111       131     397.0\n",
       "41        60     99       119     273.0\n",
       "42        60    109       153     387.6\n",
       "43        45    111       136     300.0\n",
       "44        45    108       129     298.0\n",
       "45        60    111       139     397.6\n",
       "46        60    107       136     380.2\n",
       "47        80    123       146     643.1\n",
       "48        60    106       130     263.0\n",
       "49        60    118       151     486.0"
      ]
     },
     "execution_count": 42,
     "metadata": {},
     "output_type": "execute_result"
    }
   ],
   "source": [
    "### Reset_index #### \n",
    "dfClean.reset_index(drop=True,inplace=True)\n",
    "dfClean.head(50)"
   ]
  },
  {
   "cell_type": "code",
   "execution_count": 43,
   "metadata": {},
   "outputs": [
    {
     "data": {
      "text/plain": [
       "Duration    0\n",
       "Pulse       0\n",
       "Maxpulse    0\n",
       "Calories    5\n",
       "dtype: int64"
      ]
     },
     "execution_count": 43,
     "metadata": {},
     "output_type": "execute_result"
    }
   ],
   "source": [
    "### Verifica se tem valores nulos na tabela ###\n",
    "dfClean.isnull().sum()"
   ]
  },
  {
   "cell_type": "code",
   "execution_count": 44,
   "metadata": {},
   "outputs": [
    {
     "name": "stdout",
     "output_type": "stream",
     "text": [
      "<class 'pandas.core.frame.DataFrame'>\n",
      "RangeIndex: 162 entries, 0 to 161\n",
      "Data columns (total 4 columns):\n",
      " #   Column    Non-Null Count  Dtype  \n",
      "---  ------    --------------  -----  \n",
      " 0   Duration  162 non-null    int64  \n",
      " 1   Pulse     162 non-null    int64  \n",
      " 2   Maxpulse  162 non-null    int64  \n",
      " 3   Calories  157 non-null    float64\n",
      "dtypes: float64(1), int64(3)\n",
      "memory usage: 5.2 KB\n"
     ]
    }
   ],
   "source": [
    "dfClean.info()\n"
   ]
  },
  {
   "cell_type": "code",
   "execution_count": 45,
   "metadata": {},
   "outputs": [
    {
     "data": {
      "text/plain": [
       "0      <class 'float'>\n",
       "1      <class 'float'>\n",
       "2      <class 'float'>\n",
       "3      <class 'float'>\n",
       "4      <class 'float'>\n",
       "            ...       \n",
       "157    <class 'float'>\n",
       "158    <class 'float'>\n",
       "159    <class 'float'>\n",
       "160    <class 'float'>\n",
       "161    <class 'float'>\n",
       "Name: Calories, Length: 162, dtype: object"
      ]
     },
     "execution_count": 45,
     "metadata": {},
     "output_type": "execute_result"
    }
   ],
   "source": [
    "### Tipos de uma coluna #### \n",
    "dfClean.Calories.map(type)"
   ]
  },
  {
   "cell_type": "code",
   "execution_count": 46,
   "metadata": {},
   "outputs": [
    {
     "data": {
      "text/html": [
       "<div>\n",
       "<style scoped>\n",
       "    .dataframe tbody tr th:only-of-type {\n",
       "        vertical-align: middle;\n",
       "    }\n",
       "\n",
       "    .dataframe tbody tr th {\n",
       "        vertical-align: top;\n",
       "    }\n",
       "\n",
       "    .dataframe thead th {\n",
       "        text-align: right;\n",
       "    }\n",
       "</style>\n",
       "<table border=\"1\" class=\"dataframe\">\n",
       "  <thead>\n",
       "    <tr style=\"text-align: right;\">\n",
       "      <th></th>\n",
       "      <th>Duration</th>\n",
       "      <th>Pulse</th>\n",
       "      <th>Maxpulse</th>\n",
       "      <th>Calories</th>\n",
       "    </tr>\n",
       "  </thead>\n",
       "  <tbody>\n",
       "    <tr>\n",
       "      <th>17</th>\n",
       "      <td>45</td>\n",
       "      <td>90</td>\n",
       "      <td>112</td>\n",
       "      <td>NaN</td>\n",
       "    </tr>\n",
       "    <tr>\n",
       "      <th>27</th>\n",
       "      <td>60</td>\n",
       "      <td>103</td>\n",
       "      <td>132</td>\n",
       "      <td>NaN</td>\n",
       "    </tr>\n",
       "    <tr>\n",
       "      <th>86</th>\n",
       "      <td>45</td>\n",
       "      <td>107</td>\n",
       "      <td>137</td>\n",
       "      <td>NaN</td>\n",
       "    </tr>\n",
       "    <tr>\n",
       "      <th>112</th>\n",
       "      <td>60</td>\n",
       "      <td>105</td>\n",
       "      <td>125</td>\n",
       "      <td>NaN</td>\n",
       "    </tr>\n",
       "    <tr>\n",
       "      <th>135</th>\n",
       "      <td>60</td>\n",
       "      <td>97</td>\n",
       "      <td>127</td>\n",
       "      <td>NaN</td>\n",
       "    </tr>\n",
       "  </tbody>\n",
       "</table>\n",
       "</div>"
      ],
      "text/plain": [
       "     Duration  Pulse  Maxpulse  Calories\n",
       "17         45     90       112       NaN\n",
       "27         60    103       132       NaN\n",
       "86         45    107       137       NaN\n",
       "112        60    105       125       NaN\n",
       "135        60     97       127       NaN"
      ]
     },
     "execution_count": 46,
     "metadata": {},
     "output_type": "execute_result"
    }
   ],
   "source": [
    "### Visualiza a coluna Calories #####\n",
    "dfClean[dfClean.Calories.isna()]"
   ]
  },
  {
   "cell_type": "code",
   "execution_count": 47,
   "metadata": {},
   "outputs": [
    {
     "data": {
      "text/plain": [
       "277.7870967741935"
      ]
     },
     "execution_count": 47,
     "metadata": {},
     "output_type": "execute_result"
    }
   ],
   "source": [
    "#### Substituir pela média ##### \n",
    "avg_45 = dfClean[dfClean.Duration==45].Calories.mean()\n",
    "avg_45"
   ]
  },
  {
   "cell_type": "code",
   "execution_count": 48,
   "metadata": {},
   "outputs": [
    {
     "data": {
      "text/plain": [
       "340.27042253521125"
      ]
     },
     "execution_count": 48,
     "metadata": {},
     "output_type": "execute_result"
    }
   ],
   "source": [
    "avg_60 = dfClean[dfClean.Duration==60].Calories.mean()\n",
    "avg_60"
   ]
  },
  {
   "cell_type": "code",
   "execution_count": 49,
   "metadata": {},
   "outputs": [],
   "source": [
    "dfClean.loc[(dfClean.Calories.isna()) & (dfClean.Duration==60),'Calories'] = avg_60"
   ]
  },
  {
   "cell_type": "code",
   "execution_count": 50,
   "metadata": {},
   "outputs": [],
   "source": [
    "dfClean.loc[(dfClean.Calories.isna()) & (dfClean.Duration==45),'Calories'] = avg_45"
   ]
  },
  {
   "cell_type": "code",
   "execution_count": 51,
   "metadata": {},
   "outputs": [
    {
     "data": {
      "text/html": [
       "<div>\n",
       "<style scoped>\n",
       "    .dataframe tbody tr th:only-of-type {\n",
       "        vertical-align: middle;\n",
       "    }\n",
       "\n",
       "    .dataframe tbody tr th {\n",
       "        vertical-align: top;\n",
       "    }\n",
       "\n",
       "    .dataframe thead th {\n",
       "        text-align: right;\n",
       "    }\n",
       "</style>\n",
       "<table border=\"1\" class=\"dataframe\">\n",
       "  <thead>\n",
       "    <tr style=\"text-align: right;\">\n",
       "      <th></th>\n",
       "      <th>Duration</th>\n",
       "      <th>Pulse</th>\n",
       "      <th>Maxpulse</th>\n",
       "      <th>Calories</th>\n",
       "    </tr>\n",
       "  </thead>\n",
       "  <tbody>\n",
       "  </tbody>\n",
       "</table>\n",
       "</div>"
      ],
      "text/plain": [
       "Empty DataFrame\n",
       "Columns: [Duration, Pulse, Maxpulse, Calories]\n",
       "Index: []"
      ]
     },
     "execution_count": 51,
     "metadata": {},
     "output_type": "execute_result"
    }
   ],
   "source": [
    "dfClean[dfClean.Calories.isnull()]"
   ]
  },
  {
   "cell_type": "code",
   "execution_count": 52,
   "metadata": {},
   "outputs": [
    {
     "data": {
      "text/plain": [
       "<pandas.plotting._core.PlotAccessor object at 0x000002161243EA00>"
      ]
     },
     "execution_count": 52,
     "metadata": {},
     "output_type": "execute_result"
    }
   ],
   "source": [
    "## Visualização do DataFrame ###### \n",
    "dfClean.Calories.plot"
   ]
  },
  {
   "cell_type": "code",
   "execution_count": 53,
   "metadata": {},
   "outputs": [
    {
     "data": {
      "text/plain": [
       "<AxesSubplot:xlabel='Duration', ylabel='Calories'>"
      ]
     },
     "execution_count": 53,
     "metadata": {},
     "output_type": "execute_result"
    },
    {
     "data": {
      "image/png": "[encoded data removed]",
      "text/plain": [
       "<Figure size 432x288 with 1 Axes>"
      ]
     },
     "metadata": {
      "needs_background": "light"
     },
     "output_type": "display_data"
    }
   ],
   "source": [
    "dfClean.plot(kind='scatter', x='Duration', y='Calories')"
   ]
  },
  {
   "attachments": {
    "image-2.png": {
     "image/png": "[encoded data removed]"
    },
    "image-3.png": {
     "image/png": "[encoded data removed]"
    },
    "image-4.png": {
     "image/png": "[encoded data removed]"
    },
    "image-5.png": {
     "image/png": "[encoded data removed]"
    }
   },
   "cell_type": "markdown",
   "metadata": {},
   "source": [
    "### Regressão Linear #####\n",
    "\n",
    "#### Coeficiente de Determinação (R-squared) : \n",
    "\n",
    "![image-2.png](attachment:image-2.png)\n",
    "![image-3.png](attachment:image-3.png)\n",
    "![image-4.png](attachment:image-4.png)\n",
    "\n",
    "#### Mean squared error :\n",
    "\n",
    "![image-5.png](attachment:image-5.png)"
   ]
  },
  {
   "attachments": {
    "image.png": {
     "image/png": "[encoded data removed]"
    }
   },
   "cell_type": "markdown",
   "metadata": {},
   "source": [
    " ![image.png](attachment:image.png)"
   ]
  },
  {
   "cell_type": "code",
   "execution_count": 54,
   "metadata": {},
   "outputs": [
    {
     "data": {
      "text/plain": [
       "<AxesSubplot:>"
      ]
     },
     "execution_count": 54,
     "metadata": {},
     "output_type": "execute_result"
    },
    {
     "data": {
      "image/png": "[encoded data removed]",
      "text/plain": [
       "<Figure size 432x288 with 1 Axes>"
      ]
     },
     "metadata": {
      "needs_background": "light"
     },
     "output_type": "display_data"
    }
   ],
   "source": [
    "dfClean.boxplot('Calories')"
   ]
  },
  {
   "cell_type": "code",
   "execution_count": 55,
   "metadata": {},
   "outputs": [
    {
     "data": {
      "text/html": [
       "<div>\n",
       "<style scoped>\n",
       "    .dataframe tbody tr th:only-of-type {\n",
       "        vertical-align: middle;\n",
       "    }\n",
       "\n",
       "    .dataframe tbody tr th {\n",
       "        vertical-align: top;\n",
       "    }\n",
       "\n",
       "    .dataframe thead th {\n",
       "        text-align: right;\n",
       "    }\n",
       "</style>\n",
       "<table border=\"1\" class=\"dataframe\">\n",
       "  <thead>\n",
       "    <tr style=\"text-align: right;\">\n",
       "      <th></th>\n",
       "      <th>Duration</th>\n",
       "      <th>Pulse</th>\n",
       "      <th>Maxpulse</th>\n",
       "      <th>Calories</th>\n",
       "    </tr>\n",
       "  </thead>\n",
       "  <tbody>\n",
       "    <tr>\n",
       "      <th>count</th>\n",
       "      <td>162.000000</td>\n",
       "      <td>162.000000</td>\n",
       "      <td>162.000000</td>\n",
       "      <td>162.000000</td>\n",
       "    </tr>\n",
       "    <tr>\n",
       "      <th>mean</th>\n",
       "      <td>64.197531</td>\n",
       "      <td>107.709877</td>\n",
       "      <td>134.265432</td>\n",
       "      <td>377.435095</td>\n",
       "    </tr>\n",
       "    <tr>\n",
       "      <th>std</th>\n",
       "      <td>43.151882</td>\n",
       "      <td>14.711588</td>\n",
       "      <td>16.471618</td>\n",
       "      <td>267.381894</td>\n",
       "    </tr>\n",
       "    <tr>\n",
       "      <th>min</th>\n",
       "      <td>15.000000</td>\n",
       "      <td>80.000000</td>\n",
       "      <td>100.000000</td>\n",
       "      <td>50.300000</td>\n",
       "    </tr>\n",
       "    <tr>\n",
       "      <th>25%</th>\n",
       "      <td>45.000000</td>\n",
       "      <td>100.000000</td>\n",
       "      <td>124.000000</td>\n",
       "      <td>255.075000</td>\n",
       "    </tr>\n",
       "    <tr>\n",
       "      <th>50%</th>\n",
       "      <td>60.000000</td>\n",
       "      <td>105.500000</td>\n",
       "      <td>131.000000</td>\n",
       "      <td>320.700000</td>\n",
       "    </tr>\n",
       "    <tr>\n",
       "      <th>75%</th>\n",
       "      <td>60.000000</td>\n",
       "      <td>111.000000</td>\n",
       "      <td>141.000000</td>\n",
       "      <td>386.700000</td>\n",
       "    </tr>\n",
       "    <tr>\n",
       "      <th>max</th>\n",
       "      <td>300.000000</td>\n",
       "      <td>159.000000</td>\n",
       "      <td>184.000000</td>\n",
       "      <td>1860.400000</td>\n",
       "    </tr>\n",
       "  </tbody>\n",
       "</table>\n",
       "</div>"
      ],
      "text/plain": [
       "         Duration       Pulse    Maxpulse     Calories\n",
       "count  162.000000  162.000000  162.000000   162.000000\n",
       "mean    64.197531  107.709877  134.265432   377.435095\n",
       "std     43.151882   14.711588   16.471618   267.381894\n",
       "min     15.000000   80.000000  100.000000    50.300000\n",
       "25%     45.000000  100.000000  124.000000   255.075000\n",
       "50%     60.000000  105.500000  131.000000   320.700000\n",
       "75%     60.000000  111.000000  141.000000   386.700000\n",
       "max    300.000000  159.000000  184.000000  1860.400000"
      ]
     },
     "execution_count": 55,
     "metadata": {},
     "output_type": "execute_result"
    }
   ],
   "source": [
    "dfClean.describe()"
   ]
  },
  {
   "attachments": {
    "image.png": {
     "image/png": "[encoded data removed]"
    }
   },
   "cell_type": "markdown",
   "metadata": {},
   "source": [
    "![image.png](attachment:image.png)"
   ]
  },
  {
   "attachments": {
    "image-2.png": {
     "image/png": "[encoded data removed]"
    }
   },
   "cell_type": "markdown",
   "metadata": {},
   "source": [
    "![image-2.png](attachment:image-2.png)\n"
   ]
  },
  {
   "cell_type": "code",
   "execution_count": 56,
   "metadata": {},
   "outputs": [
    {
     "data": {
      "text/html": [
       "<div>\n",
       "<style scoped>\n",
       "    .dataframe tbody tr th:only-of-type {\n",
       "        vertical-align: middle;\n",
       "    }\n",
       "\n",
       "    .dataframe tbody tr th {\n",
       "        vertical-align: top;\n",
       "    }\n",
       "\n",
       "    .dataframe thead th {\n",
       "        text-align: right;\n",
       "    }\n",
       "</style>\n",
       "<table border=\"1\" class=\"dataframe\">\n",
       "  <thead>\n",
       "    <tr style=\"text-align: right;\">\n",
       "      <th></th>\n",
       "      <th>Duration</th>\n",
       "      <th>Pulse</th>\n",
       "      <th>Maxpulse</th>\n",
       "      <th>Calories</th>\n",
       "    </tr>\n",
       "  </thead>\n",
       "  <tbody>\n",
       "    <tr>\n",
       "      <th>Duration</th>\n",
       "      <td>1.000000</td>\n",
       "      <td>-0.162098</td>\n",
       "      <td>0.003578</td>\n",
       "      <td>0.923190</td>\n",
       "    </tr>\n",
       "    <tr>\n",
       "      <th>Pulse</th>\n",
       "      <td>-0.162098</td>\n",
       "      <td>1.000000</td>\n",
       "      <td>0.787035</td>\n",
       "      <td>0.019258</td>\n",
       "    </tr>\n",
       "    <tr>\n",
       "      <th>Maxpulse</th>\n",
       "      <td>0.003578</td>\n",
       "      <td>0.787035</td>\n",
       "      <td>1.000000</td>\n",
       "      <td>0.197465</td>\n",
       "    </tr>\n",
       "    <tr>\n",
       "      <th>Calories</th>\n",
       "      <td>0.923190</td>\n",
       "      <td>0.019258</td>\n",
       "      <td>0.197465</td>\n",
       "      <td>1.000000</td>\n",
       "    </tr>\n",
       "  </tbody>\n",
       "</table>\n",
       "</div>"
      ],
      "text/plain": [
       "          Duration     Pulse  Maxpulse  Calories\n",
       "Duration  1.000000 -0.162098  0.003578  0.923190\n",
       "Pulse    -0.162098  1.000000  0.787035  0.019258\n",
       "Maxpulse  0.003578  0.787035  1.000000  0.197465\n",
       "Calories  0.923190  0.019258  0.197465  1.000000"
      ]
     },
     "execution_count": 56,
     "metadata": {},
     "output_type": "execute_result"
    }
   ],
   "source": [
    "dfClean.corr()"
   ]
  },
  {
   "cell_type": "code",
   "execution_count": 226,
   "metadata": {},
   "outputs": [
    {
     "name": "stdout",
     "output_type": "stream",
     "text": [
      "The Pearson Correlation Coefficient is 0.9231899432094209  with a P-value of P = 2.4471930628252892e-68\n"
     ]
    }
   ],
   "source": [
    "### P-Values\n",
    "from scipy import stats\n",
    "pearson_coef, p_value = stats.pearsonr(dfClean['Duration'], dfClean['Calories'])\n",
    "print(\"The Pearson Correlation Coefficient is\", pearson_coef, \" with a P-value of P =\", p_value) "
   ]
  },
  {
   "cell_type": "code",
   "execution_count": 227,
   "metadata": {},
   "outputs": [
    {
     "data": {
      "text/plain": [
       "<AxesSubplot:xlabel='Duration', ylabel='Calories'>"
      ]
     },
     "execution_count": 227,
     "metadata": {},
     "output_type": "execute_result"
    },
    {
     "data": {
      "image/png": "[encoded data removed]",
      "text/plain": [
       "<Figure size 432x288 with 1 Axes>"
      ]
     },
     "metadata": {
      "needs_background": "light"
     },
     "output_type": "display_data"
    }
   ],
   "source": [
    "#### Visualizar Duration x Calories \n",
    "dfClean.plot(kind='scatter', x='Duration', y='Calories')"
   ]
  },
  {
   "cell_type": "code",
   "execution_count": 228,
   "metadata": {},
   "outputs": [],
   "source": [
    "from sklearn.linear_model import LinearRegression"
   ]
  },
  {
   "cell_type": "code",
   "execution_count": 229,
   "metadata": {},
   "outputs": [
    {
     "data": {
      "text/plain": [
       "LinearRegression()"
      ]
     },
     "execution_count": 229,
     "metadata": {},
     "output_type": "execute_result"
    }
   ],
   "source": [
    "lr = LinearRegression()\n",
    "lr"
   ]
  },
  {
   "cell_type": "code",
   "execution_count": 230,
   "metadata": {},
   "outputs": [],
   "source": [
    "### Definir as Variáveis X e Y \n",
    "X = dfClean[['Duration']]\n",
    "Y = dfClean[['Calories']]"
   ]
  },
  {
   "cell_type": "code",
   "execution_count": 231,
   "metadata": {},
   "outputs": [
    {
     "data": {
      "text/plain": [
       "LinearRegression()"
      ]
     },
     "execution_count": 231,
     "metadata": {},
     "output_type": "execute_result"
    }
   ],
   "source": [
    "### Acha a reta que melhor descreve a distribuição dos dados \n",
    "lr.fit(X,Y)"
   ]
  },
  {
   "cell_type": "markdown",
   "metadata": {},
   "source": [
    "$$\n",
    "Yhat = a + b  X\n",
    "$$"
   ]
  },
  {
   "cell_type": "code",
   "execution_count": 232,
   "metadata": {},
   "outputs": [
    {
     "name": "stdout",
     "output_type": "stream",
     "text": [
      "[10.20214808]\n"
     ]
    }
   ],
   "source": [
    "a = lr.intercept_\n",
    "print(a)"
   ]
  },
  {
   "cell_type": "code",
   "execution_count": 233,
   "metadata": {},
   "outputs": [
    {
     "name": "stdout",
     "output_type": "stream",
     "text": [
      "[[5.72035937]]\n"
     ]
    }
   ],
   "source": [
    "b= lr.coef_\n",
    "print(b)"
   ]
  },
  {
   "cell_type": "code",
   "execution_count": 235,
   "metadata": {},
   "outputs": [
    {
     "data": {
      "text/plain": [
       "array([[353.42371042],\n",
       "       [353.42371042],\n",
       "       [353.42371042],\n",
       "       [267.61831984],\n",
       "       [267.61831984]])"
      ]
     },
     "execution_count": 235,
     "metadata": {},
     "output_type": "execute_result"
    }
   ],
   "source": [
    "### Usa o modelo para predição #### \n",
    "Yhat = lr.predict(X)\n",
    "Yhat[0:5]"
   ]
  },
  {
   "cell_type": "code",
   "execution_count": 236,
   "metadata": {},
   "outputs": [
    {
     "data": {
      "text/html": [
       "<div>\n",
       "<style scoped>\n",
       "    .dataframe tbody tr th:only-of-type {\n",
       "        vertical-align: middle;\n",
       "    }\n",
       "\n",
       "    .dataframe tbody tr th {\n",
       "        vertical-align: top;\n",
       "    }\n",
       "\n",
       "    .dataframe thead th {\n",
       "        text-align: right;\n",
       "    }\n",
       "</style>\n",
       "<table border=\"1\" class=\"dataframe\">\n",
       "  <thead>\n",
       "    <tr style=\"text-align: right;\">\n",
       "      <th></th>\n",
       "      <th>Duration</th>\n",
       "      <th>Pulse</th>\n",
       "      <th>Maxpulse</th>\n",
       "      <th>Calories</th>\n",
       "    </tr>\n",
       "  </thead>\n",
       "  <tbody>\n",
       "    <tr>\n",
       "      <th>0</th>\n",
       "      <td>60</td>\n",
       "      <td>110</td>\n",
       "      <td>130</td>\n",
       "      <td>409.1</td>\n",
       "    </tr>\n",
       "    <tr>\n",
       "      <th>1</th>\n",
       "      <td>60</td>\n",
       "      <td>117</td>\n",
       "      <td>145</td>\n",
       "      <td>479.0</td>\n",
       "    </tr>\n",
       "    <tr>\n",
       "      <th>2</th>\n",
       "      <td>60</td>\n",
       "      <td>103</td>\n",
       "      <td>135</td>\n",
       "      <td>340.0</td>\n",
       "    </tr>\n",
       "    <tr>\n",
       "      <th>3</th>\n",
       "      <td>45</td>\n",
       "      <td>109</td>\n",
       "      <td>175</td>\n",
       "      <td>282.4</td>\n",
       "    </tr>\n",
       "    <tr>\n",
       "      <th>4</th>\n",
       "      <td>45</td>\n",
       "      <td>117</td>\n",
       "      <td>148</td>\n",
       "      <td>406.0</td>\n",
       "    </tr>\n",
       "  </tbody>\n",
       "</table>\n",
       "</div>"
      ],
      "text/plain": [
       "   Duration  Pulse  Maxpulse  Calories\n",
       "0        60    110       130     409.1\n",
       "1        60    117       145     479.0\n",
       "2        60    103       135     340.0\n",
       "3        45    109       175     282.4\n",
       "4        45    117       148     406.0"
      ]
     },
     "execution_count": 236,
     "metadata": {},
     "output_type": "execute_result"
    }
   ],
   "source": [
    "dfClean.head()"
   ]
  },
  {
   "cell_type": "code",
   "execution_count": 240,
   "metadata": {},
   "outputs": [
    {
     "name": "stdout",
     "output_type": "stream",
     "text": [
      "The R-square is:  0.8522796712430143\n"
     ]
    }
   ],
   "source": [
    "### R-squared #####\n",
    "print('The R-square is: ', lr.score(X, Y))"
   ]
  },
  {
   "cell_type": "code",
   "execution_count": 241,
   "metadata": {},
   "outputs": [
    {
     "name": "stdout",
     "output_type": "stream",
     "text": [
      "The mean square error of Calories and predicted value is:  10495.789626824871\n"
     ]
    }
   ],
   "source": [
    "#### MSE - Mean Squared Error #### \n",
    "from sklearn.metrics import mean_squared_error\n",
    "mse = mean_squared_error(dfClean['Calories'], Yhat)\n",
    "print('The mean square error of Calories and predicted value is: ', mse)"
   ]
  },
  {
   "cell_type": "code",
   "execution_count": 251,
   "metadata": {},
   "outputs": [],
   "source": [
    "import matplotlib.pyplot as plt\n",
    "import seaborn as sns\n",
    "%matplotlib inline "
   ]
  },
  {
   "cell_type": "code",
   "execution_count": 264,
   "metadata": {},
   "outputs": [
    {
     "data": {
      "text/plain": [
       "<AxesSubplot:xlabel='Duration', ylabel='Calories'>"
      ]
     },
     "execution_count": 264,
     "metadata": {},
     "output_type": "execute_result"
    },
    {
     "data": {
      "image/png": "[encoded data removed]",
      "text/plain": [
       "<Figure size 864x720 with 1 Axes>"
      ]
     },
     "metadata": {
      "needs_background": "light"
     },
     "output_type": "display_data"
    }
   ],
   "source": [
    "width = 12\n",
    "height = 10\n",
    "plt.figure(figsize=(width, height))\n",
    "sns.regplot(x=\"Duration\", y=\"Calories\", data=dfClean)\n"
   ]
  },
  {
   "cell_type": "code",
   "execution_count": 250,
   "metadata": {},
   "outputs": [
    {
     "name": "stderr",
     "output_type": "stream",
     "text": [
      "C:\\Users\\leodr\\anaconda3\\lib\\site-packages\\seaborn\\_decorators.py:36: FutureWarning: Pass the following variables as keyword args: x, y. From version 0.12, the only valid positional argument will be `data`, and passing other arguments without an explicit keyword will result in an error or misinterpretation.\n",
      "  warnings.warn(\n"
     ]
    },
    {
     "data": {
      "image/png": "[encoded data removed]",
      "text/plain": [
       "<Figure size 864x720 with 1 Axes>"
      ]
     },
     "metadata": {
      "needs_background": "light"
     },
     "output_type": "display_data"
    }
   ],
   "source": [
    "width = 12\n",
    "height = 10\n",
    "plt.figure(figsize=(width, height))\n",
    "x = dfClean['Duration']\n",
    "y = dfClean['Calories']\n",
    "sns.residplot(x,y)\n",
    "plt.show()"
   ]
  },
  {
   "cell_type": "markdown",
   "metadata": {},
   "source": [
    "<h3>Multiple Linear Regression</h3>"
   ]
  },
  {
   "cell_type": "markdown",
   "metadata": {},
   "source": [
    "$$\n",
    "Y: Response \\ Variable\\\\\n",
    "X_1 :Predictor\\ Variable \\ 1\\\\\n",
    "X_2: Predictor\\ Variable \\ 2\\\\\n",
    "X_3: Predictor\\ Variable \\ 3\\\\\n",
    "X_4: Predictor\\ Variable \\ 4\\\\\n",
    "$$\n",
    "\n"
   ]
  },
  {
   "cell_type": "markdown",
   "metadata": {},
   "source": [
    "$$\n",
    "a: intercept\\\\\n",
    "b_1 :coefficients \\ of\\ Variable \\ 1\\\\\n",
    "b_2: coefficients \\ of\\ Variable \\ 2\\\\\n",
    "b_3: coefficients \\ of\\ Variable \\ 3\\\\\n",
    "b_4: coefficients \\ of\\ Variable \\ 4\\\\\n",
    "$$"
   ]
  },
  {
   "cell_type": "markdown",
   "metadata": {},
   "source": [
    "$$\n",
    "Yhat = a + b_1 X_1 + b_2 X_2 + b_3 X_3 + b_4 X_4\n",
    "$$"
   ]
  },
  {
   "cell_type": "code",
   "execution_count": 114,
   "metadata": {},
   "outputs": [],
   "source": [
    "Xm = dfClean[['Duration','Maxpulse','Pulse']]\n",
    "Y = dfClean[['Calories']]"
   ]
  },
  {
   "cell_type": "code",
   "execution_count": 118,
   "metadata": {},
   "outputs": [
    {
     "data": {
      "text/plain": [
       "LinearRegression()"
      ]
     },
     "execution_count": 118,
     "metadata": {},
     "output_type": "execute_result"
    }
   ],
   "source": [
    "lr.fit(Xm,Y)"
   ]
  },
  {
   "cell_type": "code",
   "execution_count": 76,
   "metadata": {},
   "outputs": [],
   "source": [
    "Yhat = lr.predict(Xm)"
   ]
  },
  {
   "cell_type": "code",
   "execution_count": 77,
   "metadata": {},
   "outputs": [
    {
     "name": "stdout",
     "output_type": "stream",
     "text": [
      "The R-square is:  0.8907014078940126\n"
     ]
    }
   ],
   "source": [
    "### R-squared #####\n",
    "print('The R-square is: ', lr.score(Xm, Y))"
   ]
  },
  {
   "cell_type": "code",
   "execution_count": 78,
   "metadata": {},
   "outputs": [
    {
     "name": "stdout",
     "output_type": "stream",
     "text": [
      "The mean square error of Calories and predicted value is:  7765.857542463227\n"
     ]
    }
   ],
   "source": [
    "#### MSE - Mean Squared Error #### \n",
    "from sklearn.metrics import mean_squared_error\n",
    "mse = mean_squared_error(dfClean['Calories'], Yhat)\n",
    "print('The mean square error of Calories and predicted value is: ', mse)"
   ]
  },
  {
   "cell_type": "markdown",
   "metadata": {},
   "source": [
    "<h3>Polynomial Regression</h3>"
   ]
  },
  {
   "cell_type": "markdown",
   "metadata": {},
   "source": [
    "<center><b>Quadratic - 2nd order</b></center>\n",
    "$$\n",
    "Yhat = a + b_1 X +b_2 X^2 \n",
    "$$\n",
    "\n",
    "<center><b>Cubic - 3rd order</b></center>\n",
    "$$\n",
    "Yhat = a + b_1 X +b_2 X^2 +b_3 X^3\\\\\\\\\n",
    "$$\n",
    "\n",
    "<center><b>Higher order</b>:</center>\n",
    "$$\n",
    "Y = a + b_1 X +b_2 X^2 +b_3 X^3 ....\\\\\\\\\n",
    "$$"
   ]
  },
  {
   "cell_type": "code",
   "execution_count": 112,
   "metadata": {
    "scrolled": true
   },
   "outputs": [
    {
     "data": {
      "text/plain": [
       "0      60\n",
       "1      60\n",
       "2      60\n",
       "3      45\n",
       "4      45\n",
       "       ..\n",
       "157    60\n",
       "158    60\n",
       "159    60\n",
       "160    75\n",
       "161    75\n",
       "Name: Duration, Length: 162, dtype: int64"
      ]
     },
     "execution_count": 112,
     "metadata": {},
     "output_type": "execute_result"
    }
   ],
   "source": [
    "Xp = dfClean['Duration']\n",
    "Y = dfClean['Calories']\n",
    "Xp"
   ]
  },
  {
   "cell_type": "code",
   "execution_count": 80,
   "metadata": {},
   "outputs": [
    {
     "name": "stdout",
     "output_type": "stream",
     "text": [
      "            3           2\n",
      "-5.437e-05 x + 0.02397 x + 2.946 x + 90.93\n"
     ]
    }
   ],
   "source": [
    "# Here we use a polynomial of the 3rd order (cubic) \n",
    "import numpy as np\n",
    "f = np.polyfit(Xp, Y, 3)\n",
    "p = np.poly1d(f)\n",
    "print(p)"
   ]
  },
  {
   "cell_type": "code",
   "execution_count": 81,
   "metadata": {},
   "outputs": [
    {
     "data": {
      "text/plain": [
       "array([-5.43695803e-05,  2.39689887e-02,  2.94571546e+00,  9.09250329e+01])"
      ]
     },
     "execution_count": 81,
     "metadata": {},
     "output_type": "execute_result"
    }
   ],
   "source": [
    "np.polyfit(Xp, Y, 3)"
   ]
  },
  {
   "cell_type": "code",
   "execution_count": 268,
   "metadata": {},
   "outputs": [],
   "source": [
    "def PlotPolly(model, independent_variable, dependent_variabble, Name):\n",
    "    x_new = np.linspace(15, 300, 100)\n",
    "    y_new = model(x_new)\n",
    "\n",
    "    plt.plot(independent_variable, dependent_variabble, '.', x_new, y_new, '-')\n",
    "    plt.title('Polynomial Fit with Matplotlib for Calories ~ Duration')\n",
    "    ax = plt.gca()\n",
    "    ax.set_facecolor((0.898, 0.898, 0.898))\n",
    "    fig = plt.gcf()\n",
    "    plt.xlabel(Name)\n",
    "    plt.ylabel('Calories')\n",
    "\n",
    "    plt.show()\n",
    "    plt.close()"
   ]
  },
  {
   "cell_type": "code",
   "execution_count": 269,
   "metadata": {},
   "outputs": [
    {
     "data": {
      "image/png": "[encoded data removed]",
      "text/plain": [
       "<Figure size 432x288 with 1 Axes>"
      ]
     },
     "metadata": {
      "needs_background": "light"
     },
     "output_type": "display_data"
    }
   ],
   "source": [
    "PlotPolly(p, Xp, Y, 'Duration')"
   ]
  },
  {
   "cell_type": "code",
   "execution_count": 84,
   "metadata": {},
   "outputs": [],
   "source": [
    "from sklearn.metrics import r2_score"
   ]
  },
  {
   "cell_type": "code",
   "execution_count": 85,
   "metadata": {},
   "outputs": [
    {
     "name": "stdout",
     "output_type": "stream",
     "text": [
      "The R-square value is:  0.8565676896712296\n"
     ]
    }
   ],
   "source": [
    "r_squared = r2_score(Y, p(Xp))\n",
    "print('The R-square value is: ', r_squared)"
   ]
  },
  {
   "cell_type": "code",
   "execution_count": 86,
   "metadata": {},
   "outputs": [
    {
     "data": {
      "text/plain": [
       "10191.118362434872"
      ]
     },
     "execution_count": 86,
     "metadata": {},
     "output_type": "execute_result"
    }
   ],
   "source": [
    "mean_squared_error(Y, p(Xp))"
   ]
  },
  {
   "cell_type": "markdown",
   "metadata": {},
   "source": [
    "<h3> Regressão Polinomial usando sklearn library </h3>"
   ]
  },
  {
   "cell_type": "code",
   "execution_count": 174,
   "metadata": {},
   "outputs": [],
   "source": [
    "from sklearn.preprocessing import PolynomialFeatures\n",
    "import numpy as np\n"
   ]
  },
  {
   "cell_type": "code",
   "execution_count": 192,
   "metadata": {},
   "outputs": [
    {
     "data": {
      "text/html": [
       "<div>\n",
       "<style scoped>\n",
       "    .dataframe tbody tr th:only-of-type {\n",
       "        vertical-align: middle;\n",
       "    }\n",
       "\n",
       "    .dataframe tbody tr th {\n",
       "        vertical-align: top;\n",
       "    }\n",
       "\n",
       "    .dataframe thead th {\n",
       "        text-align: right;\n",
       "    }\n",
       "</style>\n",
       "<table border=\"1\" class=\"dataframe\">\n",
       "  <thead>\n",
       "    <tr style=\"text-align: right;\">\n",
       "      <th></th>\n",
       "      <th>Duration</th>\n",
       "      <th>Pulse</th>\n",
       "    </tr>\n",
       "  </thead>\n",
       "  <tbody>\n",
       "    <tr>\n",
       "      <th>0</th>\n",
       "      <td>60</td>\n",
       "      <td>110</td>\n",
       "    </tr>\n",
       "    <tr>\n",
       "      <th>1</th>\n",
       "      <td>60</td>\n",
       "      <td>117</td>\n",
       "    </tr>\n",
       "    <tr>\n",
       "      <th>2</th>\n",
       "      <td>60</td>\n",
       "      <td>103</td>\n",
       "    </tr>\n",
       "    <tr>\n",
       "      <th>3</th>\n",
       "      <td>45</td>\n",
       "      <td>109</td>\n",
       "    </tr>\n",
       "    <tr>\n",
       "      <th>4</th>\n",
       "      <td>45</td>\n",
       "      <td>117</td>\n",
       "    </tr>\n",
       "    <tr>\n",
       "      <th>...</th>\n",
       "      <td>...</td>\n",
       "      <td>...</td>\n",
       "    </tr>\n",
       "    <tr>\n",
       "      <th>157</th>\n",
       "      <td>60</td>\n",
       "      <td>105</td>\n",
       "    </tr>\n",
       "    <tr>\n",
       "      <th>158</th>\n",
       "      <td>60</td>\n",
       "      <td>110</td>\n",
       "    </tr>\n",
       "    <tr>\n",
       "      <th>159</th>\n",
       "      <td>60</td>\n",
       "      <td>115</td>\n",
       "    </tr>\n",
       "    <tr>\n",
       "      <th>160</th>\n",
       "      <td>75</td>\n",
       "      <td>120</td>\n",
       "    </tr>\n",
       "    <tr>\n",
       "      <th>161</th>\n",
       "      <td>75</td>\n",
       "      <td>125</td>\n",
       "    </tr>\n",
       "  </tbody>\n",
       "</table>\n",
       "<p>162 rows × 2 columns</p>\n",
       "</div>"
      ],
      "text/plain": [
       "     Duration  Pulse\n",
       "0          60    110\n",
       "1          60    117\n",
       "2          60    103\n",
       "3          45    109\n",
       "4          45    117\n",
       "..        ...    ...\n",
       "157        60    105\n",
       "158        60    110\n",
       "159        60    115\n",
       "160        75    120\n",
       "161        75    125\n",
       "\n",
       "[162 rows x 2 columns]"
      ]
     },
     "execution_count": 192,
     "metadata": {},
     "output_type": "execute_result"
    }
   ],
   "source": [
    "X = dfClean[['Duration','Pulse']]\n",
    "X"
   ]
  },
  {
   "cell_type": "code",
   "execution_count": 190,
   "metadata": {},
   "outputs": [
    {
     "data": {
      "text/plain": [
       "<AxesSubplot:xlabel='Duration', ylabel='Calories'>"
      ]
     },
     "execution_count": 190,
     "metadata": {},
     "output_type": "execute_result"
    },
    {
     "data": {
      "image/png": "[encoded data removed]",
      "text/plain": [
       "<Figure size 432x288 with 1 Axes>"
      ]
     },
     "metadata": {
      "needs_background": "light"
     },
     "output_type": "display_data"
    }
   ],
   "source": [
    "dfClean.plot(kind='scatter', x='Duration', y='Calories')"
   ]
  },
  {
   "cell_type": "code",
   "execution_count": 193,
   "metadata": {
    "scrolled": false
   },
   "outputs": [
    {
     "data": {
      "text/plain": [
       "array([[1.000000e+00, 6.000000e+01, 1.100000e+02, ..., 3.960000e+05,\n",
       "        7.260000e+05, 1.331000e+06],\n",
       "       [1.000000e+00, 6.000000e+01, 1.170000e+02, ..., 4.212000e+05,\n",
       "        8.213400e+05, 1.601613e+06],\n",
       "       [1.000000e+00, 6.000000e+01, 1.030000e+02, ..., 3.708000e+05,\n",
       "        6.365400e+05, 1.092727e+06],\n",
       "       ...,\n",
       "       [1.000000e+00, 6.000000e+01, 1.150000e+02, ..., 4.140000e+05,\n",
       "        7.935000e+05, 1.520875e+06],\n",
       "       [1.000000e+00, 7.500000e+01, 1.200000e+02, ..., 6.750000e+05,\n",
       "        1.080000e+06, 1.728000e+06],\n",
       "       [1.000000e+00, 7.500000e+01, 1.250000e+02, ..., 7.031250e+05,\n",
       "        1.171875e+06, 1.953125e+06]])"
      ]
     },
     "execution_count": 193,
     "metadata": {},
     "output_type": "execute_result"
    }
   ],
   "source": [
    "X = dfClean[['Duration','Pulse']]\n",
    "poly = PolynomialFeatures(degree=3)\n",
    "X_T = poly.fit_transform(X)\n",
    "X_T"
   ]
  },
  {
   "cell_type": "code",
   "execution_count": 213,
   "metadata": {},
   "outputs": [
    {
     "data": {
      "text/plain": [
       "LinearRegression()"
      ]
     },
     "execution_count": 213,
     "metadata": {},
     "output_type": "execute_result"
    }
   ],
   "source": [
    "dfClean[['Calories']]\n",
    "lr.fit(X_T,Y) #A partir desses dados, calcula qual é a melhor reta que se ajusta a eles."
   ]
  },
  {
   "cell_type": "code",
   "execution_count": 209,
   "metadata": {},
   "outputs": [
    {
     "data": {
      "text/plain": [
       "array([[357.51923287],\n",
       "       [385.86977796],\n",
       "       [333.01606294],\n",
       "       [268.45537074],\n",
       "       [295.16077152]])"
      ]
     },
     "execution_count": 209,
     "metadata": {},
     "output_type": "execute_result"
    }
   ],
   "source": [
    "Yhat = lr.predict(X_T) #Calcula os dados a partir da reta calculada.\n",
    "Yhat[0:5]"
   ]
  },
  {
   "cell_type": "code",
   "execution_count": 222,
   "metadata": {},
   "outputs": [
    {
     "data": {
      "text/plain": [
       "array([1.000e+00, 6.000e+01, 1.100e+02, 3.600e+03, 6.600e+03, 1.210e+04,\n",
       "       2.160e+05, 3.960e+05, 7.260e+05, 1.331e+06])"
      ]
     },
     "execution_count": 222,
     "metadata": {},
     "output_type": "execute_result"
    }
   ],
   "source": [
    "X = dfClean[['Duration','Pulse']].values\n",
    "X_T[0]"
   ]
  },
  {
   "cell_type": "code",
   "execution_count": 223,
   "metadata": {
    "scrolled": true
   },
   "outputs": [
    {
     "name": "stdout",
     "output_type": "stream",
     "text": [
      "The R-square is:  0.9077401211940832\n"
     ]
    }
   ],
   "source": [
    "### R-squared #####\n",
    "print('The R-square is: ', lr.score(X_T, Y))"
   ]
  },
  {
   "cell_type": "code",
   "execution_count": 181,
   "metadata": {
    "scrolled": true
   },
   "outputs": [
    {
     "name": "stdout",
     "output_type": "stream",
     "text": [
      "The mean square error of Calories and predicted value is:  6555.226941961896\n"
     ]
    }
   ],
   "source": [
    "#### MSE - Mean Squared Error #### \n",
    "from sklearn.metrics import mean_squared_error\n",
    "mse = mean_squared_error(dfClean['Calories'], Yhat)\n",
    "print('The mean square error of Calories and predicted value is: ', mse)"
   ]
  },
  {
   "cell_type": "markdown",
   "metadata": {},
   "source": [
    "<h3>Exemplo de como o sklearn trata função polinomial de ordem 2</h3><br>\n",
    "If you have features [a, b] the default polynomial features (in sklearn the degree is 2) should be [1, a, b, a^2, ab, c^2]."
   ]
  },
  {
   "cell_type": "code",
   "execution_count": 167,
   "metadata": {
    "scrolled": false
   },
   "outputs": [
    {
     "data": {
      "text/plain": [
       "array([0, 1, 2, 3, 4, 5])"
      ]
     },
     "execution_count": 167,
     "metadata": {},
     "output_type": "execute_result"
    }
   ],
   "source": [
    "X = np.arange(6)\n",
    "X\n"
   ]
  },
  {
   "cell_type": "code",
   "execution_count": 170,
   "metadata": {},
   "outputs": [
    {
     "data": {
      "text/plain": [
       "array([[0, 1],\n",
       "       [2, 3],\n",
       "       [4, 5]])"
      ]
     },
     "execution_count": 170,
     "metadata": {},
     "output_type": "execute_result"
    }
   ],
   "source": [
    "X = X.reshape(3, 2)\n",
    "X"
   ]
  },
  {
   "cell_type": "code",
   "execution_count": 171,
   "metadata": {},
   "outputs": [
    {
     "data": {
      "text/plain": [
       "array([[ 1.,  0.,  1.,  0.,  0.,  1.],\n",
       "       [ 1.,  2.,  3.,  4.,  6.,  9.],\n",
       "       [ 1.,  4.,  5., 16., 20., 25.]])"
      ]
     },
     "execution_count": 171,
     "metadata": {},
     "output_type": "execute_result"
    }
   ],
   "source": [
    "poly = PolynomialFeatures(2)\n",
    "poly.fit_transform(X)"
   ]
  },
  {
   "cell_type": "code",
   "execution_count": 173,
   "metadata": {
    "scrolled": true
   },
   "outputs": [
    {
     "data": {
      "text/plain": [
       "array([[ 1.,  0.,  1.,  0.],\n",
       "       [ 1.,  2.,  3.,  6.],\n",
       "       [ 1.,  4.,  5., 20.]])"
      ]
     },
     "execution_count": 173,
     "metadata": {},
     "output_type": "execute_result"
    }
   ],
   "source": [
    "poly = PolynomialFeatures(interaction_only=True) \n",
    "#Mostro apenas os que tiverão interação entre números diferentes. \n",
    "#Nesse caso, 0^2, 1^2, 2^2, 3^2, ...  não aparece\n",
    "\n",
    "poly.fit_transform(X)"
   ]
  },
  {
   "cell_type": "markdown",
   "metadata": {},
   "source": [
    "<h3> Regressão Ridge </h3>"
   ]
  },
  {
   "cell_type": "code",
   "execution_count": 93,
   "metadata": {},
   "outputs": [],
   "source": [
    "from sklearn.linear_model import Ridge"
   ]
  },
  {
   "cell_type": "code",
   "execution_count": 94,
   "metadata": {},
   "outputs": [],
   "source": [
    "RigeModel=Ridge(alpha=0.1)"
   ]
  },
  {
   "cell_type": "code",
   "execution_count": 95,
   "metadata": {},
   "outputs": [],
   "source": [
    "X = dfClean[['Duration','Pulse']]"
   ]
  },
  {
   "cell_type": "code",
   "execution_count": 96,
   "metadata": {},
   "outputs": [],
   "source": [
    "RigeModel = RigeModel.fit(X, Y)"
   ]
  },
  {
   "cell_type": "code",
   "execution_count": 97,
   "metadata": {},
   "outputs": [
    {
     "data": {
      "text/plain": [
       "array([[359.91240509],\n",
       "       [381.98111776],\n",
       "       [337.84369243],\n",
       "       [268.3409611 ],\n",
       "       [293.562347  ]])"
      ]
     },
     "execution_count": 97,
     "metadata": {},
     "output_type": "execute_result"
    }
   ],
   "source": [
    "Yhat = RigeModel.predict(X)\n",
    "Yhat[0:5]"
   ]
  },
  {
   "cell_type": "code",
   "execution_count": 98,
   "metadata": {},
   "outputs": [
    {
     "name": "stdout",
     "output_type": "stream",
     "text": [
      "The R-square is:  0.8815786092110016\n"
     ]
    }
   ],
   "source": [
    "### R-squared #####\n",
    "print('The R-square is: ', RigeModel.score(X, Y))"
   ]
  },
  {
   "cell_type": "code",
   "execution_count": 99,
   "metadata": {},
   "outputs": [
    {
     "name": "stdout",
     "output_type": "stream",
     "text": [
      "The mean square error of Calories and predicted value is:  8414.048462362129\n"
     ]
    }
   ],
   "source": [
    "mse = mean_squared_error(dfClean['Calories'], Yhat)\n",
    "print('The mean square error of Calories and predicted value is: ', mse)"
   ]
  },
  {
   "cell_type": "code",
   "execution_count": null,
   "metadata": {},
   "outputs": [],
   "source": []
  },
  {
   "cell_type": "code",
   "execution_count": null,
   "metadata": {},
   "outputs": [],
   "source": []
  },
  {
   "cell_type": "code",
   "execution_count": null,
   "metadata": {},
   "outputs": [],
   "source": []
  },
  {
   "cell_type": "markdown",
   "metadata": {},
   "source": [
    "<h3> Métodos Ridge de regressão - Modelos Polinomiais </h3>\n",
    "<h4> Introdução do conceito de Pipeline </h4>"
   ]
  },
  {
   "cell_type": "code",
   "execution_count": 100,
   "metadata": {},
   "outputs": [],
   "source": [
    "from sklearn.pipeline import Pipeline\n",
    "import numpy as np\n",
    "#model = Pipeline([('poly', PolynomialFeatures(degree=2)),('linear', LinearRegression(fit_intercept=False))])\n",
    "modelPipeline = Pipeline([('poly', PolynomialFeatures(degree=2)),('ridge', Ridge(alpha=0.1))])"
   ]
  },
  {
   "cell_type": "code",
   "execution_count": 101,
   "metadata": {},
   "outputs": [],
   "source": [
    "X = dfClean[['Duration','Pulse']]\n",
    "modelPipeline = modelPipeline.fit(X, Y)"
   ]
  },
  {
   "cell_type": "code",
   "execution_count": 102,
   "metadata": {},
   "outputs": [
    {
     "data": {
      "text/plain": [
       "array([[364.94703712],\n",
       "       [393.70403887],\n",
       "       [339.20455484],\n",
       "       [263.4563221 ],\n",
       "       [287.55074666]])"
      ]
     },
     "execution_count": 102,
     "metadata": {},
     "output_type": "execute_result"
    }
   ],
   "source": [
    "Yhat = modelPipeline.predict(X)\n",
    "Yhat[0:5]"
   ]
  },
  {
   "cell_type": "code",
   "execution_count": 103,
   "metadata": {},
   "outputs": [
    {
     "name": "stdout",
     "output_type": "stream",
     "text": [
      "The R-square is:  0.9037785577120575\n"
     ]
    }
   ],
   "source": [
    "### R-squared #####\n",
    "print('The R-square is: ', modelPipeline.score(X, Y))"
   ]
  },
  {
   "cell_type": "code",
   "execution_count": 104,
   "metadata": {},
   "outputs": [
    {
     "name": "stdout",
     "output_type": "stream",
     "text": [
      "The mean square error of Calories and predicted value is:  6836.703007243717\n"
     ]
    }
   ],
   "source": [
    "mse = mean_squared_error(dfClean['Calories'], Yhat)\n",
    "print('The mean square error of Calories and predicted value is: ', mse)"
   ]
  },
  {
   "cell_type": "code",
   "execution_count": null,
   "metadata": {},
   "outputs": [],
   "source": []
  },
  {
   "cell_type": "code",
   "execution_count": null,
   "metadata": {},
   "outputs": [],
   "source": []
  },
  {
   "cell_type": "code",
   "execution_count": null,
   "metadata": {},
   "outputs": [],
   "source": []
  },
  {
   "cell_type": "code",
   "execution_count": null,
   "metadata": {},
   "outputs": [],
   "source": []
  },
  {
   "cell_type": "markdown",
   "metadata": {},
   "source": [
    "<h3> Definindo conjuntos de Treino e Teste para construção e avaliação de Modelos de Regressão</h3>"
   ]
  },
  {
   "cell_type": "code",
   "execution_count": 105,
   "metadata": {},
   "outputs": [],
   "source": [
    "from sklearn.model_selection import train_test_split\n",
    "X_train, X_test, y_train, y_test = train_test_split(X, Y, test_size=0.30, random_state=10)"
   ]
  },
  {
   "cell_type": "code",
   "execution_count": 106,
   "metadata": {},
   "outputs": [
    {
     "data": {
      "text/plain": [
       "Pipeline(steps=[('poly', PolynomialFeatures()), ('ridge', Ridge(alpha=0.1))])"
      ]
     },
     "execution_count": 106,
     "metadata": {},
     "output_type": "execute_result"
    }
   ],
   "source": [
    "modelPipeline.fit(X_train,y_train)"
   ]
  },
  {
   "cell_type": "code",
   "execution_count": 107,
   "metadata": {},
   "outputs": [],
   "source": [
    "y_pred = modelPipeline.predict(X_test)"
   ]
  },
  {
   "cell_type": "code",
   "execution_count": 108,
   "metadata": {},
   "outputs": [
    {
     "name": "stdout",
     "output_type": "stream",
     "text": [
      "The R-square (test) is:  0.8308511805847613\n",
      "The R-square (train) is:  0.8886554749122606\n"
     ]
    }
   ],
   "source": [
    "### R-squared #####\n",
    "from sklearn.metrics import r2_score\n",
    "print('The R-square (test) is: ', r2_score(y_test,y_pred))\n",
    "print('The R-square (train) is: ', modelPipeline.score(X_train, y_train))"
   ]
  },
  {
   "cell_type": "code",
   "execution_count": null,
   "metadata": {},
   "outputs": [],
   "source": []
  },
  {
   "cell_type": "markdown",
   "metadata": {},
   "source": [
    "<h3> Overfitting, Underfitting </h3>"
   ]
  },
  {
   "attachments": {
    "image.png": {
     "image/png": "[encoded data removed]"
    }
   },
   "cell_type": "markdown",
   "metadata": {},
   "source": [
    "![image.png](attachment:image.png)\n"
   ]
  },
  {
   "cell_type": "code",
   "execution_count": 88,
   "metadata": {},
   "outputs": [
    {
     "name": "stderr",
     "output_type": "stream",
     "text": [
      "/opt/anaconda3/lib/python3.8/site-packages/sklearn/linear_model/_ridge.py:147: LinAlgWarning: Ill-conditioned matrix (rcond=5.69186e-17): result may not be accurate.\n",
      "  return linalg.solve(A, Xy, sym_pos=True,\n",
      "/opt/anaconda3/lib/python3.8/site-packages/sklearn/linear_model/_ridge.py:147: LinAlgWarning: Ill-conditioned matrix (rcond=6.85168e-22): result may not be accurate.\n",
      "  return linalg.solve(A, Xy, sym_pos=True,\n"
     ]
    },
    {
     "data": {
      "text/plain": [
       "<matplotlib.legend.Legend at 0x11ae30c40>"
      ]
     },
     "execution_count": 88,
     "metadata": {},
     "output_type": "execute_result"
    },
    {
     "data": {
      "image/png": "[encoded data removed]",
      "text/plain": [
       "<Figure size 432x288 with 1 Axes>"
      ]
     },
     "metadata": {
      "needs_background": "light"
     },
     "output_type": "display_data"
    }
   ],
   "source": [
    "Rsqu_test = []\n",
    "Rsqu_model =[]\n",
    "\n",
    "order = [1, 2,3,4]\n",
    "for n in order:\n",
    "    #pr = PolynomialFeatures(degree=n)\n",
    "    \n",
    "    #x_train_pr = pr.fit_transform(x_train[['horsepower']])\n",
    "    \n",
    "    #x_test_pr = pr.fit_transform(x_test[['horsepower']])  \n",
    "    modelPipeline = Pipeline([('poly', PolynomialFeatures(degree=n)),('ridge', Ridge(alpha=0.1))])\n",
    "    \n",
    "    modelPipeline.fit(X_train,y_train)\n",
    "    y_pred = modelPipeline.predict(X_test)\n",
    "    \n",
    "    #Rsqu_test.append(r2_score(X_test,y_pred))\n",
    "    Rsqu_test.append(modelPipeline.score(X_test,y_test))\n",
    "    Rsqu_model.append(modelPipeline.score(X_train, y_train))\n",
    "\n",
    "#x_new = np.linspace(15, 300, 100)\n",
    "#y_new = model(x_new)    \n",
    "plt.plot(order, Rsqu_test,'b-x')\n",
    "plt.plot(order, Rsqu_model,'r-x')\n",
    "plt.xlabel('order')\n",
    "plt.ylabel('R^2')\n",
    "plt.title('R^2 Using Test Data')\n",
    "plt.legend(('Test', 'Treino'))\n",
    "#plt.text(3, -1.25, 'Maximum R^2 ')    "
   ]
  },
  {
   "cell_type": "code",
   "execution_count": null,
   "metadata": {},
   "outputs": [],
   "source": []
  },
  {
   "cell_type": "code",
   "execution_count": null,
   "metadata": {},
   "outputs": [],
   "source": []
  },
  {
   "cell_type": "markdown",
   "metadata": {},
   "source": [
    "<h3>  Avaliação de Modelos - Usando Validação-Cruzada </h3>"
   ]
  },
  {
   "attachments": {
    "image.png": {
     "image/png": "[encoded data removed]"
    }
   },
   "cell_type": "markdown",
   "metadata": {},
   "source": [
    "![image.png](attachment:image.png)"
   ]
  },
  {
   "cell_type": "code",
   "execution_count": 89,
   "metadata": {},
   "outputs": [],
   "source": [
    "from sklearn.model_selection import cross_val_score\n",
    "Rcross = cross_val_score(lr, X, Y, cv=2)"
   ]
  },
  {
   "cell_type": "code",
   "execution_count": 90,
   "metadata": {},
   "outputs": [
    {
     "data": {
      "text/plain": [
       "array([0.92143235, 0.79653748])"
      ]
     },
     "execution_count": 90,
     "metadata": {},
     "output_type": "execute_result"
    }
   ],
   "source": [
    "Rcross"
   ]
  },
  {
   "cell_type": "code",
   "execution_count": 91,
   "metadata": {},
   "outputs": [
    {
     "name": "stdout",
     "output_type": "stream",
     "text": [
      "The mean of the folds are 0.858984911236841 and the standard deviation is 0.06244743587587076\n"
     ]
    }
   ],
   "source": [
    "print(\"The mean of the folds are\", Rcross.mean(), \"and the standard deviation is\" , Rcross.std())"
   ]
  },
  {
   "cell_type": "code",
   "execution_count": null,
   "metadata": {},
   "outputs": [],
   "source": []
  },
  {
   "cell_type": "code",
   "execution_count": null,
   "metadata": {},
   "outputs": [],
   "source": []
  },
  {
   "cell_type": "code",
   "execution_count": null,
   "metadata": {},
   "outputs": [],
   "source": []
  },
  {
   "cell_type": "code",
   "execution_count": null,
   "metadata": {},
   "outputs": [],
   "source": []
  },
  {
   "cell_type": "code",
   "execution_count": null,
   "metadata": {},
   "outputs": [],
   "source": []
  },
  {
   "cell_type": "code",
   "execution_count": null,
   "metadata": {},
   "outputs": [],
   "source": []
  }
 ],
 "metadata": {
  "kernelspec": {
   "display_name": "Python 3",
   "language": "python",
   "name": "python3"
  },
  "language_info": {
   "codemirror_mode": {
    "name": "ipython",
    "version": 3
   },
   "file_extension": ".py",
   "mimetype": "text/x-python",
   "name": "python",
   "nbconvert_exporter": "python",
   "pygments_lexer": "ipython3",
   "version": "3.8.8"
  }
 },
 "nbformat": 4,
 "nbformat_minor": 4
}
