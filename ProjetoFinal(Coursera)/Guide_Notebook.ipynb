{
  "nbformat": 4,
  "nbformat_minor": 0,
  "metadata": {
    "colab": {
      "name": "Guide_Notebook.ipynb",
      "provenance": [],
      "collapsed_sections": [],
      "authorship_tag": "ABX9TyNIPBjKKAxQaYR6ocl5eASF",
      "include_colab_link": true
    },
    "kernelspec": {
      "name": "python3",
      "display_name": "Python 3"
    },
    "language_info": {
      "name": "python"
    }
  },
  "cells": [
    {
      "cell_type": "markdown",
      "metadata": {
        "id": "view-in-github",
        "colab_type": "text"
      },
      "source": [
        "<a href=\"https://colab.research.google.com/github/CharlesPrado23/Notebooks/blob/main/ProjetoFinal(Coursera)/Guide_Notebook.ipynb\" target=\"_parent\"><img src=\"https://colab.research.google.com/assets/colab-badge.svg\" alt=\"Open In Colab\"/></a>"
      ]
    },
    {
      "cell_type": "markdown",
      "metadata": {
        "id": "WvCZQz36jzP4"
      },
      "source": [
        "# Descrição do problema - Resumo da aplicação"
      ]
    },
    {
      "cell_type": "code",
      "metadata": {
        "id": "F3-JvyZajypS"
      },
      "source": [
        "### import bibliotecas mais usuais\n",
        "\n",
        "import pandas as pd\n",
        "import numpy as np\n",
        "# import outras usuais "
      ],
      "execution_count": null,
      "outputs": []
    },
    {
      "cell_type": "markdown",
      "metadata": {
        "id": "FNfvggVGx0Cx"
      },
      "source": [
        "# Importa os dados (por ter mais de 1 fonte de dados)\n",
        "\n"
      ]
    },
    {
      "cell_type": "code",
      "metadata": {
        "id": "DnN8uME5yMai"
      },
      "source": [
        ""
      ],
      "execution_count": null,
      "outputs": []
    },
    {
      "cell_type": "code",
      "metadata": {
        "id": "oDD7dGsUykr5"
      },
      "source": [
        ""
      ],
      "execution_count": null,
      "outputs": []
    },
    {
      "cell_type": "code",
      "metadata": {
        "id": "TfiLn6xmykiL"
      },
      "source": [
        ""
      ],
      "execution_count": null,
      "outputs": []
    },
    {
      "cell_type": "markdown",
      "metadata": {
        "id": "oB7Xy0HDymLy"
      },
      "source": [
        "# Pré-processamento  (Conhecimento dos dados)\n",
        "# Visualizar os dados \n",
        "# Limpeza dos dados e filtragem\n",
        "# Formatar os dados para usar posteriormente   "
      ]
    },
    {
      "cell_type": "code",
      "metadata": {
        "id": "AdkBa1DJzK2j"
      },
      "source": [
        ""
      ],
      "execution_count": null,
      "outputs": []
    },
    {
      "cell_type": "code",
      "metadata": {
        "id": "xXm0iQAizOHq"
      },
      "source": [
        ""
      ],
      "execution_count": null,
      "outputs": []
    },
    {
      "cell_type": "code",
      "metadata": {
        "id": "dQLKSWIXzOA1"
      },
      "source": [
        ""
      ],
      "execution_count": null,
      "outputs": []
    },
    {
      "cell_type": "code",
      "metadata": {
        "id": "7q85ZhWWzN9b"
      },
      "source": [
        ""
      ],
      "execution_count": null,
      "outputs": []
    },
    {
      "cell_type": "code",
      "metadata": {
        "id": "A34No4FZzN0S"
      },
      "source": [
        ""
      ],
      "execution_count": null,
      "outputs": []
    },
    {
      "cell_type": "markdown",
      "metadata": {
        "id": "ir8HzchMzbL8"
      },
      "source": [
        "# Se os dados foram coletados de fontes diferentes pode ser necessário agrupá-los em única base de dados"
      ]
    },
    {
      "cell_type": "code",
      "metadata": {
        "id": "oi_muj7Vpa6N"
      },
      "source": [
        "url = 'https://api.foursquare.com/v2/venues/explore?client_id={}&client_secret={}&v={}&ll={},{}&radius={}&limit={}'.format(CLIENT_ID, \\\n",
        "                                                                                                                           CLIENT_SECRET, VERSION, \\\n",
        "                                                                                                                           neighborhood_latitude, \\\n",
        "                                                                                                                           neighborhood_longitude, \\\n",
        "                                                                                                                           radius, LIMIT)\n"
      ],
      "execution_count": null,
      "outputs": []
    },
    {
      "cell_type": "code",
      "metadata": {
        "id": "J6BxX0TAzpK3"
      },
      "source": [
        ""
      ],
      "execution_count": null,
      "outputs": []
    },
    {
      "cell_type": "code",
      "metadata": {
        "id": "-826EeGzzxoX"
      },
      "source": [
        ""
      ],
      "execution_count": null,
      "outputs": []
    },
    {
      "cell_type": "code",
      "metadata": {
        "id": "h94ZHnXVzxav"
      },
      "source": [
        ""
      ],
      "execution_count": null,
      "outputs": []
    },
    {
      "cell_type": "markdown",
      "metadata": {
        "id": "XTj5jp9KzyHA"
      },
      "source": [
        "# Implementação (K-Means)"
      ]
    },
    {
      "cell_type": "code",
      "metadata": {
        "id": "NsPX2Rkl7PjQ"
      },
      "source": [
        ""
      ],
      "execution_count": null,
      "outputs": []
    },
    {
      "cell_type": "code",
      "metadata": {
        "id": "Dx7tRnNepT9W"
      },
      "source": [
        ""
      ],
      "execution_count": null,
      "outputs": []
    },
    {
      "cell_type": "code",
      "metadata": {
        "id": "NG2RbTS4pT5W"
      },
      "source": [
        ""
      ],
      "execution_count": null,
      "outputs": []
    },
    {
      "cell_type": "markdown",
      "metadata": {
        "id": "ibKatNmjzjj8"
      },
      "source": [
        "# Métricas - Elbow and/or Silhouete "
      ]
    },
    {
      "cell_type": "code",
      "metadata": {
        "id": "hvS2pMMfpT0C"
      },
      "source": [
        ""
      ],
      "execution_count": null,
      "outputs": []
    },
    {
      "cell_type": "code",
      "metadata": {
        "id": "S3CbtswopTxl"
      },
      "source": [
        ""
      ],
      "execution_count": null,
      "outputs": []
    },
    {
      "cell_type": "markdown",
      "metadata": {
        "id": "4B6LC1eypUtQ"
      },
      "source": [
        "# Análise dos Clusters x Hipóteses \n"
      ]
    },
    {
      "cell_type": "markdown",
      "metadata": {
        "id": "EqNJFqMWpcDG"
      },
      "source": [
        ""
      ]
    },
    {
      "cell_type": "markdown",
      "metadata": {
        "id": "VErXzMoiyi92"
      },
      "source": [
        "# Armazenar os dados em DB (Dataframe) - por exemplo\n",
        "## Filtragens por algumas categorias "
      ]
    },
    {
      "cell_type": "code",
      "metadata": {
        "id": "2J3642Gly45C"
      },
      "source": [
        ""
      ],
      "execution_count": null,
      "outputs": []
    },
    {
      "cell_type": "code",
      "metadata": {
        "id": "2FluHhrRzfzN"
      },
      "source": [
        ""
      ],
      "execution_count": null,
      "outputs": []
    },
    {
      "cell_type": "code",
      "metadata": {
        "id": "tF4GOSDHzfpY"
      },
      "source": [
        ""
      ],
      "execution_count": null,
      "outputs": []
    },
    {
      "cell_type": "markdown",
      "metadata": {
        "id": "_e0SKuary5Oo"
      },
      "source": [
        "# As hipóstese se confirmam ?"
      ]
    },
    {
      "cell_type": "markdown",
      "metadata": {
        "id": "dE2IRgpNzRQV"
      },
      "source": [
        "## Exemplo simples - (GroupBy) "
      ]
    },
    {
      "cell_type": "code",
      "metadata": {
        "id": "W_wCdRByyqBL"
      },
      "source": [
        "groupby('Cluster Labels')['Coluna 1'].count()"
      ],
      "execution_count": null,
      "outputs": []
    },
    {
      "cell_type": "markdown",
      "metadata": {
        "id": "4HnzKawo0Fcw"
      },
      "source": [
        "Cluster Labels\n",
        "\n",
        "0      6\n",
        "\n",
        "1    111\n",
        "\n",
        "2      4\n",
        "\n",
        "3     17\n",
        "\n",
        "4     10\n",
        "\n",
        "Name: Venue Category, dtype: int64"
      ]
    },
    {
      "cell_type": "code",
      "metadata": {
        "id": "KiOZW0zZ0HHa"
      },
      "source": [
        ""
      ],
      "execution_count": null,
      "outputs": []
    },
    {
      "cell_type": "code",
      "metadata": {
        "id": "TCwxOAn40min"
      },
      "source": [
        ""
      ],
      "execution_count": null,
      "outputs": []
    },
    {
      "cell_type": "markdown",
      "metadata": {
        "id": "cw3az36W0mvu"
      },
      "source": [
        "# Visualização no Mapa do resultado final"
      ]
    },
    {
      "cell_type": "code",
      "metadata": {
        "id": "-zXyno-F0smV"
      },
      "source": [
        ""
      ],
      "execution_count": null,
      "outputs": []
    }
  ]
}