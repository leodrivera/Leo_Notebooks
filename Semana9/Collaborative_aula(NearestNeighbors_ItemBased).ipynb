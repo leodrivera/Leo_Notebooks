{
 "cells": [
  {
   "cell_type": "markdown",
   "metadata": {
    "colab_type": "text",
    "id": "view-in-github"
   },
   "source": [
    "<a href=\"https://colab.research.google.com/github/CharlesPrado23/Notebooks/blob/main/Semana9/Collaborative_aula(NearestNeighbors_ItemBased).ipynb\" target=\"_parent\"><img src=\"https://colab.research.google.com/assets/colab-badge.svg\" alt=\"Open In Colab\"/></a>"
   ]
  },
  {
   "cell_type": "markdown",
   "metadata": {
    "button": false,
    "id": "oGK34Cpr2HSa",
    "new_sheet": false,
    "run_control": {
     "read_only": false
    }
   },
   "source": [
    "<center>\n",
    "    <img src=\"https://s3-api.us-geo.objectstorage.softlayer.net/cf-courses-data/CognitiveClass/Logos/organization_logo/organization_logo.png\" width=\"300\" alt=\"cognitiveclass.ai logo\"  />\n",
    "</center>\n",
    "\n",
    "# Collaborative Filtering\n",
    "\n",
    "Estimated time needed: **25** minutes\n",
    "\n",
    "## Objectives\n",
    "\n",
    "After completing this lab you will be able to:\n",
    "\n",
    "-   Create recommendation system based on collaborative filtering\n"
   ]
  },
  {
   "cell_type": "markdown",
   "metadata": {
    "button": false,
    "id": "5vHcck-e2HSd",
    "new_sheet": false,
    "run_control": {
     "read_only": false
    }
   },
   "source": [
    "Recommendation systems are a collection of algorithms used to recommend items to users based on information taken from the user. These systems have become ubiquitous can be commonly seen in online stores, movies databases and job finders. In this notebook, we will explore recommendation systems based on Collaborative Filtering and implement simple version of one using Python and the Pandas library.\n"
   ]
  },
  {
   "cell_type": "markdown",
   "metadata": {
    "button": false,
    "id": "gyHndmSi2HSf",
    "new_sheet": false,
    "run_control": {
     "read_only": false
    }
   },
   "source": [
    "<h1>Table of contents</h1>\n",
    "\n",
    "<div class=\"alert alert-block alert-info\" style=\"margin-top: 20px\">\n",
    "    <ol>\n",
    "        <li><a href=\"#ref1\">Acquiring the Data</a></li>\n",
    "        <li><a href=\"#ref2\">Preprocessing</a></li>\n",
    "        <li><a href=\"#ref3\">Collaborative Filtering</a></li>\n",
    "    </ol>\n",
    "</div>\n",
    "<br>\n",
    "<hr>\n"
   ]
  },
  {
   "cell_type": "markdown",
   "metadata": {
    "button": false,
    "id": "YoIK55S12HSf",
    "new_sheet": false,
    "run_control": {
     "read_only": false
    }
   },
   "source": [
    "<a id=\"ref1\"></a>\n",
    "\n",
    "# Acquiring the Data\n"
   ]
  },
  {
   "cell_type": "markdown",
   "metadata": {
    "button": false,
    "id": "MFrL6Aqv2HSg",
    "new_sheet": false,
    "run_control": {
     "read_only": false
    }
   },
   "source": [
    "To acquire and extract the data, simply run the following Bash scripts:  \n",
    "Dataset acquired from [GroupLens](http://grouplens.org/datasets/movielens?cm_mmc=Email_Newsletter-_-Developer_Ed%2BTech-_-WW_WW-_-SkillsNetwork-Courses-IBMDeveloperSkillsNetwork-ML0101EN-SkillsNetwork-20718538&cm_mmca1=000026UJ&cm_mmca2=10006555&cm_mmca3=M12345678&cvosrc=email.Newsletter.M12345678&cvo_campaign=000026UJ&cm_mmc=Email_Newsletter-_-Developer_Ed%2BTech-_-WW_WW-_-SkillsNetwork-Courses-IBMDeveloperSkillsNetwork-ML0101EN-SkillsNetwork-20718538&cm_mmca1=000026UJ&cm_mmca2=10006555&cm_mmca3=M12345678&cvosrc=email.Newsletter.M12345678&cvo_campaign=000026UJ&cm_mmc=Email_Newsletter-_-Developer_Ed%2BTech-_-WW_WW-_-SkillsNetwork-Courses-IBMDeveloperSkillsNetwork-ML0101EN-SkillsNetwork-20718538&cm_mmca1=000026UJ&cm_mmca2=10006555&cm_mmca3=M12345678&cvosrc=email.Newsletter.M12345678&cvo_campaign=000026UJ&cm_mmc=Email_Newsletter-_-Developer_Ed%2BTech-_-WW_WW-_-SkillsNetwork-Courses-IBMDeveloperSkillsNetwork-ML0101EN-SkillsNetwork-20718538&cm_mmca1=000026UJ&cm_mmca2=10006555&cm_mmca3=M12345678&cvosrc=email.Newsletter.M12345678&cvo_campaign=000026UJ). Lets download the dataset. To download the data, we will use **`!wget`** to download it from IBM Object Storage.  \n",
    "**Did you know?** When it comes to Machine Learning, you will likely be working with large datasets. As a business, where can you host your data? IBM is offering a unique opportunity for businesses, with 10 Tb of IBM Cloud Object Storage: [Sign up now for free](http://cocl.us/ML0101EN-IBM-Offer-CC)\n"
   ]
  },
  {
   "cell_type": "code",
   "execution_count": 1,
   "metadata": {
    "button": false,
    "colab": {
     "base_uri": "https://localhost:8080/"
    },
    "id": "iX9Azp5u2HSg",
    "new_sheet": false,
    "outputId": "7a058436-488d-4a56-b0d1-fc66fdfac217",
    "run_control": {
     "read_only": false
    }
   },
   "outputs": [
    {
     "name": "stdout",
     "output_type": "stream",
     "text": [
      "--2021-04-11 18:56:58--  https://cf-courses-data.s3.us.cloud-object-storage.appdomain.cloud/IBMDeveloperSkillsNetwork-ML0101EN-SkillsNetwork/labs/Module%205/data/moviedataset.zip\n",
      "Resolving cf-courses-data.s3.us.cloud-object-storage.appdomain.cloud (cf-courses-data.s3.us.cloud-object-storage.appdomain.cloud)... 198.23.119.245\n",
      "Connecting to cf-courses-data.s3.us.cloud-object-storage.appdomain.cloud (cf-courses-data.s3.us.cloud-object-storage.appdomain.cloud)|198.23.119.245|:443... connected.\n",
      "HTTP request sent, awaiting response... 200 OK\n",
      "Length: 160301210 (153M) [application/zip]\n",
      "Saving to: ‘moviedataset.zip’\n",
      "\n",
      "moviedataset.zip    100%[===================>] 152.88M  41.3MB/s    in 3.7s    \n",
      "\n",
      "2021-04-11 18:57:02 (41.3 MB/s) - ‘moviedataset.zip’ saved [160301210/160301210]\n",
      "\n",
      "unziping ...\n",
      "Archive:  moviedataset.zip\n",
      "  inflating: links.csv               \n",
      "  inflating: movies.csv              \n",
      "  inflating: ratings.csv             \n",
      "  inflating: README.txt              \n",
      "  inflating: tags.csv                \n"
     ]
    }
   ],
   "source": [
    "!wget -O moviedataset.zip https://cf-courses-data.s3.us.cloud-object-storage.appdomain.cloud/IBMDeveloperSkillsNetwork-ML0101EN-SkillsNetwork/labs/Module%205/data/moviedataset.zip\n",
    "print('unziping ...')\n",
    "!unzip -o -j moviedataset.zip "
   ]
  },
  {
   "cell_type": "markdown",
   "metadata": {
    "button": false,
    "id": "HOUEpbFO2HSh",
    "new_sheet": false,
    "run_control": {
     "read_only": false
    }
   },
   "source": [
    "Now you're ready to start working with the data!\n"
   ]
  },
  {
   "cell_type": "markdown",
   "metadata": {
    "button": false,
    "id": "QrYARZLB2HSi",
    "new_sheet": false,
    "run_control": {
     "read_only": false
    }
   },
   "source": [
    "<hr>\n",
    "\n",
    "<a id=\"ref2\"></a>\n",
    "\n",
    "# Preprocessing\n"
   ]
  },
  {
   "cell_type": "markdown",
   "metadata": {
    "button": false,
    "id": "QQCe-o452HSi",
    "new_sheet": false,
    "run_control": {
     "read_only": false
    }
   },
   "source": [
    "First, let's get all of the imports out of the way:\n"
   ]
  },
  {
   "cell_type": "code",
   "execution_count": 1,
   "metadata": {
    "button": false,
    "id": "SYxrC4Vy2HSi",
    "new_sheet": false,
    "run_control": {
     "read_only": false
    }
   },
   "outputs": [],
   "source": [
    "#Dataframe manipulation library\n",
    "import pandas as pd\n",
    "#Math functions, we'll only need the sqrt function so let's import only that\n",
    "from math import sqrt\n",
    "import numpy as np\n",
    "import matplotlib.pyplot as plt\n",
    "%matplotlib inline"
   ]
  },
  {
   "cell_type": "markdown",
   "metadata": {
    "button": false,
    "id": "sEJuTAAI2HSj",
    "new_sheet": false,
    "run_control": {
     "read_only": false
    }
   },
   "source": [
    "Now let's read each file into their Dataframes:\n"
   ]
  },
  {
   "cell_type": "code",
   "execution_count": 4,
   "metadata": {
    "button": false,
    "id": "FADkTqEY2HSj",
    "new_sheet": false,
    "run_control": {
     "read_only": false
    }
   },
   "outputs": [],
   "source": [
    "#Storing the movie information into a pandas dataframe\n",
    "movies_df = pd.read_csv('D:/Git/Arquivos/movies.csv',usecols=['movieId','title'])\n",
    "#Storing the user information into a pandas dataframe\n",
    "ratings_df = pd.read_csv('D:/Git/Arquivos/ratings.csv',usecols=['userId','movieId','rating'])"
   ]
  },
  {
   "cell_type": "markdown",
   "metadata": {
    "button": false,
    "id": "SlPEtsNs2HSj",
    "new_sheet": false,
    "run_control": {
     "read_only": false
    }
   },
   "source": [
    "Let's also take a peek at how each of them are organized:\n"
   ]
  },
  {
   "cell_type": "code",
   "execution_count": 5,
   "metadata": {
    "button": false,
    "colab": {
     "base_uri": "https://localhost:8080/",
     "height": 204
    },
    "id": "r8hYkaSG2HSk",
    "new_sheet": false,
    "outputId": "e7b78804-b217-4578-cbd7-e7d4d3818e49",
    "run_control": {
     "read_only": false
    }
   },
   "outputs": [
    {
     "data": {
      "text/html": [
       "<div>\n",
       "<style scoped>\n",
       "    .dataframe tbody tr th:only-of-type {\n",
       "        vertical-align: middle;\n",
       "    }\n",
       "\n",
       "    .dataframe tbody tr th {\n",
       "        vertical-align: top;\n",
       "    }\n",
       "\n",
       "    .dataframe thead th {\n",
       "        text-align: right;\n",
       "    }\n",
       "</style>\n",
       "<table border=\"1\" class=\"dataframe\">\n",
       "  <thead>\n",
       "    <tr style=\"text-align: right;\">\n",
       "      <th></th>\n",
       "      <th>movieId</th>\n",
       "      <th>title</th>\n",
       "    </tr>\n",
       "  </thead>\n",
       "  <tbody>\n",
       "    <tr>\n",
       "      <th>0</th>\n",
       "      <td>1</td>\n",
       "      <td>Toy Story (1995)</td>\n",
       "    </tr>\n",
       "    <tr>\n",
       "      <th>1</th>\n",
       "      <td>2</td>\n",
       "      <td>Jumanji (1995)</td>\n",
       "    </tr>\n",
       "    <tr>\n",
       "      <th>2</th>\n",
       "      <td>3</td>\n",
       "      <td>Grumpier Old Men (1995)</td>\n",
       "    </tr>\n",
       "    <tr>\n",
       "      <th>3</th>\n",
       "      <td>4</td>\n",
       "      <td>Waiting to Exhale (1995)</td>\n",
       "    </tr>\n",
       "    <tr>\n",
       "      <th>4</th>\n",
       "      <td>5</td>\n",
       "      <td>Father of the Bride Part II (1995)</td>\n",
       "    </tr>\n",
       "  </tbody>\n",
       "</table>\n",
       "</div>"
      ],
      "text/plain": [
       "   movieId                               title\n",
       "0        1                    Toy Story (1995)\n",
       "1        2                      Jumanji (1995)\n",
       "2        3             Grumpier Old Men (1995)\n",
       "3        4            Waiting to Exhale (1995)\n",
       "4        5  Father of the Bride Part II (1995)"
      ]
     },
     "execution_count": 5,
     "metadata": {},
     "output_type": "execute_result"
    }
   ],
   "source": [
    "#Head is a function that gets the first N rows of a dataframe. N's default is 5.\n",
    "movies_df.head()"
   ]
  },
  {
   "cell_type": "markdown",
   "metadata": {
    "button": false,
    "id": "-vnhvdCQ2HSq",
    "new_sheet": false,
    "run_control": {
     "read_only": false
    }
   },
   "source": [
    "<br>\n"
   ]
  },
  {
   "cell_type": "markdown",
   "metadata": {
    "button": false,
    "id": "jGBv22rM2HSq",
    "new_sheet": false,
    "run_control": {
     "read_only": false
    }
   },
   "source": [
    "Next, let's look at the ratings dataframe.\n"
   ]
  },
  {
   "cell_type": "code",
   "execution_count": 6,
   "metadata": {
    "button": false,
    "colab": {
     "base_uri": "https://localhost:8080/",
     "height": 419
    },
    "id": "aEJiulvl2HSq",
    "new_sheet": false,
    "outputId": "fc311f68-af78-417b-a6b1-052ec248b489",
    "run_control": {
     "read_only": false
    }
   },
   "outputs": [
    {
     "data": {
      "text/html": [
       "<div>\n",
       "<style scoped>\n",
       "    .dataframe tbody tr th:only-of-type {\n",
       "        vertical-align: middle;\n",
       "    }\n",
       "\n",
       "    .dataframe tbody tr th {\n",
       "        vertical-align: top;\n",
       "    }\n",
       "\n",
       "    .dataframe thead th {\n",
       "        text-align: right;\n",
       "    }\n",
       "</style>\n",
       "<table border=\"1\" class=\"dataframe\">\n",
       "  <thead>\n",
       "    <tr style=\"text-align: right;\">\n",
       "      <th></th>\n",
       "      <th>userId</th>\n",
       "      <th>movieId</th>\n",
       "      <th>rating</th>\n",
       "    </tr>\n",
       "  </thead>\n",
       "  <tbody>\n",
       "    <tr>\n",
       "      <th>1</th>\n",
       "      <td>1</td>\n",
       "      <td>2471</td>\n",
       "      <td>3.0</td>\n",
       "    </tr>\n",
       "    <tr>\n",
       "      <th>2</th>\n",
       "      <td>1</td>\n",
       "      <td>48516</td>\n",
       "      <td>5.0</td>\n",
       "    </tr>\n",
       "    <tr>\n",
       "      <th>3</th>\n",
       "      <td>2</td>\n",
       "      <td>2571</td>\n",
       "      <td>3.5</td>\n",
       "    </tr>\n",
       "    <tr>\n",
       "      <th>4</th>\n",
       "      <td>2</td>\n",
       "      <td>109487</td>\n",
       "      <td>4.0</td>\n",
       "    </tr>\n",
       "    <tr>\n",
       "      <th>5</th>\n",
       "      <td>2</td>\n",
       "      <td>112552</td>\n",
       "      <td>5.0</td>\n",
       "    </tr>\n",
       "    <tr>\n",
       "      <th>...</th>\n",
       "      <td>...</td>\n",
       "      <td>...</td>\n",
       "      <td>...</td>\n",
       "    </tr>\n",
       "    <tr>\n",
       "      <th>1999995</th>\n",
       "      <td>21530</td>\n",
       "      <td>541</td>\n",
       "      <td>3.5</td>\n",
       "    </tr>\n",
       "    <tr>\n",
       "      <th>1999996</th>\n",
       "      <td>21530</td>\n",
       "      <td>551</td>\n",
       "      <td>4.0</td>\n",
       "    </tr>\n",
       "    <tr>\n",
       "      <th>1999997</th>\n",
       "      <td>21530</td>\n",
       "      <td>553</td>\n",
       "      <td>4.0</td>\n",
       "    </tr>\n",
       "    <tr>\n",
       "      <th>1999998</th>\n",
       "      <td>21530</td>\n",
       "      <td>586</td>\n",
       "      <td>1.5</td>\n",
       "    </tr>\n",
       "    <tr>\n",
       "      <th>1999999</th>\n",
       "      <td>21530</td>\n",
       "      <td>587</td>\n",
       "      <td>1.5</td>\n",
       "    </tr>\n",
       "  </tbody>\n",
       "</table>\n",
       "<p>1999999 rows × 3 columns</p>\n",
       "</div>"
      ],
      "text/plain": [
       "         userId  movieId  rating\n",
       "1             1     2471     3.0\n",
       "2             1    48516     5.0\n",
       "3             2     2571     3.5\n",
       "4             2   109487     4.0\n",
       "5             2   112552     5.0\n",
       "...         ...      ...     ...\n",
       "1999995   21530      541     3.5\n",
       "1999996   21530      551     4.0\n",
       "1999997   21530      553     4.0\n",
       "1999998   21530      586     1.5\n",
       "1999999   21530      587     1.5\n",
       "\n",
       "[1999999 rows x 3 columns]"
      ]
     },
     "execution_count": 6,
     "metadata": {},
     "output_type": "execute_result"
    }
   ],
   "source": [
    "ratings_df_ = ratings_df.iloc[1:2000000, :]\n",
    "ratings_df_"
   ]
  },
  {
   "cell_type": "markdown",
   "metadata": {
    "button": false,
    "id": "TowsjYHv2HSt",
    "new_sheet": false,
    "run_control": {
     "read_only": false
    }
   },
   "source": [
    "<hr>\n",
    "\n",
    "<a id=\"ref3\"></a>\n",
    "\n",
    "# Collaborative Filtering\n"
   ]
  },
  {
   "cell_type": "markdown",
   "metadata": {
    "button": false,
    "id": "bWmDuaOf2HSt",
    "new_sheet": false,
    "run_control": {
     "read_only": false
    }
   },
   "source": [
    "Now, time to start our work on recommendation systems. \n",
    "\n",
    "The first technique we're going to take a look at is called **Collaborative Filtering**, which is also known as **User-User Filtering**. As hinted by its alternate name, this technique uses other users to recommend items to the input user. It attempts to find users that have similar preferences and opinions as the input and then recommends items that they have liked to the input. There are several methods of finding similar users (Even some making use of Machine Learning), and the one we will be using here is going to be based on the **Pearson Correlation Function**.\n",
    "\n",
    "<img src=\"https://cf-courses-data.s3.us.cloud-object-storage.appdomain.cloud/IBMDeveloperSkillsNetwork-ML0101EN-SkillsNetwork/labs/Module%205/images/User_Item.png\" width=800px>\n",
    "\n",
    "The process for creating a User Based recommendation system is as follows:\n",
    "\n",
    "-   Select a user with the movies the user has watched\n",
    "-   Based on his rating to movies, find the top X neighbours \n",
    "-   Get the watched movie record of the user for each neighbour.\n",
    "-   Calculate a similarity score using some formula\n",
    "-   Recommend the items with the highest score\n",
    "\n",
    "Let's begin by creating an input user to recommend movies to:\n",
    "\n",
    "Notice: To add more movies, simply increase the amount of elements in the userInput. Feel free to add more in! Just be sure to write it in with capital letters and if a movie starts with a \"The\", like \"The Matrix\" then write it in like this: 'Matrix, The' .\n"
   ]
  },
  {
   "cell_type": "code",
   "execution_count": 8,
   "metadata": {
    "colab": {
     "base_uri": "https://localhost:8080/",
     "height": 470
    },
    "id": "OIACN9-5zSm8",
    "outputId": "81bc0f86-1c04-47c4-f92d-d0ed8192710e"
   },
   "outputs": [
    {
     "data": {
      "text/html": [
       "<div>\n",
       "<style scoped>\n",
       "    .dataframe tbody tr th:only-of-type {\n",
       "        vertical-align: middle;\n",
       "    }\n",
       "\n",
       "    .dataframe tbody tr th {\n",
       "        vertical-align: top;\n",
       "    }\n",
       "\n",
       "    .dataframe thead th {\n",
       "        text-align: right;\n",
       "    }\n",
       "</style>\n",
       "<table border=\"1\" class=\"dataframe\">\n",
       "  <thead>\n",
       "    <tr style=\"text-align: right;\">\n",
       "      <th>userId</th>\n",
       "      <th>1</th>\n",
       "      <th>2</th>\n",
       "      <th>3</th>\n",
       "      <th>4</th>\n",
       "      <th>5</th>\n",
       "      <th>6</th>\n",
       "      <th>7</th>\n",
       "      <th>8</th>\n",
       "      <th>9</th>\n",
       "      <th>10</th>\n",
       "      <th>...</th>\n",
       "      <th>21521</th>\n",
       "      <th>21522</th>\n",
       "      <th>21523</th>\n",
       "      <th>21524</th>\n",
       "      <th>21525</th>\n",
       "      <th>21526</th>\n",
       "      <th>21527</th>\n",
       "      <th>21528</th>\n",
       "      <th>21529</th>\n",
       "      <th>21530</th>\n",
       "    </tr>\n",
       "    <tr>\n",
       "      <th>movieId</th>\n",
       "      <th></th>\n",
       "      <th></th>\n",
       "      <th></th>\n",
       "      <th></th>\n",
       "      <th></th>\n",
       "      <th></th>\n",
       "      <th></th>\n",
       "      <th></th>\n",
       "      <th></th>\n",
       "      <th></th>\n",
       "      <th></th>\n",
       "      <th></th>\n",
       "      <th></th>\n",
       "      <th></th>\n",
       "      <th></th>\n",
       "      <th></th>\n",
       "      <th></th>\n",
       "      <th></th>\n",
       "      <th></th>\n",
       "      <th></th>\n",
       "      <th></th>\n",
       "    </tr>\n",
       "  </thead>\n",
       "  <tbody>\n",
       "    <tr>\n",
       "      <th>1</th>\n",
       "      <td>NaN</td>\n",
       "      <td>NaN</td>\n",
       "      <td>NaN</td>\n",
       "      <td>NaN</td>\n",
       "      <td>NaN</td>\n",
       "      <td>NaN</td>\n",
       "      <td>NaN</td>\n",
       "      <td>NaN</td>\n",
       "      <td>NaN</td>\n",
       "      <td>NaN</td>\n",
       "      <td>...</td>\n",
       "      <td>NaN</td>\n",
       "      <td>NaN</td>\n",
       "      <td>NaN</td>\n",
       "      <td>NaN</td>\n",
       "      <td>NaN</td>\n",
       "      <td>NaN</td>\n",
       "      <td>NaN</td>\n",
       "      <td>NaN</td>\n",
       "      <td>NaN</td>\n",
       "      <td>1.0</td>\n",
       "    </tr>\n",
       "    <tr>\n",
       "      <th>2</th>\n",
       "      <td>NaN</td>\n",
       "      <td>NaN</td>\n",
       "      <td>NaN</td>\n",
       "      <td>NaN</td>\n",
       "      <td>NaN</td>\n",
       "      <td>NaN</td>\n",
       "      <td>NaN</td>\n",
       "      <td>NaN</td>\n",
       "      <td>NaN</td>\n",
       "      <td>NaN</td>\n",
       "      <td>...</td>\n",
       "      <td>NaN</td>\n",
       "      <td>NaN</td>\n",
       "      <td>NaN</td>\n",
       "      <td>NaN</td>\n",
       "      <td>NaN</td>\n",
       "      <td>NaN</td>\n",
       "      <td>NaN</td>\n",
       "      <td>NaN</td>\n",
       "      <td>NaN</td>\n",
       "      <td>0.5</td>\n",
       "    </tr>\n",
       "    <tr>\n",
       "      <th>3</th>\n",
       "      <td>NaN</td>\n",
       "      <td>NaN</td>\n",
       "      <td>NaN</td>\n",
       "      <td>NaN</td>\n",
       "      <td>NaN</td>\n",
       "      <td>NaN</td>\n",
       "      <td>NaN</td>\n",
       "      <td>NaN</td>\n",
       "      <td>NaN</td>\n",
       "      <td>NaN</td>\n",
       "      <td>...</td>\n",
       "      <td>NaN</td>\n",
       "      <td>NaN</td>\n",
       "      <td>NaN</td>\n",
       "      <td>NaN</td>\n",
       "      <td>NaN</td>\n",
       "      <td>NaN</td>\n",
       "      <td>NaN</td>\n",
       "      <td>NaN</td>\n",
       "      <td>NaN</td>\n",
       "      <td>NaN</td>\n",
       "    </tr>\n",
       "    <tr>\n",
       "      <th>4</th>\n",
       "      <td>NaN</td>\n",
       "      <td>NaN</td>\n",
       "      <td>NaN</td>\n",
       "      <td>NaN</td>\n",
       "      <td>NaN</td>\n",
       "      <td>NaN</td>\n",
       "      <td>NaN</td>\n",
       "      <td>NaN</td>\n",
       "      <td>NaN</td>\n",
       "      <td>NaN</td>\n",
       "      <td>...</td>\n",
       "      <td>NaN</td>\n",
       "      <td>NaN</td>\n",
       "      <td>NaN</td>\n",
       "      <td>NaN</td>\n",
       "      <td>NaN</td>\n",
       "      <td>NaN</td>\n",
       "      <td>NaN</td>\n",
       "      <td>NaN</td>\n",
       "      <td>NaN</td>\n",
       "      <td>NaN</td>\n",
       "    </tr>\n",
       "    <tr>\n",
       "      <th>5</th>\n",
       "      <td>NaN</td>\n",
       "      <td>NaN</td>\n",
       "      <td>NaN</td>\n",
       "      <td>NaN</td>\n",
       "      <td>NaN</td>\n",
       "      <td>NaN</td>\n",
       "      <td>NaN</td>\n",
       "      <td>NaN</td>\n",
       "      <td>NaN</td>\n",
       "      <td>NaN</td>\n",
       "      <td>...</td>\n",
       "      <td>NaN</td>\n",
       "      <td>NaN</td>\n",
       "      <td>NaN</td>\n",
       "      <td>4.0</td>\n",
       "      <td>NaN</td>\n",
       "      <td>NaN</td>\n",
       "      <td>NaN</td>\n",
       "      <td>NaN</td>\n",
       "      <td>NaN</td>\n",
       "      <td>NaN</td>\n",
       "    </tr>\n",
       "    <tr>\n",
       "      <th>...</th>\n",
       "      <td>...</td>\n",
       "      <td>...</td>\n",
       "      <td>...</td>\n",
       "      <td>...</td>\n",
       "      <td>...</td>\n",
       "      <td>...</td>\n",
       "      <td>...</td>\n",
       "      <td>...</td>\n",
       "      <td>...</td>\n",
       "      <td>...</td>\n",
       "      <td>...</td>\n",
       "      <td>...</td>\n",
       "      <td>...</td>\n",
       "      <td>...</td>\n",
       "      <td>...</td>\n",
       "      <td>...</td>\n",
       "      <td>...</td>\n",
       "      <td>...</td>\n",
       "      <td>...</td>\n",
       "      <td>...</td>\n",
       "      <td>...</td>\n",
       "    </tr>\n",
       "    <tr>\n",
       "      <th>151507</th>\n",
       "      <td>NaN</td>\n",
       "      <td>NaN</td>\n",
       "      <td>NaN</td>\n",
       "      <td>NaN</td>\n",
       "      <td>NaN</td>\n",
       "      <td>NaN</td>\n",
       "      <td>NaN</td>\n",
       "      <td>NaN</td>\n",
       "      <td>NaN</td>\n",
       "      <td>NaN</td>\n",
       "      <td>...</td>\n",
       "      <td>NaN</td>\n",
       "      <td>NaN</td>\n",
       "      <td>NaN</td>\n",
       "      <td>NaN</td>\n",
       "      <td>NaN</td>\n",
       "      <td>NaN</td>\n",
       "      <td>NaN</td>\n",
       "      <td>NaN</td>\n",
       "      <td>NaN</td>\n",
       "      <td>NaN</td>\n",
       "    </tr>\n",
       "    <tr>\n",
       "      <th>151547</th>\n",
       "      <td>NaN</td>\n",
       "      <td>NaN</td>\n",
       "      <td>NaN</td>\n",
       "      <td>NaN</td>\n",
       "      <td>NaN</td>\n",
       "      <td>NaN</td>\n",
       "      <td>NaN</td>\n",
       "      <td>NaN</td>\n",
       "      <td>NaN</td>\n",
       "      <td>NaN</td>\n",
       "      <td>...</td>\n",
       "      <td>NaN</td>\n",
       "      <td>NaN</td>\n",
       "      <td>NaN</td>\n",
       "      <td>NaN</td>\n",
       "      <td>NaN</td>\n",
       "      <td>NaN</td>\n",
       "      <td>NaN</td>\n",
       "      <td>NaN</td>\n",
       "      <td>NaN</td>\n",
       "      <td>NaN</td>\n",
       "    </tr>\n",
       "    <tr>\n",
       "      <th>151593</th>\n",
       "      <td>NaN</td>\n",
       "      <td>NaN</td>\n",
       "      <td>NaN</td>\n",
       "      <td>NaN</td>\n",
       "      <td>NaN</td>\n",
       "      <td>NaN</td>\n",
       "      <td>NaN</td>\n",
       "      <td>NaN</td>\n",
       "      <td>NaN</td>\n",
       "      <td>NaN</td>\n",
       "      <td>...</td>\n",
       "      <td>NaN</td>\n",
       "      <td>NaN</td>\n",
       "      <td>NaN</td>\n",
       "      <td>NaN</td>\n",
       "      <td>NaN</td>\n",
       "      <td>NaN</td>\n",
       "      <td>NaN</td>\n",
       "      <td>NaN</td>\n",
       "      <td>NaN</td>\n",
       "      <td>NaN</td>\n",
       "    </tr>\n",
       "    <tr>\n",
       "      <th>151657</th>\n",
       "      <td>NaN</td>\n",
       "      <td>NaN</td>\n",
       "      <td>NaN</td>\n",
       "      <td>NaN</td>\n",
       "      <td>NaN</td>\n",
       "      <td>NaN</td>\n",
       "      <td>NaN</td>\n",
       "      <td>NaN</td>\n",
       "      <td>NaN</td>\n",
       "      <td>NaN</td>\n",
       "      <td>...</td>\n",
       "      <td>NaN</td>\n",
       "      <td>NaN</td>\n",
       "      <td>NaN</td>\n",
       "      <td>NaN</td>\n",
       "      <td>NaN</td>\n",
       "      <td>NaN</td>\n",
       "      <td>NaN</td>\n",
       "      <td>NaN</td>\n",
       "      <td>NaN</td>\n",
       "      <td>NaN</td>\n",
       "    </tr>\n",
       "    <tr>\n",
       "      <th>151661</th>\n",
       "      <td>NaN</td>\n",
       "      <td>NaN</td>\n",
       "      <td>NaN</td>\n",
       "      <td>NaN</td>\n",
       "      <td>NaN</td>\n",
       "      <td>NaN</td>\n",
       "      <td>NaN</td>\n",
       "      <td>NaN</td>\n",
       "      <td>NaN</td>\n",
       "      <td>NaN</td>\n",
       "      <td>...</td>\n",
       "      <td>NaN</td>\n",
       "      <td>NaN</td>\n",
       "      <td>NaN</td>\n",
       "      <td>NaN</td>\n",
       "      <td>NaN</td>\n",
       "      <td>NaN</td>\n",
       "      <td>NaN</td>\n",
       "      <td>NaN</td>\n",
       "      <td>NaN</td>\n",
       "      <td>NaN</td>\n",
       "    </tr>\n",
       "  </tbody>\n",
       "</table>\n",
       "<p>20049 rows × 21530 columns</p>\n",
       "</div>"
      ],
      "text/plain": [
       "userId   1      2      3      4      5      6      7      8      9      10     \\\n",
       "movieId                                                                         \n",
       "1          NaN    NaN    NaN    NaN    NaN    NaN    NaN    NaN    NaN    NaN   \n",
       "2          NaN    NaN    NaN    NaN    NaN    NaN    NaN    NaN    NaN    NaN   \n",
       "3          NaN    NaN    NaN    NaN    NaN    NaN    NaN    NaN    NaN    NaN   \n",
       "4          NaN    NaN    NaN    NaN    NaN    NaN    NaN    NaN    NaN    NaN   \n",
       "5          NaN    NaN    NaN    NaN    NaN    NaN    NaN    NaN    NaN    NaN   \n",
       "...        ...    ...    ...    ...    ...    ...    ...    ...    ...    ...   \n",
       "151507     NaN    NaN    NaN    NaN    NaN    NaN    NaN    NaN    NaN    NaN   \n",
       "151547     NaN    NaN    NaN    NaN    NaN    NaN    NaN    NaN    NaN    NaN   \n",
       "151593     NaN    NaN    NaN    NaN    NaN    NaN    NaN    NaN    NaN    NaN   \n",
       "151657     NaN    NaN    NaN    NaN    NaN    NaN    NaN    NaN    NaN    NaN   \n",
       "151661     NaN    NaN    NaN    NaN    NaN    NaN    NaN    NaN    NaN    NaN   \n",
       "\n",
       "userId   ...  21521  21522  21523  21524  21525  21526  21527  21528  21529  \\\n",
       "movieId  ...                                                                  \n",
       "1        ...    NaN    NaN    NaN    NaN    NaN    NaN    NaN    NaN    NaN   \n",
       "2        ...    NaN    NaN    NaN    NaN    NaN    NaN    NaN    NaN    NaN   \n",
       "3        ...    NaN    NaN    NaN    NaN    NaN    NaN    NaN    NaN    NaN   \n",
       "4        ...    NaN    NaN    NaN    NaN    NaN    NaN    NaN    NaN    NaN   \n",
       "5        ...    NaN    NaN    NaN    4.0    NaN    NaN    NaN    NaN    NaN   \n",
       "...      ...    ...    ...    ...    ...    ...    ...    ...    ...    ...   \n",
       "151507   ...    NaN    NaN    NaN    NaN    NaN    NaN    NaN    NaN    NaN   \n",
       "151547   ...    NaN    NaN    NaN    NaN    NaN    NaN    NaN    NaN    NaN   \n",
       "151593   ...    NaN    NaN    NaN    NaN    NaN    NaN    NaN    NaN    NaN   \n",
       "151657   ...    NaN    NaN    NaN    NaN    NaN    NaN    NaN    NaN    NaN   \n",
       "151661   ...    NaN    NaN    NaN    NaN    NaN    NaN    NaN    NaN    NaN   \n",
       "\n",
       "userId   21530  \n",
       "movieId         \n",
       "1          1.0  \n",
       "2          0.5  \n",
       "3          NaN  \n",
       "4          NaN  \n",
       "5          NaN  \n",
       "...        ...  \n",
       "151507     NaN  \n",
       "151547     NaN  \n",
       "151593     NaN  \n",
       "151657     NaN  \n",
       "151661     NaN  \n",
       "\n",
       "[20049 rows x 21530 columns]"
      ]
     },
     "execution_count": 8,
     "metadata": {},
     "output_type": "execute_result"
    }
   ],
   "source": [
    "movies_users = ratings_df_.pivot_table(index = 'movieId', columns='userId',values='rating')\n",
    "movies_users"
   ]
  },
  {
   "cell_type": "code",
   "execution_count": 9,
   "metadata": {
    "colab": {
     "base_uri": "https://localhost:8080/",
     "height": 470
    },
    "id": "oG-F56WG1RqF",
    "outputId": "e5f6901b-d7c2-44d2-9c95-78bce4885661"
   },
   "outputs": [
    {
     "data": {
      "text/html": [
       "<div>\n",
       "<style scoped>\n",
       "    .dataframe tbody tr th:only-of-type {\n",
       "        vertical-align: middle;\n",
       "    }\n",
       "\n",
       "    .dataframe tbody tr th {\n",
       "        vertical-align: top;\n",
       "    }\n",
       "\n",
       "    .dataframe thead th {\n",
       "        text-align: right;\n",
       "    }\n",
       "</style>\n",
       "<table border=\"1\" class=\"dataframe\">\n",
       "  <thead>\n",
       "    <tr style=\"text-align: right;\">\n",
       "      <th>userId</th>\n",
       "      <th>1</th>\n",
       "      <th>2</th>\n",
       "      <th>3</th>\n",
       "      <th>4</th>\n",
       "      <th>5</th>\n",
       "      <th>6</th>\n",
       "      <th>7</th>\n",
       "      <th>8</th>\n",
       "      <th>9</th>\n",
       "      <th>10</th>\n",
       "      <th>...</th>\n",
       "      <th>21521</th>\n",
       "      <th>21522</th>\n",
       "      <th>21523</th>\n",
       "      <th>21524</th>\n",
       "      <th>21525</th>\n",
       "      <th>21526</th>\n",
       "      <th>21527</th>\n",
       "      <th>21528</th>\n",
       "      <th>21529</th>\n",
       "      <th>21530</th>\n",
       "    </tr>\n",
       "    <tr>\n",
       "      <th>movieId</th>\n",
       "      <th></th>\n",
       "      <th></th>\n",
       "      <th></th>\n",
       "      <th></th>\n",
       "      <th></th>\n",
       "      <th></th>\n",
       "      <th></th>\n",
       "      <th></th>\n",
       "      <th></th>\n",
       "      <th></th>\n",
       "      <th></th>\n",
       "      <th></th>\n",
       "      <th></th>\n",
       "      <th></th>\n",
       "      <th></th>\n",
       "      <th></th>\n",
       "      <th></th>\n",
       "      <th></th>\n",
       "      <th></th>\n",
       "      <th></th>\n",
       "      <th></th>\n",
       "    </tr>\n",
       "  </thead>\n",
       "  <tbody>\n",
       "    <tr>\n",
       "      <th>1</th>\n",
       "      <td>0.0</td>\n",
       "      <td>0.0</td>\n",
       "      <td>0.0</td>\n",
       "      <td>0.0</td>\n",
       "      <td>0.0</td>\n",
       "      <td>0.0</td>\n",
       "      <td>0.0</td>\n",
       "      <td>0.0</td>\n",
       "      <td>0.0</td>\n",
       "      <td>0.0</td>\n",
       "      <td>...</td>\n",
       "      <td>0.0</td>\n",
       "      <td>0.0</td>\n",
       "      <td>0.0</td>\n",
       "      <td>0.0</td>\n",
       "      <td>0.0</td>\n",
       "      <td>0.0</td>\n",
       "      <td>0.0</td>\n",
       "      <td>0.0</td>\n",
       "      <td>0.0</td>\n",
       "      <td>1.0</td>\n",
       "    </tr>\n",
       "    <tr>\n",
       "      <th>2</th>\n",
       "      <td>0.0</td>\n",
       "      <td>0.0</td>\n",
       "      <td>0.0</td>\n",
       "      <td>0.0</td>\n",
       "      <td>0.0</td>\n",
       "      <td>0.0</td>\n",
       "      <td>0.0</td>\n",
       "      <td>0.0</td>\n",
       "      <td>0.0</td>\n",
       "      <td>0.0</td>\n",
       "      <td>...</td>\n",
       "      <td>0.0</td>\n",
       "      <td>0.0</td>\n",
       "      <td>0.0</td>\n",
       "      <td>0.0</td>\n",
       "      <td>0.0</td>\n",
       "      <td>0.0</td>\n",
       "      <td>0.0</td>\n",
       "      <td>0.0</td>\n",
       "      <td>0.0</td>\n",
       "      <td>0.5</td>\n",
       "    </tr>\n",
       "    <tr>\n",
       "      <th>3</th>\n",
       "      <td>0.0</td>\n",
       "      <td>0.0</td>\n",
       "      <td>0.0</td>\n",
       "      <td>0.0</td>\n",
       "      <td>0.0</td>\n",
       "      <td>0.0</td>\n",
       "      <td>0.0</td>\n",
       "      <td>0.0</td>\n",
       "      <td>0.0</td>\n",
       "      <td>0.0</td>\n",
       "      <td>...</td>\n",
       "      <td>0.0</td>\n",
       "      <td>0.0</td>\n",
       "      <td>0.0</td>\n",
       "      <td>0.0</td>\n",
       "      <td>0.0</td>\n",
       "      <td>0.0</td>\n",
       "      <td>0.0</td>\n",
       "      <td>0.0</td>\n",
       "      <td>0.0</td>\n",
       "      <td>0.0</td>\n",
       "    </tr>\n",
       "    <tr>\n",
       "      <th>4</th>\n",
       "      <td>0.0</td>\n",
       "      <td>0.0</td>\n",
       "      <td>0.0</td>\n",
       "      <td>0.0</td>\n",
       "      <td>0.0</td>\n",
       "      <td>0.0</td>\n",
       "      <td>0.0</td>\n",
       "      <td>0.0</td>\n",
       "      <td>0.0</td>\n",
       "      <td>0.0</td>\n",
       "      <td>...</td>\n",
       "      <td>0.0</td>\n",
       "      <td>0.0</td>\n",
       "      <td>0.0</td>\n",
       "      <td>0.0</td>\n",
       "      <td>0.0</td>\n",
       "      <td>0.0</td>\n",
       "      <td>0.0</td>\n",
       "      <td>0.0</td>\n",
       "      <td>0.0</td>\n",
       "      <td>0.0</td>\n",
       "    </tr>\n",
       "    <tr>\n",
       "      <th>5</th>\n",
       "      <td>0.0</td>\n",
       "      <td>0.0</td>\n",
       "      <td>0.0</td>\n",
       "      <td>0.0</td>\n",
       "      <td>0.0</td>\n",
       "      <td>0.0</td>\n",
       "      <td>0.0</td>\n",
       "      <td>0.0</td>\n",
       "      <td>0.0</td>\n",
       "      <td>0.0</td>\n",
       "      <td>...</td>\n",
       "      <td>0.0</td>\n",
       "      <td>0.0</td>\n",
       "      <td>0.0</td>\n",
       "      <td>4.0</td>\n",
       "      <td>0.0</td>\n",
       "      <td>0.0</td>\n",
       "      <td>0.0</td>\n",
       "      <td>0.0</td>\n",
       "      <td>0.0</td>\n",
       "      <td>0.0</td>\n",
       "    </tr>\n",
       "    <tr>\n",
       "      <th>...</th>\n",
       "      <td>...</td>\n",
       "      <td>...</td>\n",
       "      <td>...</td>\n",
       "      <td>...</td>\n",
       "      <td>...</td>\n",
       "      <td>...</td>\n",
       "      <td>...</td>\n",
       "      <td>...</td>\n",
       "      <td>...</td>\n",
       "      <td>...</td>\n",
       "      <td>...</td>\n",
       "      <td>...</td>\n",
       "      <td>...</td>\n",
       "      <td>...</td>\n",
       "      <td>...</td>\n",
       "      <td>...</td>\n",
       "      <td>...</td>\n",
       "      <td>...</td>\n",
       "      <td>...</td>\n",
       "      <td>...</td>\n",
       "      <td>...</td>\n",
       "    </tr>\n",
       "    <tr>\n",
       "      <th>151507</th>\n",
       "      <td>0.0</td>\n",
       "      <td>0.0</td>\n",
       "      <td>0.0</td>\n",
       "      <td>0.0</td>\n",
       "      <td>0.0</td>\n",
       "      <td>0.0</td>\n",
       "      <td>0.0</td>\n",
       "      <td>0.0</td>\n",
       "      <td>0.0</td>\n",
       "      <td>0.0</td>\n",
       "      <td>...</td>\n",
       "      <td>0.0</td>\n",
       "      <td>0.0</td>\n",
       "      <td>0.0</td>\n",
       "      <td>0.0</td>\n",
       "      <td>0.0</td>\n",
       "      <td>0.0</td>\n",
       "      <td>0.0</td>\n",
       "      <td>0.0</td>\n",
       "      <td>0.0</td>\n",
       "      <td>0.0</td>\n",
       "    </tr>\n",
       "    <tr>\n",
       "      <th>151547</th>\n",
       "      <td>0.0</td>\n",
       "      <td>0.0</td>\n",
       "      <td>0.0</td>\n",
       "      <td>0.0</td>\n",
       "      <td>0.0</td>\n",
       "      <td>0.0</td>\n",
       "      <td>0.0</td>\n",
       "      <td>0.0</td>\n",
       "      <td>0.0</td>\n",
       "      <td>0.0</td>\n",
       "      <td>...</td>\n",
       "      <td>0.0</td>\n",
       "      <td>0.0</td>\n",
       "      <td>0.0</td>\n",
       "      <td>0.0</td>\n",
       "      <td>0.0</td>\n",
       "      <td>0.0</td>\n",
       "      <td>0.0</td>\n",
       "      <td>0.0</td>\n",
       "      <td>0.0</td>\n",
       "      <td>0.0</td>\n",
       "    </tr>\n",
       "    <tr>\n",
       "      <th>151593</th>\n",
       "      <td>0.0</td>\n",
       "      <td>0.0</td>\n",
       "      <td>0.0</td>\n",
       "      <td>0.0</td>\n",
       "      <td>0.0</td>\n",
       "      <td>0.0</td>\n",
       "      <td>0.0</td>\n",
       "      <td>0.0</td>\n",
       "      <td>0.0</td>\n",
       "      <td>0.0</td>\n",
       "      <td>...</td>\n",
       "      <td>0.0</td>\n",
       "      <td>0.0</td>\n",
       "      <td>0.0</td>\n",
       "      <td>0.0</td>\n",
       "      <td>0.0</td>\n",
       "      <td>0.0</td>\n",
       "      <td>0.0</td>\n",
       "      <td>0.0</td>\n",
       "      <td>0.0</td>\n",
       "      <td>0.0</td>\n",
       "    </tr>\n",
       "    <tr>\n",
       "      <th>151657</th>\n",
       "      <td>0.0</td>\n",
       "      <td>0.0</td>\n",
       "      <td>0.0</td>\n",
       "      <td>0.0</td>\n",
       "      <td>0.0</td>\n",
       "      <td>0.0</td>\n",
       "      <td>0.0</td>\n",
       "      <td>0.0</td>\n",
       "      <td>0.0</td>\n",
       "      <td>0.0</td>\n",
       "      <td>...</td>\n",
       "      <td>0.0</td>\n",
       "      <td>0.0</td>\n",
       "      <td>0.0</td>\n",
       "      <td>0.0</td>\n",
       "      <td>0.0</td>\n",
       "      <td>0.0</td>\n",
       "      <td>0.0</td>\n",
       "      <td>0.0</td>\n",
       "      <td>0.0</td>\n",
       "      <td>0.0</td>\n",
       "    </tr>\n",
       "    <tr>\n",
       "      <th>151661</th>\n",
       "      <td>0.0</td>\n",
       "      <td>0.0</td>\n",
       "      <td>0.0</td>\n",
       "      <td>0.0</td>\n",
       "      <td>0.0</td>\n",
       "      <td>0.0</td>\n",
       "      <td>0.0</td>\n",
       "      <td>0.0</td>\n",
       "      <td>0.0</td>\n",
       "      <td>0.0</td>\n",
       "      <td>...</td>\n",
       "      <td>0.0</td>\n",
       "      <td>0.0</td>\n",
       "      <td>0.0</td>\n",
       "      <td>0.0</td>\n",
       "      <td>0.0</td>\n",
       "      <td>0.0</td>\n",
       "      <td>0.0</td>\n",
       "      <td>0.0</td>\n",
       "      <td>0.0</td>\n",
       "      <td>0.0</td>\n",
       "    </tr>\n",
       "  </tbody>\n",
       "</table>\n",
       "<p>20049 rows × 21530 columns</p>\n",
       "</div>"
      ],
      "text/plain": [
       "userId   1      2      3      4      5      6      7      8      9      10     \\\n",
       "movieId                                                                         \n",
       "1          0.0    0.0    0.0    0.0    0.0    0.0    0.0    0.0    0.0    0.0   \n",
       "2          0.0    0.0    0.0    0.0    0.0    0.0    0.0    0.0    0.0    0.0   \n",
       "3          0.0    0.0    0.0    0.0    0.0    0.0    0.0    0.0    0.0    0.0   \n",
       "4          0.0    0.0    0.0    0.0    0.0    0.0    0.0    0.0    0.0    0.0   \n",
       "5          0.0    0.0    0.0    0.0    0.0    0.0    0.0    0.0    0.0    0.0   \n",
       "...        ...    ...    ...    ...    ...    ...    ...    ...    ...    ...   \n",
       "151507     0.0    0.0    0.0    0.0    0.0    0.0    0.0    0.0    0.0    0.0   \n",
       "151547     0.0    0.0    0.0    0.0    0.0    0.0    0.0    0.0    0.0    0.0   \n",
       "151593     0.0    0.0    0.0    0.0    0.0    0.0    0.0    0.0    0.0    0.0   \n",
       "151657     0.0    0.0    0.0    0.0    0.0    0.0    0.0    0.0    0.0    0.0   \n",
       "151661     0.0    0.0    0.0    0.0    0.0    0.0    0.0    0.0    0.0    0.0   \n",
       "\n",
       "userId   ...  21521  21522  21523  21524  21525  21526  21527  21528  21529  \\\n",
       "movieId  ...                                                                  \n",
       "1        ...    0.0    0.0    0.0    0.0    0.0    0.0    0.0    0.0    0.0   \n",
       "2        ...    0.0    0.0    0.0    0.0    0.0    0.0    0.0    0.0    0.0   \n",
       "3        ...    0.0    0.0    0.0    0.0    0.0    0.0    0.0    0.0    0.0   \n",
       "4        ...    0.0    0.0    0.0    0.0    0.0    0.0    0.0    0.0    0.0   \n",
       "5        ...    0.0    0.0    0.0    4.0    0.0    0.0    0.0    0.0    0.0   \n",
       "...      ...    ...    ...    ...    ...    ...    ...    ...    ...    ...   \n",
       "151507   ...    0.0    0.0    0.0    0.0    0.0    0.0    0.0    0.0    0.0   \n",
       "151547   ...    0.0    0.0    0.0    0.0    0.0    0.0    0.0    0.0    0.0   \n",
       "151593   ...    0.0    0.0    0.0    0.0    0.0    0.0    0.0    0.0    0.0   \n",
       "151657   ...    0.0    0.0    0.0    0.0    0.0    0.0    0.0    0.0    0.0   \n",
       "151661   ...    0.0    0.0    0.0    0.0    0.0    0.0    0.0    0.0    0.0   \n",
       "\n",
       "userId   21530  \n",
       "movieId         \n",
       "1          1.0  \n",
       "2          0.5  \n",
       "3          0.0  \n",
       "4          0.0  \n",
       "5          0.0  \n",
       "...        ...  \n",
       "151507     0.0  \n",
       "151547     0.0  \n",
       "151593     0.0  \n",
       "151657     0.0  \n",
       "151661     0.0  \n",
       "\n",
       "[20049 rows x 21530 columns]"
      ]
     },
     "execution_count": 9,
     "metadata": {},
     "output_type": "execute_result"
    }
   ],
   "source": [
    "movies_users = movies_users.fillna(0)\n",
    "movies_users"
   ]
  },
  {
   "cell_type": "code",
   "execution_count": 10,
   "metadata": {
    "colab": {
     "base_uri": "https://localhost:8080/"
    },
    "id": "BIE5A2Oe8S4s",
    "outputId": "bad4d5df-b51b-4002-9548-3e6da0c23ba3"
   },
   "outputs": [
    {
     "data": {
      "text/plain": [
       "1"
      ]
     },
     "execution_count": 10,
     "metadata": {},
     "output_type": "execute_result"
    }
   ],
   "source": [
    "movies_users.index[0]"
   ]
  },
  {
   "cell_type": "code",
   "execution_count": 11,
   "metadata": {
    "colab": {
     "base_uri": "https://localhost:8080/"
    },
    "id": "e85EtSYs14HC",
    "outputId": "739202b6-e37a-458a-b810-8abdf2a77270"
   },
   "outputs": [
    {
     "data": {
      "text/plain": [
       "array([[0. , 0. , 0. , ..., 0. , 0. , 1. ],\n",
       "       [0. , 0. , 0. , ..., 0. , 0. , 0.5],\n",
       "       [0. , 0. , 0. , ..., 0. , 0. , 0. ],\n",
       "       ...,\n",
       "       [0. , 0. , 0. , ..., 0. , 0. , 0. ],\n",
       "       [0. , 0. , 0. , ..., 0. , 0. , 0. ],\n",
       "       [0. , 0. , 0. , ..., 0. , 0. , 0. ]])"
      ]
     },
     "execution_count": 11,
     "metadata": {},
     "output_type": "execute_result"
    }
   ],
   "source": [
    "X = movies_users.values\n",
    "X"
   ]
  },
  {
   "cell_type": "markdown",
   "metadata": {
    "id": "lueM62iZVJDR"
   },
   "source": [
    "# NearestNeighbors\n",
    "# Item-based"
   ]
  },
  {
   "cell_type": "code",
   "execution_count": 13,
   "metadata": {
    "id": "kVgtsn_UxkFK"
   },
   "outputs": [],
   "source": [
    "from sklearn.neighbors import NearestNeighbors\n",
    "nbrs = NearestNeighbors(metric = 'cosine', algorithm='brute', n_neighbors=30).fit(X)"
   ]
  },
  {
   "cell_type": "code",
   "execution_count": 14,
   "metadata": {
    "colab": {
     "base_uri": "https://localhost:8080/"
    },
    "id": "W3ri4pwg5c_i",
    "outputId": "89f441ab-711c-4bfe-d6f6-91fd977b6474"
   },
   "outputs": [
    {
     "name": "stdout",
     "output_type": "stream",
     "text": [
      "Collecting fuzzywuzzy\n",
      "  Downloading fuzzywuzzy-0.18.0-py2.py3-none-any.whl (18 kB)\n",
      "Installing collected packages: fuzzywuzzy\n",
      "Successfully installed fuzzywuzzy-0.18.0\n"
     ]
    },
    {
     "name": "stderr",
     "output_type": "stream",
     "text": [
      "C:\\Users\\leodr\\anaconda3\\lib\\site-packages\\fuzzywuzzy\\fuzz.py:11: UserWarning: Using slow pure-python SequenceMatcher. Install python-Levenshtein to remove this warning\n",
      "  warnings.warn('Using slow pure-python SequenceMatcher. Install python-Levenshtein to remove this warning')\n"
     ]
    },
    {
     "data": {
      "text/plain": [
       "257"
      ]
     },
     "execution_count": 14,
     "metadata": {},
     "output_type": "execute_result"
    }
   ],
   "source": [
    "!pip install fuzzywuzzy\n",
    "from fuzzywuzzy import process\n",
    "idx = process.extractOne('Star Wars',movies_df['title'])[2]\n",
    "idx"
   ]
  },
  {
   "cell_type": "code",
   "execution_count": 15,
   "metadata": {
    "colab": {
     "base_uri": "https://localhost:8080/"
    },
    "id": "bUzyNSueU8PV",
    "outputId": "1137d0a0-9ea9-473f-b981-53f8dc826494"
   },
   "outputs": [
    {
     "data": {
      "text/plain": [
       "257"
      ]
     },
     "execution_count": 15,
     "metadata": {},
     "output_type": "execute_result"
    }
   ],
   "source": [
    "idx"
   ]
  },
  {
   "cell_type": "code",
   "execution_count": 16,
   "metadata": {
    "colab": {
     "base_uri": "https://localhost:8080/"
    },
    "id": "_YOvKROdShCe",
    "outputId": "d2dbb504-d7c1-4624-c6cd-dea3e7daab05"
   },
   "outputs": [
    {
     "data": {
      "text/plain": [
       "array([0., 0., 0., ..., 0., 0., 0.])"
      ]
     },
     "execution_count": 16,
     "metadata": {},
     "output_type": "execute_result"
    }
   ],
   "source": [
    "X[idx]"
   ]
  },
  {
   "cell_type": "code",
   "execution_count": 17,
   "metadata": {
    "id": "MKrA4wCBMSuS"
   },
   "outputs": [],
   "source": [
    "distances, indices = nbrs.kneighbors(X[idx].reshape(1,-1),n_neighbors=30)"
   ]
  },
  {
   "cell_type": "code",
   "execution_count": 18,
   "metadata": {
    "colab": {
     "base_uri": "https://localhost:8080/"
    },
    "id": "-yu8s8PYSqws",
    "outputId": "9ba0abbb-8d5f-41ef-b8f2-7cb07d7d2643"
   },
   "outputs": [
    {
     "data": {
      "text/plain": [
       "array([[0.        , 0.65748352, 0.72701657, 0.75050514, 0.76589887,\n",
       "        0.76955754, 0.77180163, 0.77507263, 0.78805406, 0.78859674,\n",
       "        0.78893344, 0.79317384, 0.79340141, 0.79438022, 0.79515763,\n",
       "        0.79570772, 0.79927718, 0.80029175, 0.80052894, 0.80286958,\n",
       "        0.80354663, 0.80356768, 0.8041328 , 0.8048105 , 0.80495012,\n",
       "        0.80504469, 0.8070745 , 0.8078501 , 0.80830841, 0.81006055]])"
      ]
     },
     "execution_count": 18,
     "metadata": {},
     "output_type": "execute_result"
    }
   ],
   "source": [
    "distances"
   ]
  },
  {
   "cell_type": "code",
   "execution_count": 19,
   "metadata": {
    "colab": {
     "base_uri": "https://localhost:8080/"
    },
    "id": "rtlOp2XkT4IZ",
    "outputId": "9e77f553-cda7-4cf1-b679-707ad30b1341",
    "scrolled": true
   },
   "outputs": [
    {
     "name": "stdout",
     "output_type": "stream",
     "text": [
      "257                                                  NaN\n",
      "524                                    Scout, The (1994)\n",
      "256                                 Kiss of Death (1995)\n",
      "309                       Stuart Saves His Family (1995)\n",
      "33                                           Babe (1995)\n",
      "47                                     Pocahontas (1995)\n",
      "585                              Tough and Deadly (1995)\n",
      "584                            Dances with Wolves (1990)\n",
      "586                                        Batman (1989)\n",
      "217                                     Cure, The (1995)\n",
      "59                    Indian in the Cupboard, The (1995)\n",
      "38                                       Clueless (1995)\n",
      "16                          Sense and Sensibility (1995)\n",
      "470                           In the Line of Fire (1993)\n",
      "578    I Don't Want to Talk About It (De eso no se ha...\n",
      "276                                     My Family (1995)\n",
      "358                              Jungle Book, The (1994)\n",
      "272                                    Mixed Nuts (1994)\n",
      "154                              Blue in the Face (1995)\n",
      "312                               Specialist, The (1994)\n",
      "448                                  Widows' Peak (1994)\n",
      "522             Savage Nights (Nuits fauves, Les) (1992)\n",
      "812                     Convent, The (O Convento) (1995)\n",
      "333                   What's Eating Gilbert Grape (1993)\n",
      "355                           I Like It Like That (1994)\n",
      "958                       Something to Sing About (1937)\n",
      "345                      Clear and Present Danger (1994)\n",
      "567                               Foreign Student (1994)\n",
      "606                               Pallbearer, The (1996)\n",
      "532                       Simple Twist of Fate, A (1994)\n",
      "Name: title, dtype: object\n"
     ]
    }
   ],
   "source": [
    "for k in indices: \n",
    "  print(movies_df['title'][k].where(k!=idx))"
   ]
  },
  {
   "cell_type": "markdown",
   "metadata": {
    "id": "-ic7iHFXf96v"
   },
   "source": [
    "# Matrix Factorization"
   ]
  },
  {
   "cell_type": "markdown",
   "metadata": {
    "id": "NtibTP-Ef7ds"
   },
   "source": [
    "![image.png](data:image/png;base64,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)"
   ]
  },
  {
   "cell_type": "code",
   "execution_count": 15,
   "metadata": {
    "id": "bbJNXj74TF7s"
   },
   "outputs": [],
   "source": []
  }
 ],
 "metadata": {
  "colab": {
   "collapsed_sections": [
    "ub7uNsGX2HS0",
    "YTi2RHRf2HS1"
   ],
   "include_colab_link": true,
   "name": "Collaborative_aula(NearestNeighbors -ItemBased).ipynb",
   "provenance": [],
   "toc_visible": true
  },
  "kernelspec": {
   "display_name": "Python 3",
   "language": "python",
   "name": "python3"
  },
  "language_info": {
   "codemirror_mode": {
    "name": "ipython",
    "version": 3
   },
   "file_extension": ".py",
   "mimetype": "text/x-python",
   "name": "python",
   "nbconvert_exporter": "python",
   "pygments_lexer": "ipython3",
   "version": "3.8.8"
  }
 },
 "nbformat": 4,
 "nbformat_minor": 1
}
