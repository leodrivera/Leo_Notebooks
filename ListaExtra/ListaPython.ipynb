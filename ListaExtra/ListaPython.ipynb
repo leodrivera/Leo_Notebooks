{
  "nbformat": 4,
  "nbformat_minor": 0,
  "metadata": {
    "colab": {
      "name": "ListaPython.ipynb",
      "provenance": [],
      "collapsed_sections": [],
      "authorship_tag": "ABX9TyOXZUPjUglKdlbEZdcpFTB5",
      "include_colab_link": true
    },
    "kernelspec": {
      "name": "python3",
      "display_name": "Python 3"
    },
    "language_info": {
      "name": "python"
    }
  },
  "cells": [
    {
      "cell_type": "markdown",
      "metadata": {
        "id": "view-in-github",
        "colab_type": "text"
      },
      "source": [
        "<a href=\"https://colab.research.google.com/github/CharlesPrado23/Notebooks/blob/main/ListaExtra/ListaPython.ipynb\" target=\"_parent\"><img src=\"https://colab.research.google.com/assets/colab-badge.svg\" alt=\"Open In Colab\"/></a>"
      ]
    },
    {
      "cell_type": "markdown",
      "metadata": {
        "id": "bcBbnG9xYoPI"
      },
      "source": [
        "# Lista de Exercícios"
      ]
    },
    {
      "cell_type": "markdown",
      "metadata": {
        "id": "yb97KeDvYz_O"
      },
      "source": [
        "1) Escreva um programa que acha todos os números entre 1500 e 3500, no qual cada digíto do número é um número par.\n",
        "\n"
      ]
    },
    {
      "cell_type": "code",
      "metadata": {
        "id": "--wlmAJAYjPv"
      },
      "source": [
        ""
      ],
      "execution_count": null,
      "outputs": []
    },
    {
      "cell_type": "markdown",
      "metadata": {
        "id": "aIyH86j4aBu9"
      },
      "source": [
        "2) Considere a seguinte \"string\" = \"The Movie 2019\". Escreva um programa que separe o nome do filme (\"The Movie\") do ano em que ele foi lançado (2019)"
      ]
    },
    {
      "cell_type": "code",
      "metadata": {
        "id": "U79ZLpdrahdK"
      },
      "source": [
        ""
      ],
      "execution_count": null,
      "outputs": []
    },
    {
      "cell_type": "markdown",
      "metadata": {
        "id": "iLH2hSitajzZ"
      },
      "source": [
        "3) Considere a lista de \"strings\" abaixo, e retorne somente aquelas que possuem \"Fl\". "
      ]
    },
    {
      "cell_type": "code",
      "metadata": {
        "colab": {
          "base_uri": "https://localhost:8080/"
        },
        "id": "BABUYDMZavX-",
        "outputId": "253ed6a5-1db1-4773-dea4-2d10cc276c19"
      },
      "source": [
        "s = ['Flamengo', 'Vasco', 'Botafogo', 'Fluminense', 'Floripa']\n"
      ],
      "execution_count": null,
      "outputs": [
        {
          "output_type": "execute_result",
          "data": {
            "text/plain": [
              "list"
            ]
          },
          "metadata": {
            "tags": []
          },
          "execution_count": 2
        }
      ]
    },
    {
      "cell_type": "markdown",
      "metadata": {
        "id": "DdoAyDCKeivz"
      },
      "source": [
        "4)  Escreva um programa que aceite uma sequência de palavras separadas por vírgulas como entrada e imprima as palavras em uma sequência separada por vírgulas após classificá-las em ordem alfabética. Suponha que a seguinte entrada seja fornecida ao programa: without, hello, bag, world Então, a saída deve ser: bag, hello, without, world"
      ]
    },
    {
      "cell_type": "code",
      "metadata": {
        "id": "GglIeuKAfVOy"
      },
      "source": [
        ""
      ],
      "execution_count": null,
      "outputs": []
    },
    {
      "cell_type": "markdown",
      "metadata": {
        "id": "UQexidvXf0Tn"
      },
      "source": [
        "5) Escreva um método que possa calcular o valor quadrado do número\n"
      ]
    },
    {
      "cell_type": "code",
      "metadata": {
        "id": "k5dlSyg1f3wU"
      },
      "source": [
        ""
      ],
      "execution_count": null,
      "outputs": []
    },
    {
      "cell_type": "markdown",
      "metadata": {
        "id": "NMg_DOypf50j"
      },
      "source": [
        "6) Um site exige que os usuários insiram nome de usuário e senha para se registrar. Escreva um programa para verificar a validade da entrada de senha pelos usuários.\n",
        "A seguir estão os critérios para verificar a senha:\n",
        "\n",
        "Pelo menos 1 letra entre [a-z]\n",
        "\n",
        "Pelo menos 1 número entre [0-9]\n",
        "\n",
        "Pelo menos 1 letra entre [A-Z]\n",
        "\n",
        "Pelo menos 1 caractere de [$ # @]\n",
        "\n",
        "Comprimento mínimo da senha de transação: 6\n",
        "\n",
        "Comprimento máximo da senha de transação: 12\n",
        "\n",
        "Seu programa deve aceitar uma sequência de senhas separadas por vírgulas e irá verificá-las de acordo com os critérios acima. As senhas que correspondem aos critérios devem ser impressas, cada uma separada por uma vírgula.\n",
        "\n",
        "146 / 5000\n",
        "Resultados de tradução\n",
        "Se as seguintes senhas forem fornecidas como entrada para o programa:\n",
        "ABd1234@1, a F1 #, 2w3E *, 2We3345\n",
        "\n",
        "Então, a saída do programa deve ser:\n",
        "ABd1234@1 "
      ]
    },
    {
      "cell_type": "code",
      "metadata": {
        "id": "O5pXc9bAiP-X"
      },
      "source": [
        ""
      ],
      "execution_count": null,
      "outputs": []
    },
    {
      "cell_type": "markdown",
      "metadata": {
        "id": "vKzTSE7GiQRy"
      },
      "source": [
        "7) Defina uma função que computa a soma de 2 números"
      ]
    },
    {
      "cell_type": "code",
      "metadata": {
        "id": "UFBYPEYAi0cO"
      },
      "source": [
        ""
      ],
      "execution_count": null,
      "outputs": []
    },
    {
      "cell_type": "markdown",
      "metadata": {
        "id": "HV7ZfOXti1BO"
      },
      "source": [
        "8) Carregue o arquivo 'IMDb movies.csv' e \n",
        "resolva as questões de  9 à 13"
      ]
    },
    {
      "cell_type": "markdown",
      "metadata": {
        "id": "e8dC_dZUo1AU"
      },
      "source": [
        ""
      ]
    },
    {
      "cell_type": "code",
      "metadata": {
        "id": "UNcxXIFdxA9b"
      },
      "source": [
        ""
      ],
      "execution_count": null,
      "outputs": []
    },
    {
      "cell_type": "markdown",
      "metadata": {
        "id": "u0vmredvrII5"
      },
      "source": [
        "9)  Observe que formato da coluna date_published é AAAA-MM-DD. Escreva um programa que altere o formato para DD-MM-AAAA. "
      ]
    },
    {
      "cell_type": "code",
      "metadata": {
        "id": "wdfKewoasRql"
      },
      "source": [
        ""
      ],
      "execution_count": null,
      "outputs": []
    },
    {
      "cell_type": "markdown",
      "metadata": {
        "id": "AOkummb5sSRK"
      },
      "source": [
        "10) Escreva um programa usando **For** que conte quantas posicões do DataFrame contém avg_vote > 5.0. \n",
        "\n",
        "    Compare o seu resultado com: df[df.avg_vote > 5.0].sum()"
      ]
    },
    {
      "cell_type": "code",
      "metadata": {
        "id": "hOCcIUALtsPF"
      },
      "source": [
        ""
      ],
      "execution_count": null,
      "outputs": []
    },
    {
      "cell_type": "markdown",
      "metadata": {
        "id": "zhROd59ytx0i"
      },
      "source": [
        "11) Selecione os filmes :\n",
        "\n",
        "* A partir de 1950\n",
        "\n",
        "* Feitos nos USA\n",
        "\n",
        "* Avg_vote > 7.5"
      ]
    },
    {
      "cell_type": "code",
      "metadata": {
        "id": "wV2jA5LKuFwv"
      },
      "source": [
        ""
      ],
      "execution_count": null,
      "outputs": []
    },
    {
      "cell_type": "markdown",
      "metadata": {
        "id": "_r2md5wLuHeQ"
      },
      "source": [
        "12) Escreva uma função que retorne a quantidade de NaN por colunas do Dataframe.  Teste na coluna 'budget'.\n",
        "    \n",
        "Compare o seu resultado com o método isna()"
      ]
    },
    {
      "cell_type": "code",
      "metadata": {
        "id": "YfyOhsvpu3Gs"
      },
      "source": [
        ""
      ],
      "execution_count": null,
      "outputs": []
    },
    {
      "cell_type": "markdown",
      "metadata": {
        "id": "yl_ib54W_AYP"
      },
      "source": [
        "13) Escreva um programa Pandas para obter os detalhes do filme com o título: \"Cleopatra\""
      ]
    },
    {
      "cell_type": "code",
      "metadata": {
        "id": "pML0FB9w_T__"
      },
      "source": [
        ""
      ],
      "execution_count": null,
      "outputs": []
    },
    {
      "cell_type": "markdown",
      "metadata": {
        "id": "iUPAFL7pu3rU"
      },
      "source": [
        "14)  Escreva um programa para obter o próximo dia de uma determinada data."
      ]
    },
    {
      "cell_type": "code",
      "metadata": {
        "id": "mnj1WAkRxQCI"
      },
      "source": [
        ""
      ],
      "execution_count": null,
      "outputs": []
    },
    {
      "cell_type": "markdown",
      "metadata": {
        "id": "_slXwzJGxQca"
      },
      "source": [
        "15)Escreva um programa para contar as ocorrências de cada palavra em uma determinada frase"
      ]
    },
    {
      "cell_type": "code",
      "metadata": {
        "id": "fgK8hre5xxeU"
      },
      "source": [
        ""
      ],
      "execution_count": null,
      "outputs": []
    },
    {
      "cell_type": "markdown",
      "metadata": {
        "id": "Rk1jHKb0xx4P"
      },
      "source": [
        "16)  Escreva uma função que receba duas listas e retorne True se elas tiverem pelo menos um membro comum."
      ]
    },
    {
      "cell_type": "code",
      "metadata": {
        "id": "MlRDkZ5J0LK2"
      },
      "source": [
        ""
      ],
      "execution_count": null,
      "outputs": []
    },
    {
      "cell_type": "markdown",
      "metadata": {
        "id": "JJyPyrDR0LvW"
      },
      "source": [
        "17)  Considerando as horas de estudo (X) Versus a nota obtida (Y). Analise se a relação entre as variaveis pode ser considerada linear"
      ]
    },
    {
      "cell_type": "code",
      "metadata": {
        "id": "TYoimVB94KU6"
      },
      "source": [
        "X = [2.5,\n",
        "5.1,\n",
        "3.2,\n",
        "8.5,\n",
        "3.5,\n",
        "1.5,\n",
        "9.2,\n",
        "5.5,\n",
        "8.3,\n",
        "2.7,\n",
        "7.7,\n",
        "5.9,\n",
        "4.5,\n",
        "3.3,\n",
        "1.1,\n",
        "8.9,\n",
        "2.5,\n",
        "1.9,\n",
        "6.1,\n",
        "7.4,\n",
        "2.7,\n",
        "4.8,\n",
        "3.8,\n",
        "6.9,\n",
        "7.8]\n"
      ],
      "execution_count": null,
      "outputs": []
    },
    {
      "cell_type": "code",
      "metadata": {
        "id": "qMNooo134Y4o"
      },
      "source": [
        "Y = [21,\n",
        "47,\n",
        "27,\n",
        "75,\n",
        "30,\n",
        "20,\n",
        "88,\n",
        "60,\n",
        "81,\n",
        "25,\n",
        "85,\n",
        "62,\n",
        "41,\n",
        "42,\n",
        "17,\n",
        "95,\n",
        "30,\n",
        "24,\n",
        "67,\n",
        "69,\n",
        "30,\n",
        "54,\n",
        "35,\n",
        "76,\n",
        "86]"
      ],
      "execution_count": null,
      "outputs": []
    },
    {
      "cell_type": "markdown",
      "metadata": {
        "id": "wYtAaliw35wT"
      },
      "source": [
        "18) Modelar o problema usando: \n",
        "\n",
        "    * Regressão Linear \n",
        "\n"
      ]
    },
    {
      "cell_type": "markdown",
      "metadata": {
        "id": "0tmIB1Ts6Z7h"
      },
      "source": [
        "19)  Modelar o problema usando:\n",
        "\n",
        "\n",
        "* Regressão Logística "
      ]
    },
    {
      "cell_type": "code",
      "metadata": {
        "id": "0mFCRaiL5EVO"
      },
      "source": [
        ""
      ],
      "execution_count": null,
      "outputs": []
    },
    {
      "cell_type": "markdown",
      "metadata": {
        "id": "WlDk_hdO4024"
      },
      "source": [
        "20) Escreva um programa para reverter uma string\n",
        "\n",
        "\"1234abcd\" ---> \"dcba4321\"\n"
      ]
    },
    {
      "cell_type": "code",
      "metadata": {
        "id": "DQyM4In55cpZ"
      },
      "source": [
        ""
      ],
      "execution_count": null,
      "outputs": []
    },
    {
      "cell_type": "markdown",
      "metadata": {
        "id": "-g3YMOre5diq"
      },
      "source": [
        " 21)  Carregue o arquivo 'fruit_data_with_colors.txt' como um dataframe"
      ]
    },
    {
      "cell_type": "code",
      "metadata": {
        "id": "mNu4HtHv792I"
      },
      "source": [
        ""
      ],
      "execution_count": null,
      "outputs": []
    },
    {
      "cell_type": "markdown",
      "metadata": {
        "id": "W4h_UICs7-NK"
      },
      "source": [
        "22) Desenvolva um modelo de classificação usando KNN "
      ]
    },
    {
      "cell_type": "code",
      "metadata": {
        "id": "xbEng_TB5bXa"
      },
      "source": [
        ""
      ],
      "execution_count": null,
      "outputs": []
    },
    {
      "cell_type": "markdown",
      "metadata": {
        "id": "1vUqZkCe8J7b"
      },
      "source": [
        "23) Desenvolva um modelo de classificação usando Árvore de Decisão \n"
      ]
    },
    {
      "cell_type": "code",
      "metadata": {
        "id": "a9pafb6P8QQ4"
      },
      "source": [
        ""
      ],
      "execution_count": null,
      "outputs": []
    },
    {
      "cell_type": "markdown",
      "metadata": {
        "id": "PEDxrGxg8Q2Q"
      },
      "source": [
        "24)  Desenvolva um modelo de classificação usando Regressão Logística"
      ]
    },
    {
      "cell_type": "code",
      "metadata": {
        "id": "KCU1UhE68Vgg"
      },
      "source": [
        ""
      ],
      "execution_count": null,
      "outputs": []
    },
    {
      "cell_type": "markdown",
      "metadata": {
        "id": "QjfAD7ev8WIU"
      },
      "source": [
        "25)  Desenvolva um modelo de classificação usando SVM"
      ]
    },
    {
      "cell_type": "code",
      "metadata": {
        "id": "orApNfGy8Yyg"
      },
      "source": [
        ""
      ],
      "execution_count": null,
      "outputs": []
    },
    {
      "cell_type": "markdown",
      "metadata": {
        "id": "Y8APSS1c8ZZt"
      },
      "source": [
        "26) Compare os diferentes modelos "
      ]
    },
    {
      "cell_type": "code",
      "metadata": {
        "id": "Q3rURwdZ5m3-"
      },
      "source": [
        ""
      ],
      "execution_count": null,
      "outputs": []
    },
    {
      "cell_type": "markdown",
      "metadata": {
        "id": "gU32Ut-g5nK0"
      },
      "source": [
        "27) Escreva um programa para verificar se uma string representa um valor inteiro ou não"
      ]
    },
    {
      "cell_type": "code",
      "metadata": {
        "id": "dgncL7BS79Fl"
      },
      "source": [
        ""
      ],
      "execution_count": null,
      "outputs": []
    },
    {
      "cell_type": "markdown",
      "metadata": {
        "id": "v5A957Jp7d3m"
      },
      "source": [
        ""
      ]
    }
  ]
}